{
 "cells": [
  {
   "cell_type": "markdown",
   "id": "92d04210-d45a-4532-b81c-259a139bfac9",
   "metadata": {},
   "source": [
    "# Topic Modeling"
   ]
  },
  {
   "cell_type": "markdown",
   "id": "c2505217-4d5d-4a07-9323-3e71990be65b",
   "metadata": {},
   "source": [
    "## Prepare Data"
   ]
  },
  {
   "cell_type": "code",
   "execution_count": 15,
   "id": "2a270367-2d54-46fb-85ec-ecbd0dc24783",
   "metadata": {
    "execution": {
     "iopub.execute_input": "2022-06-03T22:08:27.141381Z",
     "iopub.status.busy": "2022-06-03T22:08:27.141213Z",
     "iopub.status.idle": "2022-06-03T22:08:27.417972Z",
     "shell.execute_reply": "2022-06-03T22:08:27.417344Z",
     "shell.execute_reply.started": "2022-06-03T22:08:27.141359Z"
    },
    "tags": []
   },
   "outputs": [
    {
     "data": {
      "application/vnd.jupyter.widget-view+json": {
       "model_id": "c3e2f6a4c81742189c451606469a69c6",
       "version_major": 2,
       "version_minor": 0
      },
      "text/plain": [
       "VBox()"
      ]
     },
     "metadata": {},
     "output_type": "display_data"
    },
    {
     "data": {
      "application/vnd.jupyter.widget-view+json": {
       "model_id": "",
       "version_major": 2,
       "version_minor": 0
      },
      "text/plain": [
       "FloatProgress(value=0.0, bar_style='info', description='Progress:', layout=Layout(height='25px', width='50%'),…"
      ]
     },
     "metadata": {},
     "output_type": "display_data"
    }
   ],
   "source": [
    "df = amazon_cleaned.join(covid_cleaned, amazon_cleaned.review_date == covid_cleaned.date, \"leftouter\")\n",
    "df = df.na.fill(value=0,subset=[\"increase_cases\",\"increase_deaths\",\"cases\",\"deaths\"])"
   ]
  },
  {
   "cell_type": "code",
   "execution_count": 16,
   "id": "d3f61ce2-5250-4480-881d-d74d279be534",
   "metadata": {
    "execution": {
     "iopub.execute_input": "2022-06-03T22:08:27.418985Z",
     "iopub.status.busy": "2022-06-03T22:08:27.418820Z",
     "iopub.status.idle": "2022-06-03T22:08:27.880531Z",
     "shell.execute_reply": "2022-06-03T22:08:27.768346Z",
     "shell.execute_reply.started": "2022-06-03T22:08:27.418963Z"
    },
    "tags": []
   },
   "outputs": [
    {
     "data": {
      "application/vnd.jupyter.widget-view+json": {
       "model_id": "a7746d1d72af487881bebf473d224d96",
       "version_major": 2,
       "version_minor": 0
      },
      "text/plain": [
       "VBox()"
      ]
     },
     "metadata": {},
     "output_type": "display_data"
    },
    {
     "data": {
      "application/vnd.jupyter.widget-view+json": {
       "model_id": "",
       "version_major": 2,
       "version_minor": 0
      },
      "text/plain": [
       "FloatProgress(value=0.0, bar_style='info', description='Progress:', layout=Layout(height='25px', width='50%'),…"
      ]
     },
     "metadata": {},
     "output_type": "display_data"
    }
   ],
   "source": [
    "tm_df = df.withColumn('datediff', datediff(current_date(),col(\"review_date\")).alias(\"datediff\"))"
   ]
  },
  {
   "cell_type": "code",
   "execution_count": 17,
   "id": "389d5352-bb51-4bf7-99c3-cac80ff765ca",
   "metadata": {
    "execution": {
     "iopub.execute_input": "2022-06-03T22:08:27.881801Z",
     "iopub.status.busy": "2022-06-03T22:08:27.881546Z",
     "iopub.status.idle": "2022-06-03T22:08:28.017476Z",
     "shell.execute_reply": "2022-06-03T22:08:28.016699Z",
     "shell.execute_reply.started": "2022-06-03T22:08:27.881764Z"
    },
    "tags": []
   },
   "outputs": [
    {
     "data": {
      "application/vnd.jupyter.widget-view+json": {
       "model_id": "2af99b85f24a48ba86cc316e7388f17b",
       "version_major": 2,
       "version_minor": 0
      },
      "text/plain": [
       "VBox()"
      ]
     },
     "metadata": {},
     "output_type": "display_data"
    },
    {
     "data": {
      "application/vnd.jupyter.widget-view+json": {
       "model_id": "",
       "version_major": 2,
       "version_minor": 0
      },
      "text/plain": [
       "FloatProgress(value=0.0, bar_style='info', description='Progress:', layout=Layout(height='25px', width='50%'),…"
      ]
     },
     "metadata": {},
     "output_type": "display_data"
    }
   ],
   "source": [
    "tm_df = tm_df.withColumn('before', (tm_df.datediff < 864).cast(\"integer\"))"
   ]
  },
  {
   "cell_type": "code",
   "execution_count": 18,
   "id": "2d224a84-8968-449b-8812-28c0057ec046",
   "metadata": {
    "execution": {
     "iopub.execute_input": "2022-06-03T22:08:28.018963Z",
     "iopub.status.busy": "2022-06-03T22:08:28.018576Z",
     "iopub.status.idle": "2022-06-03T22:08:30.350023Z",
     "shell.execute_reply": "2022-06-03T22:08:30.349018Z",
     "shell.execute_reply.started": "2022-06-03T22:08:28.018926Z"
    },
    "tags": []
   },
   "outputs": [
    {
     "data": {
      "application/vnd.jupyter.widget-view+json": {
       "model_id": "789d1bced02947e0bd50e407abd76fea",
       "version_major": 2,
       "version_minor": 0
      },
      "text/plain": [
       "VBox()"
      ]
     },
     "metadata": {},
     "output_type": "display_data"
    },
    {
     "data": {
      "application/vnd.jupyter.widget-view+json": {
       "model_id": "",
       "version_major": 2,
       "version_minor": 0
      },
      "text/plain": [
       "FloatProgress(value=0.0, bar_style='info', description='Progress:', layout=Layout(height='25px', width='50%'),…"
      ]
     },
     "metadata": {},
     "output_type": "display_data"
    },
    {
     "name": "stdout",
     "output_type": "stream",
     "text": [
      "+-----+----------+--------------------+-----+----------+--------------+-------------+----+--------------------+-----------------+-----------+----+-----+------+--------------+---------------+--------+------+\n",
      "|index|product_id|               title|price|num_rating|overall_rating|helpful_votes|star|                text|  review_location|review_date|date|cases|deaths|increase_cases|increase_deaths|datediff|before|\n",
      "+-----+----------+--------------------+-----+----------+--------------+-------------+----+--------------------+-----------------+-----------+----+-----+------+--------------+---------------+--------+------+\n",
      "|    0|B00006IX59|Chuckit! Classic ...| 8.72|     46941|           4.7|          385| 4.0|\"After I broke my...|the United States| 2019-05-18|null|    0|     0|             0|              0|    1112|     0|\n",
      "|    1|B00006IX59|Chuckit! Classic ...| 8.72|     46941|           4.7|          909| 3.0|Some (pointed) th...|the United States| 2015-07-15|null|    0|     0|             0|              0|    2515|     0|\n",
      "|    2|B00006IX59|Chuckit! Classic ...| 8.72|     46941|           4.7|          100| 5.0|\"I use this to th...|the United States| 2019-06-04|null|    0|     0|             0|              0|    1095|     0|\n",
      "|    3|B00006IX59|Chuckit! Classic ...| 8.72|     46941|           4.7|          145|null|Combined with the...|the United States| 2017-05-19|null|    0|     0|             0|              0|    1841|     0|\n",
      "|    4|B00006IX59|Chuckit! Classic ...| 8.72|     46941|           4.7|           50|null|I have a young Go...|the United States| 2019-04-07|null|    0|     0|             0|              0|    1153|     0|\n",
      "|    5|B00006IX59|Chuckit! Classic ...| 8.72|     46941|           4.7|           30| 5.0|\"His favorite toy...|the United States| 2019-08-13|null|    0|     0|             0|              0|    1025|     0|\n",
      "|    6|B00006IX59|Chuckit! Classic ...| 8.72|     46941|           4.7|           31| 5.0|\"Bought this for ...|the United States| 2019-01-12|null|    0|     0|             0|              0|    1238|     0|\n",
      "|    7|B00006IX59|Chuckit! Classic ...| 8.72|     46941|           4.7|           21| 4.0|I waited a while ...|the United States| 2020-04-28|null|    0|     0|             0|              0|     766|     1|\n",
      "|    8|B00006IX59|Chuckit! Classic ...| 8.72|     46941|           4.7|           24| 5.0|\"While my dog str...|the United States| 2017-12-11|null|    0|     0|             0|              0|    1635|     0|\n",
      "|    9|B00006IX59|Chuckit! Classic ...| 8.72|     46941|           4.7|           11| 3.0|I had the same la...|the United States| 2020-06-24|null|    0|     0|             0|              0|     709|     1|\n",
      "|   10|B00006IX59|Chuckit! Classic ...| 8.72|     46941|           4.7|           13| 5.0|I asked questions...|the United States| 2018-04-02|null|    0|     0|             0|              0|    1523|     0|\n",
      "|   11|B00006IX59|Chuckit! Classic ...| 8.72|     46941|           4.7|           25| 5.0|The media could n...|the United States| 2017-10-01|null|    0|     0|             0|              0|    1706|     0|\n",
      "|   12|B00006IX59|Chuckit! Classic ...| 8.72|     46941|           4.7|           16| 1.0|Too small!  Not e...|the United States| 2018-09-03|null|    0|     0|             0|              0|    1369|     0|\n",
      "|   13|B00006IX59|Chuckit! Classic ...| 8.72|     46941|           4.7|            5| 3.0|\"Let me confess- ...|the United States| 2021-02-08|null|    0|     0|             0|              0|     480|     1|\n",
      "|   14|B00006IX59|Chuckit! Classic ...| 8.72|     46941|           4.7|            1| 5.0|\"This is GREAT fo...|the United States| 2022-02-21|null|    0|     0|             0|              0|     102|     1|\n",
      "|   15|B00006IX59|Chuckit! Classic ...| 8.72|     46941|           4.7|           14| 5.0|\"I bought this fo...|the United States| 2018-09-26|null|    0|     0|             0|              0|    1346|     0|\n",
      "|   16|B00006IX59|Chuckit! Classic ...| 8.72|     46941|           4.7|            2| 1.0|I've used Chuck i...|the United States| 2022-03-14|null|    0|     0|             0|              0|      81|     1|\n",
      "|   17|B00006IX59|Chuckit! Classic ...| 8.72|     46941|           4.7|            7| 4.0|Cute small throwe...|the United States| 2020-08-03|null|    0|     0|             0|              0|     669|     1|\n",
      "|   18|B00006IX59|Chuckit! Classic ...| 8.72|     46941|           4.7|            3| 1.0|\"I have used Chuc...|the United States| 2021-10-25|null|    0|     0|             0|              0|     221|     1|\n",
      "|   19|B00006IX59|Chuckit! Classic ...| 8.72|     46941|           4.7|           18| 5.0|Careful, it's eas...|the United States| 2017-04-01|null|    0|     0|             0|              0|    1889|     0|\n",
      "+-----+----------+--------------------+-----+----------+--------------+-------------+----+--------------------+-----------------+-----------+----+-----+------+--------------+---------------+--------+------+\n",
      "only showing top 20 rows"
     ]
    }
   ],
   "source": [
    "tm_df.show()"
   ]
  },
  {
   "cell_type": "code",
   "execution_count": 19,
   "id": "3ff4635b-c6e7-4742-a2b7-7130a07022e2",
   "metadata": {
    "execution": {
     "iopub.execute_input": "2022-06-03T22:08:30.351671Z",
     "iopub.status.busy": "2022-06-03T22:08:30.351405Z",
     "iopub.status.idle": "2022-06-03T22:08:30.749483Z",
     "shell.execute_reply": "2022-06-03T22:08:30.748804Z",
     "shell.execute_reply.started": "2022-06-03T22:08:30.351633Z"
    },
    "tags": []
   },
   "outputs": [
    {
     "data": {
      "application/vnd.jupyter.widget-view+json": {
       "model_id": "276133667abc42c199d2a4f5808ad415",
       "version_major": 2,
       "version_minor": 0
      },
      "text/plain": [
       "VBox()"
      ]
     },
     "metadata": {},
     "output_type": "display_data"
    },
    {
     "data": {
      "application/vnd.jupyter.widget-view+json": {
       "model_id": "",
       "version_major": 2,
       "version_minor": 0
      },
      "text/plain": [
       "FloatProgress(value=0.0, bar_style='info', description='Progress:', layout=Layout(height='25px', width='50%'),…"
      ]
     },
     "metadata": {},
     "output_type": "display_data"
    }
   ],
   "source": [
    "before = tm_df.filter(tm_df.before==0)\n",
    "after = tm_df.filter(tm_df.before==1)"
   ]
  },
  {
   "cell_type": "markdown",
   "id": "44b7a06a-4e66-43d5-a87c-f9d83afdc840",
   "metadata": {},
   "source": [
    "## Before "
   ]
  },
  {
   "cell_type": "code",
   "execution_count": 20,
   "id": "1b63b437-56ab-4a7f-a895-ceff0809bf96",
   "metadata": {
    "execution": {
     "iopub.execute_input": "2022-06-03T22:08:30.750994Z",
     "iopub.status.busy": "2022-06-03T22:08:30.750717Z",
     "iopub.status.idle": "2022-06-03T22:08:30.829977Z",
     "shell.execute_reply": "2022-06-03T22:08:30.829395Z",
     "shell.execute_reply.started": "2022-06-03T22:08:30.750958Z"
    },
    "tags": []
   },
   "outputs": [
    {
     "data": {
      "application/vnd.jupyter.widget-view+json": {
       "model_id": "1c29fa45c5004b8d833dd6cee032ab62",
       "version_major": 2,
       "version_minor": 0
      },
      "text/plain": [
       "VBox()"
      ]
     },
     "metadata": {},
     "output_type": "display_data"
    },
    {
     "data": {
      "application/vnd.jupyter.widget-view+json": {
       "model_id": "",
       "version_major": 2,
       "version_minor": 0
      },
      "text/plain": [
       "FloatProgress(value=0.0, bar_style='info', description='Progress:', layout=Layout(height='25px', width='50%'),…"
      ]
     },
     "metadata": {},
     "output_type": "display_data"
    }
   ],
   "source": [
    "# reference: https://medium.com/trustyou-engineering/topic-modelling-with-pyspark-and-spark-nlp-a99d063f1a6e\n",
    "from pyspark.sql import functions as F\n",
    "data = before\n",
    "text_col = 'text'\n",
    "review_text = data.select(text_col).filter(F.col(text_col).isNotNull())"
   ]
  },
  {
   "cell_type": "code",
   "execution_count": 21,
   "id": "6ec6785f-912e-43bb-a4c4-f635f427356a",
   "metadata": {
    "execution": {
     "iopub.execute_input": "2022-06-03T22:08:30.831465Z",
     "iopub.status.busy": "2022-06-03T22:08:30.831200Z",
     "iopub.status.idle": "2022-06-03T22:08:52.234309Z",
     "shell.execute_reply": "2022-06-03T22:08:52.233538Z",
     "shell.execute_reply.started": "2022-06-03T22:08:30.831429Z"
    },
    "tags": []
   },
   "outputs": [
    {
     "data": {
      "application/vnd.jupyter.widget-view+json": {
       "model_id": "b38c2a5797914694a91126fad092e85b",
       "version_major": 2,
       "version_minor": 0
      },
      "text/plain": [
       "VBox()"
      ]
     },
     "metadata": {},
     "output_type": "display_data"
    },
    {
     "data": {
      "application/vnd.jupyter.widget-view+json": {
       "model_id": "",
       "version_major": 2,
       "version_minor": 0
      },
      "text/plain": [
       "FloatProgress(value=0.0, bar_style='info', description='Progress:', layout=Layout(height='25px', width='50%'),…"
      ]
     },
     "metadata": {},
     "output_type": "display_data"
    },
    {
     "name": "stdout",
     "output_type": "stream",
     "text": [
      "lemma_antbnc download started this may take some time.\n",
      "Approximate size to download 907.6 KB\n",
      "[OK!]"
     ]
    }
   ],
   "source": [
    "from sparknlp.base import DocumentAssembler\n",
    "from sparknlp.annotator import Tokenizer\n",
    "from sparknlp.annotator import Normalizer\n",
    "from sparknlp.annotator import LemmatizerModel\n",
    "from sparknlp.annotator import PerceptronModel\n",
    "from sparknlp.annotator import Chunker\n",
    "from sparknlp.base import Finisher\n",
    "\n",
    "documentAssembler = DocumentAssembler() \\\n",
    "     .setInputCol(text_col) \\\n",
    "     .setOutputCol('document')\n",
    "\n",
    "tokenizer = Tokenizer() \\\n",
    "     .setInputCols(['document']) \\\n",
    "     .setOutputCol('tokenized')\n",
    "\n",
    "normalizer = Normalizer() \\\n",
    "     .setInputCols(['tokenized']) \\\n",
    "     .setOutputCol('normalized') \\\n",
    "     .setLowercase(True)\n",
    "    \n",
    "lemmatizer = LemmatizerModel.pretrained() \\\n",
    "     .setInputCols(['normalized']) \\\n",
    "     .setOutputCol('lemmatized')\n",
    "\n",
    "finisher_lemma = Finisher()\\\n",
    "      .setInputCols(\"lemmatized\").setOutputCols(\"lemma\")\n",
    "\n",
    "from pyspark.sql.functions import regexp_replace\n",
    "from pyspark.ml.feature import Tokenizer, StopWordsRemover, HashingTF, IDF\n",
    "stopwords_cleaner = StopWordsRemover(inputCol='lemma',outputCol='no_stop_lemmatized')"
   ]
  },
  {
   "cell_type": "code",
   "execution_count": 22,
   "id": "bf76d68a-0fa8-49ca-91a2-accb25f75b45",
   "metadata": {
    "execution": {
     "iopub.execute_input": "2022-06-03T22:08:52.235916Z",
     "iopub.status.busy": "2022-06-03T22:08:52.235651Z",
     "iopub.status.idle": "2022-06-03T22:09:11.641515Z",
     "shell.execute_reply": "2022-06-03T22:09:11.638247Z",
     "shell.execute_reply.started": "2022-06-03T22:08:52.235877Z"
    },
    "tags": []
   },
   "outputs": [
    {
     "data": {
      "application/vnd.jupyter.widget-view+json": {
       "model_id": "5aa4fe08fab04e2a9c27a998c1e367e5",
       "version_major": 2,
       "version_minor": 0
      },
      "text/plain": [
       "VBox()"
      ]
     },
     "metadata": {},
     "output_type": "display_data"
    },
    {
     "data": {
      "application/vnd.jupyter.widget-view+json": {
       "model_id": "",
       "version_major": 2,
       "version_minor": 0
      },
      "text/plain": [
       "FloatProgress(value=0.0, bar_style='info', description='Progress:', layout=Layout(height='25px', width='50%'),…"
      ]
     },
     "metadata": {},
     "output_type": "display_data"
    },
    {
     "name": "stdout",
     "output_type": "stream",
     "text": [
      "pos_anc download started this may take some time.\n",
      "Approximate size to download 3.9 MB\n",
      "[OK!]"
     ]
    }
   ],
   "source": [
    "pos_tagger = PerceptronModel.pretrained('pos_anc') \\\n",
    "     .setInputCols(['document', 'lemmatized']) \\\n",
    "     .setOutputCol('pos')\n",
    "\n",
    "allowed_tags = ['<JJ>+<NN>', '<NN>+<NN>']\n",
    "chunker = Chunker() \\\n",
    "     .setInputCols(['document', 'pos']) \\\n",
    "     .setOutputCol('ngrams') \\\n",
    "     .setRegexParsers(allowed_tags)\n",
    "\n",
    "finisher = Finisher() \\\n",
    "     .setInputCols(['unigrams', 'ngrams'])"
   ]
  },
  {
   "cell_type": "code",
   "execution_count": 23,
   "id": "090c6f78-ec35-4073-9bb8-c760aafa64af",
   "metadata": {
    "execution": {
     "iopub.execute_input": "2022-06-03T22:09:11.643933Z",
     "iopub.status.busy": "2022-06-03T22:09:11.643749Z",
     "iopub.status.idle": "2022-06-03T22:09:11.712432Z",
     "shell.execute_reply": "2022-06-03T22:09:11.711840Z",
     "shell.execute_reply.started": "2022-06-03T22:09:11.643909Z"
    },
    "tags": []
   },
   "outputs": [
    {
     "data": {
      "application/vnd.jupyter.widget-view+json": {
       "model_id": "9acfb7ede7f14e5faecff386ba4a654a",
       "version_major": 2,
       "version_minor": 0
      },
      "text/plain": [
       "VBox()"
      ]
     },
     "metadata": {},
     "output_type": "display_data"
    },
    {
     "data": {
      "application/vnd.jupyter.widget-view+json": {
       "model_id": "",
       "version_major": 2,
       "version_minor": 0
      },
      "text/plain": [
       "FloatProgress(value=0.0, bar_style='info', description='Progress:', layout=Layout(height='25px', width='50%'),…"
      ]
     },
     "metadata": {},
     "output_type": "display_data"
    }
   ],
   "source": [
    "from pyspark.ml import Pipeline\n",
    "pipeline = Pipeline() \\\n",
    "     .setStages([documentAssembler,\n",
    "                 tokenizer,\n",
    "                 normalizer,\n",
    "                 lemmatizer,\n",
    "                 finisher_lemma,\n",
    "                 stopwords_cleaner])"
   ]
  },
  {
   "cell_type": "code",
   "execution_count": 24,
   "id": "4ca75570-d14d-4e01-b199-697e94ad20b3",
   "metadata": {
    "execution": {
     "iopub.execute_input": "2022-06-03T22:09:11.714187Z",
     "iopub.status.busy": "2022-06-03T22:09:11.713914Z",
     "iopub.status.idle": "2022-06-03T22:09:12.542427Z",
     "shell.execute_reply": "2022-06-03T22:09:12.541791Z",
     "shell.execute_reply.started": "2022-06-03T22:09:11.714150Z"
    },
    "tags": []
   },
   "outputs": [
    {
     "data": {
      "application/vnd.jupyter.widget-view+json": {
       "model_id": "48b50660fa754fc89fb63cd6b2d0c66a",
       "version_major": 2,
       "version_minor": 0
      },
      "text/plain": [
       "VBox()"
      ]
     },
     "metadata": {},
     "output_type": "display_data"
    },
    {
     "data": {
      "application/vnd.jupyter.widget-view+json": {
       "model_id": "",
       "version_major": 2,
       "version_minor": 0
      },
      "text/plain": [
       "FloatProgress(value=0.0, bar_style='info', description='Progress:', layout=Layout(height='25px', width='50%'),…"
      ]
     },
     "metadata": {},
     "output_type": "display_data"
    }
   ],
   "source": [
    "processed_review = pipeline.fit(review_text).transform(review_text)"
   ]
  },
  {
   "cell_type": "code",
   "execution_count": 25,
   "id": "de28a1f1-73a7-456b-86cf-392119348a19",
   "metadata": {
    "execution": {
     "iopub.execute_input": "2022-06-03T22:09:12.543901Z",
     "iopub.status.busy": "2022-06-03T22:09:12.543510Z",
     "iopub.status.idle": "2022-06-03T22:10:18.114068Z",
     "shell.execute_reply": "2022-06-03T22:10:18.113330Z",
     "shell.execute_reply.started": "2022-06-03T22:09:12.543862Z"
    },
    "tags": []
   },
   "outputs": [
    {
     "data": {
      "application/vnd.jupyter.widget-view+json": {
       "model_id": "f56514821d2243e98b5e88751fe4a440",
       "version_major": 2,
       "version_minor": 0
      },
      "text/plain": [
       "VBox()"
      ]
     },
     "metadata": {},
     "output_type": "display_data"
    },
    {
     "data": {
      "application/vnd.jupyter.widget-view+json": {
       "model_id": "",
       "version_major": 2,
       "version_minor": 0
      },
      "text/plain": [
       "FloatProgress(value=0.0, bar_style='info', description='Progress:', layout=Layout(height='25px', width='50%'),…"
      ]
     },
     "metadata": {},
     "output_type": "display_data"
    }
   ],
   "source": [
    "from pyspark.ml.feature import CountVectorizer\n",
    "from pyspark.ml.feature import IDF\n",
    "\n",
    "tfizer = CountVectorizer(inputCol='no_stop_lemmatized',\n",
    "                         outputCol='tf_features')\n",
    "tf_model = tfizer.fit(processed_review)\n",
    "tf_result = tf_model.transform(processed_review)\n",
    "\n",
    "idfizer = IDF(inputCol='tf_features', \n",
    "              outputCol='tf_idf_features')\n",
    "idf_model = idfizer.fit(tf_result)\n",
    "tfidf_result = idf_model.transform(tf_result)"
   ]
  },
  {
   "cell_type": "code",
   "execution_count": 26,
   "id": "d8e79b20-6b65-40b2-b07b-d59e9c8138c9",
   "metadata": {
    "execution": {
     "iopub.execute_input": "2022-06-03T22:10:18.115134Z",
     "iopub.status.busy": "2022-06-03T22:10:18.114949Z",
     "iopub.status.idle": "2022-06-03T22:11:50.463970Z",
     "shell.execute_reply": "2022-06-03T22:11:50.434818Z",
     "shell.execute_reply.started": "2022-06-03T22:10:18.115111Z"
    },
    "tags": []
   },
   "outputs": [
    {
     "data": {
      "application/vnd.jupyter.widget-view+json": {
       "model_id": "bf38b630e1284d9ab700ed0df9325eb1",
       "version_major": 2,
       "version_minor": 0
      },
      "text/plain": [
       "VBox()"
      ]
     },
     "metadata": {},
     "output_type": "display_data"
    },
    {
     "data": {
      "application/vnd.jupyter.widget-view+json": {
       "model_id": "",
       "version_major": 2,
       "version_minor": 0
      },
      "text/plain": [
       "FloatProgress(value=0.0, bar_style='info', description='Progress:', layout=Layout(height='25px', width='50%'),…"
      ]
     },
     "metadata": {},
     "output_type": "display_data"
    }
   ],
   "source": [
    "from pyspark.ml.clustering import LDA\n",
    "num_topics = 6\n",
    "max_iter = 50\n",
    "lda = LDA(k=num_topics, \n",
    "          maxIter=max_iter, \n",
    "          featuresCol='tf_idf_features')\n",
    "lda_model = lda.fit(tfidf_result)"
   ]
  },
  {
   "cell_type": "code",
   "execution_count": 27,
   "id": "ff8b083f-44b2-4622-852f-00cb4bf9999b",
   "metadata": {
    "execution": {
     "iopub.execute_input": "2022-06-03T22:11:50.475727Z",
     "iopub.status.busy": "2022-06-03T22:11:50.475159Z",
     "iopub.status.idle": "2022-06-03T22:11:51.277296Z",
     "shell.execute_reply": "2022-06-03T22:11:51.276650Z",
     "shell.execute_reply.started": "2022-06-03T22:11:50.475650Z"
    },
    "tags": []
   },
   "outputs": [
    {
     "data": {
      "application/vnd.jupyter.widget-view+json": {
       "model_id": "0a51804fe9bc4b1baac90af23cc3bdb7",
       "version_major": 2,
       "version_minor": 0
      },
      "text/plain": [
       "VBox()"
      ]
     },
     "metadata": {},
     "output_type": "display_data"
    },
    {
     "data": {
      "application/vnd.jupyter.widget-view+json": {
       "model_id": "",
       "version_major": 2,
       "version_minor": 0
      },
      "text/plain": [
       "FloatProgress(value=0.0, bar_style='info', description='Progress:', layout=Layout(height='25px', width='50%'),…"
      ]
     },
     "metadata": {},
     "output_type": "display_data"
    }
   ],
   "source": [
    "import pyspark.sql.types as T\n",
    "vocab = tf_model.vocabulary\n",
    "def get_words(token_list):\n",
    "    return [vocab[token_id] for token_id in token_list]\n",
    "udf_to_words = F.udf(get_words, T.ArrayType(T.StringType()))"
   ]
  },
  {
   "cell_type": "code",
   "execution_count": 28,
   "id": "7ab7470d-4def-4282-b64b-4ea32f025703",
   "metadata": {
    "execution": {
     "iopub.execute_input": "2022-06-03T22:11:51.278418Z",
     "iopub.status.busy": "2022-06-03T22:11:51.278235Z",
     "iopub.status.idle": "2022-06-03T22:11:53.601228Z",
     "shell.execute_reply": "2022-06-03T22:11:53.599810Z",
     "shell.execute_reply.started": "2022-06-03T22:11:51.278389Z"
    },
    "tags": []
   },
   "outputs": [
    {
     "data": {
      "application/vnd.jupyter.widget-view+json": {
       "model_id": "79a6c5e59a91482fa43f3995cbc07521",
       "version_major": 2,
       "version_minor": 0
      },
      "text/plain": [
       "VBox()"
      ]
     },
     "metadata": {},
     "output_type": "display_data"
    },
    {
     "data": {
      "application/vnd.jupyter.widget-view+json": {
       "model_id": "",
       "version_major": 2,
       "version_minor": 0
      },
      "text/plain": [
       "FloatProgress(value=0.0, bar_style='info', description='Progress:', layout=Layout(height='25px', width='50%'),…"
      ]
     },
     "metadata": {},
     "output_type": "display_data"
    },
    {
     "name": "stdout",
     "output_type": "stream",
     "text": [
      "+-----+-----------------------------------------------------+----------------------------------------------------------------------------------------------------+------------------------------------------------------------------+\n",
      "|topic|                                          termIndices|                                                                                         termWeights|                                                        topicWords|\n",
      "+-----+-----------------------------------------------------+----------------------------------------------------------------------------------------------------+------------------------------------------------------------------+\n",
      "|    0|                 [1, 70, 21, 4, 122, 5, 2, 3, 16, 93]|[0.006931628151790679, 0.005946793510152523, 0.005090178446993778, 0.004654223075063661, 0.004631...|         [cat, water, bag, food, filter, one, get, use, eat, open]|\n",
      "|    1|                  [23, 1, 26, 4, 3, 55, 24, 0, 19, 9]|[0.011660870409572236, 0.0074851153267948885, 0.007075426486044558, 0.006921379607500653, 0.00426...|          [litter, cat, box, food, use, vet, year, dog, day, well]|\n",
      "|    2|                [0, 92, 119, 7, 4, 22, 71, 31, 16, 6]|[0.009096197961856815, 0.006838715119213326, 0.006577993104418404, 0.006400446135722093, 0.006012...|      [dog, toy, tooth, love, food, treat, chew, smell, eat, like]|\n",
      "|    3|            [92, 7, 71, 538, 301, 22, 201, 6, 501, 1]|[0.004927156593274857, 0.004880793311432379, 0.0044463444218628325, 0.0044045914804709966, 0.0042...|         [toy, love, chew, hay, bone, treat, ball, like, pig, cat]|\n",
      "|    4|[595, 435, 632, 514, 835, 248, 1480, 1434, 991, 1625]|[0.00907528225029609, 0.008945079275570571, 0.007159885835199049, 0.004196369458638575, 0.0035789...|[seat, leash, diaper, car, harness, cover, u, velcro, strap, belt]|\n",
      "|    5|             [85, 0, 192, 8, 13, 3, 160, 2, 143, 155]|[0.008757925937600991, 0.005198396003898652, 0.004887273036320645, 0.004743678723949424, 0.004697...|    [flea, dog, collar, product, work, use, pill, get, pad, spray]|\n",
      "+-----+-----------------------------------------------------+----------------------------------------------------------------------------------------------------+------------------------------------------------------------------+"
     ]
    }
   ],
   "source": [
    "num_top_words =10\n",
    "before_topics = lda_model.describeTopics(num_top_words).withColumn('topicWords', udf_to_words(F.col('termIndices')))\n",
    "before_topics.show(truncate=100)"
   ]
  },
  {
   "cell_type": "code",
   "execution_count": 29,
   "id": "4593e69b-371b-4186-b7eb-81a44943f337",
   "metadata": {
    "execution": {
     "iopub.execute_input": "2022-06-03T22:11:53.602668Z",
     "iopub.status.busy": "2022-06-03T22:11:53.602375Z",
     "iopub.status.idle": "2022-06-03T22:11:56.114368Z",
     "shell.execute_reply": "2022-06-03T22:11:56.084436Z",
     "shell.execute_reply.started": "2022-06-03T22:11:53.602630Z"
    },
    "tags": []
   },
   "outputs": [
    {
     "data": {
      "application/vnd.jupyter.widget-view+json": {
       "model_id": "7d080bf0a12b40f7ae4e3cf60a953f7a",
       "version_major": 2,
       "version_minor": 0
      },
      "text/plain": [
       "VBox()"
      ]
     },
     "metadata": {},
     "output_type": "display_data"
    },
    {
     "data": {
      "application/vnd.jupyter.widget-view+json": {
       "model_id": "",
       "version_major": 2,
       "version_minor": 0
      },
      "text/plain": [
       "FloatProgress(value=0.0, bar_style='info', description='Progress:', layout=Layout(height='25px', width='50%'),…"
      ]
     },
     "metadata": {},
     "output_type": "display_data"
    }
   ],
   "source": [
    "before_topics.write.parquet(\"s3n://lzhang19/lda/before\")"
   ]
  },
  {
   "cell_type": "code",
   "execution_count": 30,
   "id": "12ced716-9d10-4b9c-8777-4f37bc830349",
   "metadata": {
    "execution": {
     "iopub.execute_input": "2022-06-03T22:11:56.115576Z",
     "iopub.status.busy": "2022-06-03T22:11:56.115377Z",
     "iopub.status.idle": "2022-06-03T22:11:57.407485Z",
     "shell.execute_reply": "2022-06-03T22:11:57.406757Z",
     "shell.execute_reply.started": "2022-06-03T22:11:56.115546Z"
    },
    "tags": []
   },
   "outputs": [
    {
     "data": {
      "application/vnd.jupyter.widget-view+json": {
       "model_id": "5c110e9ac0664df4b566345a3609a382",
       "version_major": 2,
       "version_minor": 0
      },
      "text/plain": [
       "VBox()"
      ]
     },
     "metadata": {},
     "output_type": "display_data"
    },
    {
     "data": {
      "application/vnd.jupyter.widget-view+json": {
       "model_id": "",
       "version_major": 2,
       "version_minor": 0
      },
      "text/plain": [
       "FloatProgress(value=0.0, bar_style='info', description='Progress:', layout=Layout(height='25px', width='50%'),…"
      ]
     },
     "metadata": {},
     "output_type": "display_data"
    }
   ],
   "source": [
    "from pyspark.sql.functions import udf\n",
    "from pyspark.sql.types import StringType\n",
    "\n",
    "def array_to_string(my_list):\n",
    "    return '[' + ','.join([str(elem) for elem in my_list]) + ']'\n",
    "\n",
    "array_to_string_udf = udf(array_to_string, StringType())\n",
    "\n",
    "df = before_topics.withColumn('termIndices', array_to_string_udf(before_topics[\"termIndices\"]))\n",
    "df = df.withColumn('termWeights', array_to_string_udf(df[\"termWeights\"]))\n",
    "df = df.withColumn('topicWords', array_to_string_udf(df[\"topicWords\"]))\n",
    "\n",
    "df.coalesce(1).write.csv('s3n://lzhang19/output/before.csv')"
   ]
  },
  {
   "cell_type": "markdown",
   "id": "fb32a924-e739-40fd-9154-089e3006ca5a",
   "metadata": {},
   "source": [
    "## After"
   ]
  },
  {
   "cell_type": "code",
   "execution_count": 31,
   "id": "c2ff653d-a978-4c0b-8250-c062091915d6",
   "metadata": {
    "execution": {
     "iopub.execute_input": "2022-06-03T22:11:57.408649Z",
     "iopub.status.busy": "2022-06-03T22:11:57.408461Z",
     "iopub.status.idle": "2022-06-03T22:12:04.714942Z",
     "shell.execute_reply": "2022-06-03T22:12:04.714197Z",
     "shell.execute_reply.started": "2022-06-03T22:11:57.408625Z"
    },
    "tags": []
   },
   "outputs": [
    {
     "data": {
      "application/vnd.jupyter.widget-view+json": {
       "model_id": "e9b55a2af8094a05a3534b2c5ab7e722",
       "version_major": 2,
       "version_minor": 0
      },
      "text/plain": [
       "VBox()"
      ]
     },
     "metadata": {},
     "output_type": "display_data"
    },
    {
     "data": {
      "application/vnd.jupyter.widget-view+json": {
       "model_id": "",
       "version_major": 2,
       "version_minor": 0
      },
      "text/plain": [
       "FloatProgress(value=0.0, bar_style='info', description='Progress:', layout=Layout(height='25px', width='50%'),…"
      ]
     },
     "metadata": {},
     "output_type": "display_data"
    },
    {
     "name": "stdout",
     "output_type": "stream",
     "text": [
      "lemma_antbnc download started this may take some time.\n",
      "Approximate size to download 907.6 KB\n",
      "[OK!]\n",
      "pos_anc download started this may take some time.\n",
      "Approximate size to download 3.9 MB\n",
      "[OK!]"
     ]
    }
   ],
   "source": [
    "# reference: https://medium.com/trustyou-engineering/topic-modelling-with-pyspark-and-spark-nlp-a99d063f1a6e\n",
    "from pyspark.sql import functions as F\n",
    "data = after\n",
    "text_col = 'text'\n",
    "review_text = data.select(text_col).filter(F.col(text_col).isNotNull())\n",
    "\n",
    "from sparknlp.base import DocumentAssembler\n",
    "from sparknlp.annotator import Tokenizer\n",
    "from sparknlp.annotator import Normalizer\n",
    "from sparknlp.annotator import LemmatizerModel\n",
    "from sparknlp.annotator import PerceptronModel\n",
    "from sparknlp.annotator import Chunker\n",
    "from sparknlp.base import Finisher\n",
    "\n",
    "documentAssembler = DocumentAssembler() \\\n",
    "     .setInputCol(text_col) \\\n",
    "     .setOutputCol('document')\n",
    "\n",
    "tokenizer = Tokenizer() \\\n",
    "     .setInputCols(['document']) \\\n",
    "     .setOutputCol('tokenized')\n",
    "\n",
    "normalizer = Normalizer() \\\n",
    "     .setInputCols(['tokenized']) \\\n",
    "     .setOutputCol('normalized') \\\n",
    "     .setLowercase(True)\n",
    "    \n",
    "lemmatizer = LemmatizerModel.pretrained() \\\n",
    "     .setInputCols(['normalized']) \\\n",
    "     .setOutputCol('lemmatized')\n",
    "\n",
    "finisher_lemma = Finisher()\\\n",
    "      .setInputCols(\"lemmatized\").setOutputCols(\"lemma\")\n",
    "\n",
    "from pyspark.sql.functions import regexp_replace\n",
    "from pyspark.ml.feature import Tokenizer, StopWordsRemover, HashingTF, IDF\n",
    "stopwords_cleaner = StopWordsRemover(inputCol='lemma',outputCol='no_stop_lemmatized')\n",
    "\n",
    "pos_tagger = PerceptronModel.pretrained('pos_anc') \\\n",
    "     .setInputCols(['document', 'lemmatized']) \\\n",
    "     .setOutputCol('pos')\n",
    "\n",
    "allowed_tags = ['<JJ>+<NN>', '<NN>+<NN>']\n",
    "chunker = Chunker() \\\n",
    "     .setInputCols(['document', 'pos']) \\\n",
    "     .setOutputCol('ngrams') \\\n",
    "     .setRegexParsers(allowed_tags)\n",
    "\n",
    "finisher = Finisher() \\\n",
    "     .setInputCols(['unigrams', 'ngrams'])\n",
    "\n",
    "from pyspark.ml import Pipeline\n",
    "pipeline = Pipeline() \\\n",
    "     .setStages([documentAssembler,\n",
    "                 tokenizer,\n",
    "                 normalizer,\n",
    "                 lemmatizer,\n",
    "                 finisher_lemma,\n",
    "                 stopwords_cleaner])"
   ]
  },
  {
   "cell_type": "code",
   "execution_count": 32,
   "id": "122f42d7-e402-4eec-9419-0bd5e87ffcca",
   "metadata": {
    "execution": {
     "iopub.execute_input": "2022-06-03T22:12:04.716036Z",
     "iopub.status.busy": "2022-06-03T22:12:04.715847Z",
     "iopub.status.idle": "2022-06-03T22:12:05.494290Z",
     "shell.execute_reply": "2022-06-03T22:12:05.493711Z",
     "shell.execute_reply.started": "2022-06-03T22:12:04.716003Z"
    },
    "tags": []
   },
   "outputs": [
    {
     "data": {
      "application/vnd.jupyter.widget-view+json": {
       "model_id": "bfe5a46b7d9544919f7d5dc62f31980f",
       "version_major": 2,
       "version_minor": 0
      },
      "text/plain": [
       "VBox()"
      ]
     },
     "metadata": {},
     "output_type": "display_data"
    },
    {
     "data": {
      "application/vnd.jupyter.widget-view+json": {
       "model_id": "",
       "version_major": 2,
       "version_minor": 0
      },
      "text/plain": [
       "FloatProgress(value=0.0, bar_style='info', description='Progress:', layout=Layout(height='25px', width='50%'),…"
      ]
     },
     "metadata": {},
     "output_type": "display_data"
    }
   ],
   "source": [
    "processed_review = pipeline.fit(review_text).transform(review_text)"
   ]
  },
  {
   "cell_type": "code",
   "execution_count": 33,
   "id": "1ee0854f-a20c-4610-9df3-33be321273d1",
   "metadata": {
    "execution": {
     "iopub.execute_input": "2022-06-03T22:12:05.495383Z",
     "iopub.status.busy": "2022-06-03T22:12:05.495208Z",
     "iopub.status.idle": "2022-06-03T22:14:05.202571Z",
     "shell.execute_reply": "2022-06-03T22:14:05.201780Z",
     "shell.execute_reply.started": "2022-06-03T22:12:05.495361Z"
    },
    "tags": []
   },
   "outputs": [
    {
     "data": {
      "application/vnd.jupyter.widget-view+json": {
       "model_id": "f249b038e07b45268f252809649b2df0",
       "version_major": 2,
       "version_minor": 0
      },
      "text/plain": [
       "VBox()"
      ]
     },
     "metadata": {},
     "output_type": "display_data"
    },
    {
     "data": {
      "application/vnd.jupyter.widget-view+json": {
       "model_id": "",
       "version_major": 2,
       "version_minor": 0
      },
      "text/plain": [
       "FloatProgress(value=0.0, bar_style='info', description='Progress:', layout=Layout(height='25px', width='50%'),…"
      ]
     },
     "metadata": {},
     "output_type": "display_data"
    }
   ],
   "source": [
    "from pyspark.ml.feature import CountVectorizer\n",
    "from pyspark.ml.feature import IDF\n",
    "\n",
    "tfizer = CountVectorizer(inputCol='no_stop_lemmatized',\n",
    "                         outputCol='tf_features')\n",
    "tf_model = tfizer.fit(processed_review)\n",
    "tf_result = tf_model.transform(processed_review)\n",
    "\n",
    "idfizer = IDF(inputCol='tf_features', \n",
    "              outputCol='tf_idf_features')\n",
    "idf_model = idfizer.fit(tf_result)\n",
    "tfidf_result = idf_model.transform(tf_result)"
   ]
  },
  {
   "cell_type": "code",
   "execution_count": 34,
   "id": "18bd075e-c61d-446a-8b6c-27a3e70bc5b0",
   "metadata": {
    "execution": {
     "iopub.execute_input": "2022-06-03T22:14:05.204048Z",
     "iopub.status.busy": "2022-06-03T22:14:05.203786Z",
     "iopub.status.idle": "2022-06-03T22:16:31.720765Z",
     "shell.execute_reply": "2022-06-03T22:16:31.720166Z",
     "shell.execute_reply.started": "2022-06-03T22:14:05.204012Z"
    },
    "tags": []
   },
   "outputs": [
    {
     "data": {
      "application/vnd.jupyter.widget-view+json": {
       "model_id": "cdf471c055dd430b95fc3fba4a24fe8c",
       "version_major": 2,
       "version_minor": 0
      },
      "text/plain": [
       "VBox()"
      ]
     },
     "metadata": {},
     "output_type": "display_data"
    },
    {
     "data": {
      "application/vnd.jupyter.widget-view+json": {
       "model_id": "",
       "version_major": 2,
       "version_minor": 0
      },
      "text/plain": [
       "FloatProgress(value=0.0, bar_style='info', description='Progress:', layout=Layout(height='25px', width='50%'),…"
      ]
     },
     "metadata": {},
     "output_type": "display_data"
    }
   ],
   "source": [
    "from pyspark.ml.clustering import LDA\n",
    "num_topics = 6\n",
    "max_iter = 50\n",
    "lda = LDA(k=num_topics, \n",
    "          maxIter=max_iter, \n",
    "          featuresCol='tf_idf_features')\n",
    "lda_model = lda.fit(tfidf_result)"
   ]
  },
  {
   "cell_type": "code",
   "execution_count": 35,
   "id": "ac33e5f0-9b46-4016-b5c9-5ab2069cf243",
   "metadata": {
    "execution": {
     "iopub.execute_input": "2022-06-03T22:16:31.722016Z",
     "iopub.status.busy": "2022-06-03T22:16:31.721766Z",
     "iopub.status.idle": "2022-06-03T22:16:32.502758Z",
     "shell.execute_reply": "2022-06-03T22:16:32.502067Z",
     "shell.execute_reply.started": "2022-06-03T22:16:31.721981Z"
    },
    "tags": []
   },
   "outputs": [
    {
     "data": {
      "application/vnd.jupyter.widget-view+json": {
       "model_id": "98fcf690a5c84a268710a8d9f9fed718",
       "version_major": 2,
       "version_minor": 0
      },
      "text/plain": [
       "VBox()"
      ]
     },
     "metadata": {},
     "output_type": "display_data"
    },
    {
     "data": {
      "application/vnd.jupyter.widget-view+json": {
       "model_id": "",
       "version_major": 2,
       "version_minor": 0
      },
      "text/plain": [
       "FloatProgress(value=0.0, bar_style='info', description='Progress:', layout=Layout(height='25px', width='50%'),…"
      ]
     },
     "metadata": {},
     "output_type": "display_data"
    }
   ],
   "source": [
    "import pyspark.sql.types as T\n",
    "vocab = tf_model.vocabulary\n",
    "def get_words(token_list):\n",
    "    return [vocab[token_id] for token_id in token_list]\n",
    "udf_to_words = F.udf(get_words, T.ArrayType(T.StringType()))"
   ]
  },
  {
   "cell_type": "code",
   "execution_count": 36,
   "id": "398a9743-6b4e-4ba1-ab8e-b6a1f2dd6da6",
   "metadata": {
    "execution": {
     "iopub.execute_input": "2022-06-03T22:16:32.503927Z",
     "iopub.status.busy": "2022-06-03T22:16:32.503723Z",
     "iopub.status.idle": "2022-06-03T22:16:34.801199Z",
     "shell.execute_reply": "2022-06-03T22:16:34.800492Z",
     "shell.execute_reply.started": "2022-06-03T22:16:32.503900Z"
    },
    "tags": []
   },
   "outputs": [
    {
     "data": {
      "application/vnd.jupyter.widget-view+json": {
       "model_id": "6b8cfdbdef54453b8f9f39c6fd40222d",
       "version_major": 2,
       "version_minor": 0
      },
      "text/plain": [
       "VBox()"
      ]
     },
     "metadata": {},
     "output_type": "display_data"
    },
    {
     "data": {
      "application/vnd.jupyter.widget-view+json": {
       "model_id": "",
       "version_major": 2,
       "version_minor": 0
      },
      "text/plain": [
       "FloatProgress(value=0.0, bar_style='info', description='Progress:', layout=Layout(height='25px', width='50%'),…"
      ]
     },
     "metadata": {},
     "output_type": "display_data"
    },
    {
     "name": "stdout",
     "output_type": "stream",
     "text": [
      "+-----+-----------------------------------------+----------------------------------------------------------------------------------------------------+-------------------------------------------------------------------+\n",
      "|topic|                              termIndices|                                                                                         termWeights|                                                         topicWords|\n",
      "+-----+-----------------------------------------+----------------------------------------------------------------------------------------------------+-------------------------------------------------------------------+\n",
      "|    0|   [91, 3, 129, 9, 104, 7, 140, 2, 1, 22]|[0.0069457412946933896, 0.006816312454237421, 0.006464533416780946, 0.006368400629049005, 0.00589...|    [hair, use, flea, work, brush, product, spray, get, cat, smell]|\n",
      "|    1|   [66, 130, 5, 62, 0, 71, 37, 183, 1, 2]|[0.012686116859810342, 0.006044027755829386, 0.0052425687352202, 0.005082083497162878, 0.00463401...|          [toy, play, one, chew, dog, puppy, small, ball, cat, get]|\n",
      "|    2|[75, 115, 9, 3, 178, 330, 0, 321, 2, 277]|[0.0072638603294970655, 0.006443672646497315, 0.0045854161943149315, 0.004399755403503101, 0.0042...|   [water, collar, work, use, ear, fountain, dog, bark, get, leash]|\n",
      "|    3|[25, 65, 83, 133, 103, 7, 10, 8, 152, 32]|[0.007853003363560027, 0.005852939576285522, 0.005271124556605596, 0.004985952847142246, 0.004935...|[bag, order, open, package, amazon, product, buy, food, store, box]|\n",
      "|    4|       [8, 0, 18, 21, 6, 1, 20, 4, 97, 2]|[0.013172386759952207, 0.009645872474671396, 0.009482396169957035, 0.008930986828421441, 0.007291...|        [food, dog, eat, treat, love, cat, give, like, flavor, get]|\n",
      "|    5|[24, 32, 1, 22, 3, 34, 167, 256, 25, 251]|[0.02408184668264944, 0.013497794764193861, 0.008788117921168112, 0.00773230611537153, 0.00613459...|     [litter, box, cat, smell, use, clean, odor, clump, bag, scoop]|\n",
      "+-----+-----------------------------------------+----------------------------------------------------------------------------------------------------+-------------------------------------------------------------------+"
     ]
    }
   ],
   "source": [
    "num_top_words = 10\n",
    "after_topics = lda_model.describeTopics(num_top_words).withColumn('topicWords', udf_to_words(F.col('termIndices')))\n",
    "after_topics.show(truncate=100)"
   ]
  },
  {
   "cell_type": "code",
   "execution_count": 37,
   "id": "6e0538a0-36aa-48e4-b2d6-0283e7e78b1a",
   "metadata": {
    "execution": {
     "iopub.execute_input": "2022-06-03T22:16:34.802192Z",
     "iopub.status.busy": "2022-06-03T22:16:34.802028Z",
     "iopub.status.idle": "2022-06-03T22:16:35.610351Z",
     "shell.execute_reply": "2022-06-03T22:16:35.609550Z",
     "shell.execute_reply.started": "2022-06-03T22:16:34.802170Z"
    },
    "tags": []
   },
   "outputs": [
    {
     "data": {
      "application/vnd.jupyter.widget-view+json": {
       "model_id": "c7968a3f1d5e4fa6bcc7bc5321d8399f",
       "version_major": 2,
       "version_minor": 0
      },
      "text/plain": [
       "VBox()"
      ]
     },
     "metadata": {},
     "output_type": "display_data"
    },
    {
     "data": {
      "application/vnd.jupyter.widget-view+json": {
       "model_id": "",
       "version_major": 2,
       "version_minor": 0
      },
      "text/plain": [
       "FloatProgress(value=0.0, bar_style='info', description='Progress:', layout=Layout(height='25px', width='50%'),…"
      ]
     },
     "metadata": {},
     "output_type": "display_data"
    }
   ],
   "source": [
    "after_topics.write.parquet(\"s3n://lzhang19/lda/after\")"
   ]
  },
  {
   "cell_type": "code",
   "execution_count": 38,
   "id": "1d58f09b-9c81-4b38-9f5f-798b2de57e13",
   "metadata": {
    "execution": {
     "iopub.execute_input": "2022-06-03T22:16:35.611629Z",
     "iopub.status.busy": "2022-06-03T22:16:35.611395Z",
     "iopub.status.idle": "2022-06-03T22:16:36.909311Z",
     "shell.execute_reply": "2022-06-03T22:16:36.908707Z",
     "shell.execute_reply.started": "2022-06-03T22:16:35.611603Z"
    },
    "tags": []
   },
   "outputs": [
    {
     "data": {
      "application/vnd.jupyter.widget-view+json": {
       "model_id": "da4432b5d01640348353975b04941e42",
       "version_major": 2,
       "version_minor": 0
      },
      "text/plain": [
       "VBox()"
      ]
     },
     "metadata": {},
     "output_type": "display_data"
    },
    {
     "data": {
      "application/vnd.jupyter.widget-view+json": {
       "model_id": "",
       "version_major": 2,
       "version_minor": 0
      },
      "text/plain": [
       "FloatProgress(value=0.0, bar_style='info', description='Progress:', layout=Layout(height='25px', width='50%'),…"
      ]
     },
     "metadata": {},
     "output_type": "display_data"
    }
   ],
   "source": [
    "from pyspark.sql.functions import udf\n",
    "from pyspark.sql.types import StringType\n",
    "\n",
    "def array_to_string(my_list):\n",
    "    return '[' + ','.join([str(elem) for elem in my_list]) + ']'\n",
    "\n",
    "array_to_string_udf = udf(array_to_string, StringType())\n",
    "\n",
    "df = after_topics.withColumn('termIndices', array_to_string_udf(after_topics[\"termIndices\"]))\n",
    "df = df.withColumn('termWeights', array_to_string_udf(df[\"termWeights\"]))\n",
    "df = df.withColumn('topicWords', array_to_string_udf(df[\"topicWords\"]))\n",
    "\n",
    "df.coalesce(1).write.csv('s3n://lzhang19/output/after.csv')"
   ]
  },
  {
   "cell_type": "code",
   "execution_count": null,
   "id": "babea8f0-4f15-4967-a4e3-d3cd70601d23",
   "metadata": {},
   "outputs": [],
   "source": []
  },
  {
   "cell_type": "code",
   "execution_count": null,
   "id": "57441f1b-8cc6-47e8-88eb-7cf798604bee",
   "metadata": {},
   "outputs": [],
   "source": []
  },
  {
   "cell_type": "code",
   "execution_count": null,
   "id": "3071d9a9-1162-4e27-8e51-67d2c2967bd9",
   "metadata": {},
   "outputs": [],
   "source": []
  }
 ],
 "metadata": {
  "kernelspec": {
   "display_name": "PySpark",
   "language": "",
   "name": "pysparkkernel"
  },
  "language_info": {
   "codemirror_mode": {
    "name": "python",
    "version": 3
   },
   "mimetype": "text/x-python",
   "name": "pyspark",
   "pygments_lexer": "python3"
  }
 },
 "nbformat": 4,
 "nbformat_minor": 5
}
