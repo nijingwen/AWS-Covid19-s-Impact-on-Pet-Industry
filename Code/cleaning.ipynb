{
 "cells": [
  {
   "cell_type": "markdown",
   "id": "42fe2fc4-a572-4a4c-96d6-91dc2c534007",
   "metadata": {
    "tags": []
   },
   "source": [
    "# Setup"
   ]
  },
  {
   "cell_type": "code",
   "execution_count": 1,
   "id": "1495d76c-cdad-4561-8c43-77a9ec53db8c",
   "metadata": {
    "execution": {
     "iopub.execute_input": "2022-06-03T18:14:03.359639Z",
     "iopub.status.busy": "2022-06-03T18:14:03.359406Z",
     "iopub.status.idle": "2022-06-03T18:15:04.577357Z",
     "shell.execute_reply": "2022-06-03T18:15:04.576497Z",
     "shell.execute_reply.started": "2022-06-03T18:14:03.359614Z"
    },
    "tags": []
   },
   "outputs": [
    {
     "data": {
      "application/vnd.jupyter.widget-view+json": {
       "model_id": "7141cc32889b4119b61792895ddd9a89",
       "version_major": 2,
       "version_minor": 0
      },
      "text/plain": [
       "VBox()"
      ]
     },
     "metadata": {},
     "output_type": "display_data"
    },
    {
     "name": "stdout",
     "output_type": "stream",
     "text": [
      "Starting Spark application\n"
     ]
    },
    {
     "data": {
      "text/html": [
       "<table>\n",
       "<tr><th>ID</th><th>YARN Application ID</th><th>Kind</th><th>State</th><th>Spark UI</th><th>Driver log</th><th>Current session?</th></tr><tr><td>0</td><td>application_1654279618033_0001</td><td>pyspark</td><td>idle</td><td><a target=\"_blank\" href=\"http://ip-172-31-38-27.ec2.internal:20888/proxy/application_1654279618033_0001/\" >Link</a></td><td><a target=\"_blank\" href=\"http://ip-172-31-42-11.ec2.internal:8042/node/containerlogs/container_1654279618033_0001_01_000001/livy\" >Link</a></td><td>✔</td></tr></table>"
      ],
      "text/plain": [
       "<IPython.core.display.HTML object>"
      ]
     },
     "metadata": {},
     "output_type": "display_data"
    },
    {
     "data": {
      "application/vnd.jupyter.widget-view+json": {
       "model_id": "",
       "version_major": 2,
       "version_minor": 0
      },
      "text/plain": [
       "FloatProgress(value=0.0, bar_style='info', description='Progress:', layout=Layout(height='25px', width='50%'),…"
      ]
     },
     "metadata": {},
     "output_type": "display_data"
    },
    {
     "name": "stdout",
     "output_type": "stream",
     "text": [
      "SparkSession available as 'spark'.\n"
     ]
    },
    {
     "data": {
      "application/vnd.jupyter.widget-view+json": {
       "model_id": "",
       "version_major": 2,
       "version_minor": 0
      },
      "text/plain": [
       "FloatProgress(value=0.0, bar_style='info', description='Progress:', layout=Layout(height='25px', width='50%'),…"
      ]
     },
     "metadata": {},
     "output_type": "display_data"
    },
    {
     "name": "stdout",
     "output_type": "stream",
     "text": [
      "Collecting boto3\n",
      "  Downloading https://files.pythonhosted.org/packages/26/b2/31748931b9682dcb4c09e8a15b9daeab1f434c90097425ca06e37d6efc7c/boto3-1.24.2-py3-none-any.whl (132kB)\n",
      "Requirement already satisfied: jmespath<2.0.0,>=0.7.1 in /usr/local/lib/python3.7/site-packages (from boto3)\n",
      "Requirement already satisfied: s3transfer<0.7.0,>=0.6.0 in /usr/local/lib/python3.7/site-packages (from boto3)\n",
      "Requirement already satisfied: botocore<1.28.0,>=1.27.2 in /usr/local/lib/python3.7/site-packages (from boto3)\n",
      "Requirement already satisfied: urllib3<1.27,>=1.25.4 in /usr/local/lib/python3.7/site-packages (from botocore<1.28.0,>=1.27.2->boto3)\n",
      "Requirement already satisfied: python-dateutil<3.0.0,>=2.1 in /usr/local/lib/python3.7/site-packages (from botocore<1.28.0,>=1.27.2->boto3)\n",
      "Requirement already satisfied: six>=1.5 in /usr/local/lib/python3.7/site-packages (from python-dateutil<3.0.0,>=2.1->botocore<1.28.0,>=1.27.2->boto3)\n",
      "Installing collected packages: boto3\n",
      "Successfully installed boto3-1.24.2"
     ]
    }
   ],
   "source": [
    "sc.install_pypi_package(\"boto3\")  # use boto3 to see book data in S3 bucket"
   ]
  },
  {
   "cell_type": "code",
   "execution_count": 2,
   "id": "eafca1a0-2fb8-4463-89d2-b71dae1848e5",
   "metadata": {
    "execution": {
     "iopub.execute_input": "2022-06-03T18:15:04.579077Z",
     "iopub.status.busy": "2022-06-03T18:15:04.578819Z",
     "iopub.status.idle": "2022-06-03T18:15:05.407663Z",
     "shell.execute_reply": "2022-06-03T18:15:05.406981Z",
     "shell.execute_reply.started": "2022-06-03T18:15:04.579043Z"
    },
    "tags": []
   },
   "outputs": [
    {
     "data": {
      "application/vnd.jupyter.widget-view+json": {
       "model_id": "e7c2c3c308c84e97a0fb0ba9a46bdde3",
       "version_major": 2,
       "version_minor": 0
      },
      "text/plain": [
       "VBox()"
      ]
     },
     "metadata": {},
     "output_type": "display_data"
    },
    {
     "data": {
      "application/vnd.jupyter.widget-view+json": {
       "model_id": "",
       "version_major": 2,
       "version_minor": 0
      },
      "text/plain": [
       "FloatProgress(value=0.0, bar_style='info', description='Progress:', layout=Layout(height='25px', width='50%'),…"
      ]
     },
     "metadata": {},
     "output_type": "display_data"
    }
   ],
   "source": [
    "import boto3\n",
    "\n",
    "s3 = boto3.resource('s3')\n",
    "bucket = 'lzhang19'\n",
    "bucket_resource = s3.Bucket(bucket)\n",
    "\n",
    "for obj in bucket_resource.objects.all():\n",
    "    if 'parquet' in obj.key and 'Books' in obj.key:\n",
    "        print(obj.last_modified, \"\\t\", round(obj.size * 1e-9), \"GB\\t\", obj.key,\n",
    "              \"\\n\")\n",
    "        \n",
    "import boto3"
   ]
  },
  {
   "cell_type": "markdown",
   "id": "b52578d0-c9e3-4673-8085-3112cc0c2c5e",
   "metadata": {
    "tags": []
   },
   "source": [
    "# Amazon Review Data"
   ]
  },
  {
   "cell_type": "markdown",
   "id": "d906e12b-e76e-409a-b145-394753958622",
   "metadata": {
    "tags": []
   },
   "source": [
    "## Read from S3"
   ]
  },
  {
   "cell_type": "code",
   "execution_count": 3,
   "id": "0b3de701-76a1-4470-a8d5-78063668d00c",
   "metadata": {
    "execution": {
     "iopub.execute_input": "2022-06-03T18:15:05.409336Z",
     "iopub.status.busy": "2022-06-03T18:15:05.409085Z",
     "iopub.status.idle": "2022-06-03T18:15:20.831075Z",
     "shell.execute_reply": "2022-06-03T18:15:20.830202Z",
     "shell.execute_reply.started": "2022-06-03T18:15:05.409301Z"
    },
    "tags": []
   },
   "outputs": [
    {
     "data": {
      "application/vnd.jupyter.widget-view+json": {
       "model_id": "89db389ebcb74f1db9d5e9a24ad2ab44",
       "version_major": 2,
       "version_minor": 0
      },
      "text/plain": [
       "VBox()"
      ]
     },
     "metadata": {},
     "output_type": "display_data"
    },
    {
     "data": {
      "application/vnd.jupyter.widget-view+json": {
       "model_id": "",
       "version_major": 2,
       "version_minor": 0
      },
      "text/plain": [
       "FloatProgress(value=0.0, bar_style='info', description='Progress:', layout=Layout(height='25px', width='50%'),…"
      ]
     },
     "metadata": {},
     "output_type": "display_data"
    }
   ],
   "source": [
    "data = spark.read.format('csv').options(header='true', inferSchema='true').load('s3://lzhang19/amazon_pet.csv')"
   ]
  },
  {
   "cell_type": "code",
   "execution_count": 4,
   "id": "9535e8c1-774f-47a4-bfec-8e82b333f637",
   "metadata": {
    "execution": {
     "iopub.execute_input": "2022-06-03T18:15:20.832683Z",
     "iopub.status.busy": "2022-06-03T18:15:20.832428Z",
     "iopub.status.idle": "2022-06-03T18:15:21.813615Z",
     "shell.execute_reply": "2022-06-03T18:15:21.812719Z",
     "shell.execute_reply.started": "2022-06-03T18:15:20.832646Z"
    },
    "tags": []
   },
   "outputs": [
    {
     "data": {
      "application/vnd.jupyter.widget-view+json": {
       "model_id": "3837b56522b84d40a95c6d38c090791f",
       "version_major": 2,
       "version_minor": 0
      },
      "text/plain": [
       "VBox()"
      ]
     },
     "metadata": {},
     "output_type": "display_data"
    },
    {
     "data": {
      "application/vnd.jupyter.widget-view+json": {
       "model_id": "",
       "version_major": 2,
       "version_minor": 0
      },
      "text/plain": [
       "FloatProgress(value=0.0, bar_style='info', description='Progress:', layout=Layout(height='25px', width='50%'),…"
      ]
     },
     "metadata": {},
     "output_type": "display_data"
    },
    {
     "name": "stdout",
     "output_type": "stream",
     "text": [
      "+---+-----+----------+--------------------+-----+--------------+------------------+--------------------+--------------------+------------------+--------------------+\n",
      "|_c0|index|product_id|               title|price|    num_rating|    overall_rating|       helpful_votes|                date|              star|                text|\n",
      "+---+-----+----------+--------------------+-----+--------------+------------------+--------------------+--------------------+------------------+--------------------+\n",
      "|  0|    0|B00006IX59|Chuckit! Classic ...| 8.72|46,941 ratings|4.7 out of 5 stars|385 people found ...|Reviewed in the U...|4.0 out of 5 stars|\"After I broke my...|\n",
      "|  1|    1|B00006IX59|Chuckit! Classic ...| 8.72|46,941 ratings|4.7 out of 5 stars|909 people found ...|Reviewed in the U...|3.0 out of 5 stars|Some (pointed) th...|\n",
      "|  2|    2|B00006IX59|Chuckit! Classic ...| 8.72|46,941 ratings|4.7 out of 5 stars|100 people found ...|Reviewed in the U...|5.0 out of 5 stars|\"I use this to th...|\n",
      "|  3|    3|B00006IX59|Chuckit! Classic ...| 8.72|46,941 ratings|4.7 out of 5 stars|145 people found ...|Reviewed in the U...|        VINE VOICE|Combined with the...|\n",
      "|  4|    4|B00006IX59|Chuckit! Classic ...| 8.72|46,941 ratings|4.7 out of 5 stars|50 people found t...|Reviewed in the U...| TOP 1000 REVIEWER|I have a young Go...|\n",
      "+---+-----+----------+--------------------+-----+--------------+------------------+--------------------+--------------------+------------------+--------------------+\n",
      "only showing top 5 rows"
     ]
    }
   ],
   "source": [
    "data.show(5)"
   ]
  },
  {
   "cell_type": "markdown",
   "id": "7b4ea035-b6ab-44aa-9892-54ad42819571",
   "metadata": {},
   "source": [
    "## Sample"
   ]
  },
  {
   "cell_type": "code",
   "execution_count": 5,
   "id": "bff6daec-1da0-48c2-967a-26944333580a",
   "metadata": {
    "execution": {
     "iopub.execute_input": "2022-06-03T18:15:21.815694Z",
     "iopub.status.busy": "2022-06-03T18:15:21.815214Z",
     "iopub.status.idle": "2022-06-03T18:15:21.899391Z",
     "shell.execute_reply": "2022-06-03T18:15:21.898831Z",
     "shell.execute_reply.started": "2022-06-03T18:15:21.815647Z"
    },
    "tags": []
   },
   "outputs": [
    {
     "data": {
      "application/vnd.jupyter.widget-view+json": {
       "model_id": "8378aa03e24a476eb8724f3f76045a4b",
       "version_major": 2,
       "version_minor": 0
      },
      "text/plain": [
       "VBox()"
      ]
     },
     "metadata": {},
     "output_type": "display_data"
    },
    {
     "data": {
      "application/vnd.jupyter.widget-view+json": {
       "model_id": "",
       "version_major": 2,
       "version_minor": 0
      },
      "text/plain": [
       "FloatProgress(value=0.0, bar_style='info', description='Progress:', layout=Layout(height='25px', width='50%'),…"
      ]
     },
     "metadata": {},
     "output_type": "display_data"
    }
   ],
   "source": [
    "# scale up by commenting out the following line\n",
    "# data = data.sample(fraction=0.001)"
   ]
  },
  {
   "cell_type": "markdown",
   "id": "e4cefc09-6980-4229-b494-ca4875983078",
   "metadata": {},
   "source": [
    "## Clean Data"
   ]
  },
  {
   "cell_type": "code",
   "execution_count": 6,
   "id": "73e45391-36ce-469a-a621-f3a1a36fedf3",
   "metadata": {
    "execution": {
     "iopub.execute_input": "2022-06-03T18:15:21.900452Z",
     "iopub.status.busy": "2022-06-03T18:15:21.900280Z",
     "iopub.status.idle": "2022-06-03T18:15:22.715499Z",
     "shell.execute_reply": "2022-06-03T18:15:22.714855Z",
     "shell.execute_reply.started": "2022-06-03T18:15:21.900430Z"
    },
    "tags": []
   },
   "outputs": [
    {
     "data": {
      "application/vnd.jupyter.widget-view+json": {
       "model_id": "a317e6b63dd3444a8bb2be514aa22edd",
       "version_major": 2,
       "version_minor": 0
      },
      "text/plain": [
       "VBox()"
      ]
     },
     "metadata": {},
     "output_type": "display_data"
    },
    {
     "data": {
      "application/vnd.jupyter.widget-view+json": {
       "model_id": "",
       "version_major": 2,
       "version_minor": 0
      },
      "text/plain": [
       "FloatProgress(value=0.0, bar_style='info', description='Progress:', layout=Layout(height='25px', width='50%'),…"
      ]
     },
     "metadata": {},
     "output_type": "display_data"
    }
   ],
   "source": [
    "from pyspark.sql.functions import *\n",
    "\n",
    "# clean overall rating\n",
    "cleaned = data.withColumn('overall_rating', regexp_replace('overall_rating', ' out of 5 stars', '').cast('double'))\n",
    "# clean star rating\n",
    "cleaned = cleaned.withColumn('star', regexp_replace('star', ' out of 5 stars', '').cast('double'))\n",
    "# clean number of ratings\n",
    "cleaned = cleaned.withColumn('num_rating', regexp_replace('num_rating', ' ratings', ''))\n",
    "cleaned = cleaned.withColumn('num_rating', regexp_replace('num_rating', ',', '').cast('integer'))\n",
    "# clean helpful votes\n",
    "cleaned = cleaned.withColumn('helpful_votes', regexp_replace('helpful_votes', 'One person found this helpful', '1'))\n",
    "cleaned = cleaned.withColumn('helpful_votes', regexp_replace('helpful_votes', ' people found this helpful', ''))\n",
    "cleaned = cleaned.withColumn('helpful_votes', col('helpful_votes').cast('integer'))\n",
    "# seperate date and review location\n",
    "cleaned = cleaned.withColumn(\"review_location\", split(col(\"date\"), \" on \").getItem(0))\n",
    "cleaned = cleaned.withColumn(\"review_location\", regexp_replace('review_location', 'Reviewed in ', ''))\n",
    "cleaned = cleaned.withColumn(\"review_date\", split(col(\"date\"), \" on \").getItem(1))\n",
    "cleaned = cleaned.withColumn(\"review_date\", to_date(col(\"review_date\"), 'MMMM d, yyyy').cast('string'))\n",
    "# clean price\n",
    "cleaned = cleaned.withColumn('price', col('price').cast('double'))\n",
    "# drop un-useful columns\n",
    "cleaned = cleaned.drop(\"_c0\")\n",
    "amazon_cleaned = cleaned.drop(\"date\")"
   ]
  },
  {
   "cell_type": "code",
   "execution_count": 7,
   "id": "21ffb441-ad77-4994-b16a-15772fdabd64",
   "metadata": {
    "execution": {
     "iopub.execute_input": "2022-06-03T18:15:22.716540Z",
     "iopub.status.busy": "2022-06-03T18:15:22.716358Z",
     "iopub.status.idle": "2022-06-03T18:15:23.517818Z",
     "shell.execute_reply": "2022-06-03T18:15:23.516937Z",
     "shell.execute_reply.started": "2022-06-03T18:15:22.716515Z"
    },
    "tags": []
   },
   "outputs": [
    {
     "data": {
      "application/vnd.jupyter.widget-view+json": {
       "model_id": "a9fa79b4783541899e4a445bc0c55e51",
       "version_major": 2,
       "version_minor": 0
      },
      "text/plain": [
       "VBox()"
      ]
     },
     "metadata": {},
     "output_type": "display_data"
    },
    {
     "data": {
      "application/vnd.jupyter.widget-view+json": {
       "model_id": "",
       "version_major": 2,
       "version_minor": 0
      },
      "text/plain": [
       "FloatProgress(value=0.0, bar_style='info', description='Progress:', layout=Layout(height='25px', width='50%'),…"
      ]
     },
     "metadata": {},
     "output_type": "display_data"
    },
    {
     "name": "stdout",
     "output_type": "stream",
     "text": [
      "+-----+----------+--------------------+-----+----------+--------------+-------------+----+--------------------+-----------------+-----------+\n",
      "|index|product_id|               title|price|num_rating|overall_rating|helpful_votes|star|                text|  review_location|review_date|\n",
      "+-----+----------+--------------------+-----+----------+--------------+-------------+----+--------------------+-----------------+-----------+\n",
      "|    0|B00006IX59|Chuckit! Classic ...| 8.72|     46941|           4.7|          385| 4.0|\"After I broke my...|the United States| 2019-05-18|\n",
      "|    1|B00006IX59|Chuckit! Classic ...| 8.72|     46941|           4.7|          909| 3.0|Some (pointed) th...|the United States| 2015-07-15|\n",
      "|    2|B00006IX59|Chuckit! Classic ...| 8.72|     46941|           4.7|          100| 5.0|\"I use this to th...|the United States| 2019-06-04|\n",
      "|    3|B00006IX59|Chuckit! Classic ...| 8.72|     46941|           4.7|          145|null|Combined with the...|the United States| 2017-05-19|\n",
      "|    4|B00006IX59|Chuckit! Classic ...| 8.72|     46941|           4.7|           50|null|I have a young Go...|the United States| 2019-04-07|\n",
      "+-----+----------+--------------------+-----+----------+--------------+-------------+----+--------------------+-----------------+-----------+\n",
      "only showing top 5 rows"
     ]
    }
   ],
   "source": [
    "amazon_cleaned.show(5)"
   ]
  },
  {
   "cell_type": "code",
   "execution_count": 8,
   "id": "d2676b83-0184-40c3-83a5-b8bde27112fd",
   "metadata": {
    "execution": {
     "iopub.execute_input": "2022-06-03T18:15:23.520455Z",
     "iopub.status.busy": "2022-06-03T18:15:23.520192Z",
     "iopub.status.idle": "2022-06-03T18:15:23.800319Z",
     "shell.execute_reply": "2022-06-03T18:15:23.799597Z",
     "shell.execute_reply.started": "2022-06-03T18:15:23.520420Z"
    },
    "tags": []
   },
   "outputs": [
    {
     "data": {
      "application/vnd.jupyter.widget-view+json": {
       "model_id": "be62bf8b831b47bbb8138f59674ae4fd",
       "version_major": 2,
       "version_minor": 0
      },
      "text/plain": [
       "VBox()"
      ]
     },
     "metadata": {},
     "output_type": "display_data"
    },
    {
     "data": {
      "application/vnd.jupyter.widget-view+json": {
       "model_id": "",
       "version_major": 2,
       "version_minor": 0
      },
      "text/plain": [
       "FloatProgress(value=0.0, bar_style='info', description='Progress:', layout=Layout(height='25px', width='50%'),…"
      ]
     },
     "metadata": {},
     "output_type": "display_data"
    },
    {
     "name": "stdout",
     "output_type": "stream",
     "text": [
      "root\n",
      " |-- index: integer (nullable = true)\n",
      " |-- product_id: string (nullable = true)\n",
      " |-- title: string (nullable = true)\n",
      " |-- price: double (nullable = true)\n",
      " |-- num_rating: integer (nullable = true)\n",
      " |-- overall_rating: double (nullable = true)\n",
      " |-- helpful_votes: integer (nullable = true)\n",
      " |-- star: double (nullable = true)\n",
      " |-- text: string (nullable = true)\n",
      " |-- review_location: string (nullable = true)\n",
      " |-- review_date: string (nullable = true)"
     ]
    }
   ],
   "source": [
    "amazon_cleaned.printSchema()"
   ]
  },
  {
   "cell_type": "code",
   "execution_count": null,
   "id": "fc5bcb2d-05bc-42d1-b2c8-072919d90fa5",
   "metadata": {
    "execution": {
     "iopub.execute_input": "2022-06-03T18:15:23.801691Z",
     "iopub.status.busy": "2022-06-03T18:15:23.801439Z"
    },
    "tags": []
   },
   "outputs": [
    {
     "data": {
      "application/vnd.jupyter.widget-view+json": {
       "model_id": "5bbe7ec1bb70459cad43e20f0ab0fe4b",
       "version_major": 2,
       "version_minor": 0
      },
      "text/plain": [
       "VBox()"
      ]
     },
     "metadata": {},
     "output_type": "display_data"
    },
    {
     "data": {
      "application/vnd.jupyter.widget-view+json": {
       "model_id": "7ed288a0e71440489157c4dd8a64a355",
       "version_major": 2,
       "version_minor": 0
      },
      "text/plain": [
       "FloatProgress(value=0.0, bar_style='info', description='Progress:', layout=Layout(height='25px', width='50%'),…"
      ]
     },
     "metadata": {},
     "output_type": "display_data"
    }
   ],
   "source": [
    "location = (amazon_cleaned.groupBy('review_location').count().sort('review_location', ascending=False))\n",
    "location.show()"
   ]
  },
  {
   "cell_type": "code",
   "execution_count": null,
   "id": "6ac3fba3-8436-40fb-86f1-cdd4fce7c4b0",
   "metadata": {
    "tags": []
   },
   "outputs": [],
   "source": [
    "star = (amazon_cleaned.groupBy('star').count().sort('star', ascending=False))\n",
    "star.show()"
   ]
  },
  {
   "cell_type": "markdown",
   "id": "6e68df6a-59e0-4a6d-9d6d-339393009653",
   "metadata": {
    "tags": []
   },
   "source": [
    "# COVID Data"
   ]
  },
  {
   "cell_type": "markdown",
   "id": "677ef372-3a47-4792-bbbe-3ada9a18f659",
   "metadata": {},
   "source": [
    "## Read from S3"
   ]
  },
  {
   "cell_type": "code",
   "execution_count": null,
   "id": "82668d95-f32d-4419-b81d-a7987c5e1d19",
   "metadata": {
    "tags": []
   },
   "outputs": [],
   "source": [
    "covid_data = spark.read.format('csv').options(header='true', inferSchema='true').load('s3://lzhang19/us.csv')"
   ]
  },
  {
   "cell_type": "markdown",
   "id": "62cbc5a1-cfd2-464e-ab0e-3bd446eba5fd",
   "metadata": {},
   "source": [
    "## Clean Data"
   ]
  },
  {
   "cell_type": "code",
   "execution_count": null,
   "id": "32144784-9d5c-487d-9286-af136501b498",
   "metadata": {
    "tags": []
   },
   "outputs": [],
   "source": [
    "from pyspark.sql.window import Window\n",
    "from pyspark.sql.functions import *\n",
    "\n",
    "# increase cases per \n",
    "window = Window.partitionBy().orderBy(\"date\")\n",
    "cleaned = covid_data.withColumn(\"increase_cases\", col(\"cases\")-lag(col(\"cases\"), 1, 0).over(window))\n",
    "# increased deaths per day\n",
    "cleaned = cleaned.withColumn(\"increase_deaths\", col(\"deaths\")-lag(col(\"deaths\"), 1, 0).over(window))\n",
    "# cast type\n",
    "covid_cleaned = cleaned.withColumn(\"date\", to_date(col(\"date\"), 'yyyy-mm-dd').cast('string'))"
   ]
  },
  {
   "cell_type": "code",
   "execution_count": null,
   "id": "9dbc4f52-d7c7-4219-950a-a86fec3e56f3",
   "metadata": {
    "tags": []
   },
   "outputs": [],
   "source": [
    "covid_cleaned.show(5)"
   ]
  },
  {
   "cell_type": "code",
   "execution_count": null,
   "id": "bd2959a9-43dd-4b65-b4ce-4a666e8c2a56",
   "metadata": {
    "tags": []
   },
   "outputs": [],
   "source": [
    "covid_cleaned.printSchema()"
   ]
  }
 ],
 "metadata": {
  "kernelspec": {
   "display_name": "PySpark",
   "language": "",
   "name": "pysparkkernel"
  },
  "language_info": {
   "codemirror_mode": {
    "name": "python",
    "version": 3
   },
   "mimetype": "text/x-python",
   "name": "pyspark",
   "pygments_lexer": "python3"
  }
 },
 "nbformat": 4,
 "nbformat_minor": 5
}
