{
 "cells": [
  {
   "cell_type": "code",
   "execution_count": 1,
   "id": "17ba6c9b",
   "metadata": {},
   "outputs": [],
   "source": [
    "from bs4 import BeautifulSoup\n",
    "import requests\n",
    "import pandas as pd\n",
    "import numpy as np\n",
    "import re\n",
    "import bs4\n",
    "from io import StringIO\n",
    "import boto3\n",
    "import time\n",
    "import json"
   ]
  },
  {
   "cell_type": "code",
   "execution_count": 21,
   "id": "4a5fed63",
   "metadata": {},
   "outputs": [
    {
     "data": {
      "text/plain": [
       "s3.Bucket(name='macss30123amazondata')"
      ]
     },
     "execution_count": 21,
     "metadata": {},
     "output_type": "execute_result"
    }
   ],
   "source": [
    "s3 = boto3.resource('s3')\n",
    "s3.create_bucket(Bucket='macss30123amazondata')"
   ]
  },
  {
   "cell_type": "code",
   "execution_count": 255,
   "id": "19274fa5",
   "metadata": {},
   "outputs": [],
   "source": [
    "# Access our class IAM role, which allows Lambda\n",
    "# to interact with other AWS resources\n",
    "\n",
    "aws_lambda = boto3.client('lambda')\n",
    "iam_client = boto3.client('iam')\n",
    "role = iam_client.get_role(RoleName='LabRole')\n",
    "\n",
    "# Open our Zipped directory\n",
    "with open('amazon_scraper.zip', 'rb') as f:\n",
    "    lambda_zip = f.read()\n",
    "\n",
    "try:\n",
    "    # If function hasn't yet been created, create it\n",
    "    response = aws_lambda.create_function(\n",
    "        FunctionName='amazon_scraper',\n",
    "        Runtime='python3.9',\n",
    "        Role=role['Role']['Arn'],\n",
    "        Handler='lambda_function.lambda_handler',\n",
    "        Code=dict(ZipFile=lambda_zip),\n",
    "        Timeout=900\n",
    "    )\n",
    "except aws_lambda.exceptions.ResourceConflictException:\n",
    "    # If function already exists, update it based on zip\n",
    "    # file contents\n",
    "    response = aws_lambda.update_function_code(\n",
    "    FunctionName='amazon_scraper',\n",
    "    ZipFile=lambda_zip\n",
    "    )"
   ]
  },
  {
   "cell_type": "code",
   "execution_count": 256,
   "id": "afd119af",
   "metadata": {},
   "outputs": [
    {
     "name": "stdout",
     "output_type": "stream",
     "text": [
      "{'stateMachines': [{'stateMachineArn': 'arn:aws:states:us-east-1:834397012326:stateMachine:amazon_scraper', 'name': 'amazon_scraper', 'type': 'EXPRESS', 'creationDate': datetime.datetime(2022, 5, 30, 16, 47, 6, 984000, tzinfo=tzlocal())}], 'ResponseMetadata': {'RequestId': '6af8d5ff-e4dd-43be-b7e8-9b3ceb6bb70f', 'HTTPStatusCode': 200, 'HTTPHeaders': {'x-amzn-requestid': '6af8d5ff-e4dd-43be-b7e8-9b3ceb6bb70f', 'date': 'Tue, 31 May 2022 03:42:30 GMT', 'content-type': 'application/x-amz-json-1.0', 'content-length': '180'}, 'RetryAttempts': 0}}\n"
     ]
    }
   ],
   "source": [
    "sfn = boto3.client('stepfunctions')\n",
    "response = sfn.list_state_machines()\n",
    "print(response)"
   ]
  },
  {
   "cell_type": "code",
   "execution_count": 257,
   "id": "9d2b4881",
   "metadata": {},
   "outputs": [],
   "source": [
    "# Get arn for Step Function state machine\n",
    "response = sfn.list_state_machines()\n",
    "state_machine_arn = [sm['stateMachineArn'] \n",
    "                     for sm in response['stateMachines'] \n",
    "                     if sm['name'] == 'amazon_scraper'][0]"
   ]
  },
  {
   "cell_type": "code",
   "execution_count": 258,
   "id": "a8a717ee",
   "metadata": {},
   "outputs": [],
   "source": [
    "pages = list(range(1,50))\n",
    "n = 10//10\n",
    "page_batch = [{'page': pages[i:i + n]} for i in range(0, len(pages), n)]"
   ]
  },
  {
   "cell_type": "code",
   "execution_count": 260,
   "id": "5c94e4f0",
   "metadata": {},
   "outputs": [
    {
     "data": {
      "text/plain": [
       "123.1585590839386"
      ]
     },
     "execution_count": 260,
     "metadata": {},
     "output_type": "execute_result"
    }
   ],
   "source": [
    "# Spread ISBN batches across Lambda workers\n",
    "start = time.time()\n",
    "response = sfn.start_sync_execution(\n",
    "    stateMachineArn=state_machine_arn,\n",
    "    name='amazon_scraper',\n",
    "    input=json.dumps(page_batch)\n",
    ")\n",
    "time_elapsed = time.time() - start\n",
    "time_elapsed"
   ]
  }
 ],
 "metadata": {
  "kernelspec": {
   "display_name": "Python 3 (ipykernel)",
   "language": "python",
   "name": "python3"
  },
  "language_info": {
   "codemirror_mode": {
    "name": "ipython",
    "version": 3
   },
   "file_extension": ".py",
   "mimetype": "text/x-python",
   "name": "python",
   "nbconvert_exporter": "python",
   "pygments_lexer": "ipython3",
   "version": "3.9.7"
  }
 },
 "nbformat": 4,
 "nbformat_minor": 5
}
