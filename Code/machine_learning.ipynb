{
 "cells": [
  {
   "cell_type": "markdown",
   "id": "b52578d0-c9e3-4673-8085-3112cc0c2c5e",
   "metadata": {
    "tags": []
   },
   "source": [
    "# Amazon Review Data"
   ]
  },
  {
   "cell_type": "markdown",
   "id": "27c3ed3e-f31d-4e44-aa0e-cd58c15364e2",
   "metadata": {},
   "source": [
    "## Installing packages"
   ]
  },
  {
   "cell_type": "code",
   "execution_count": 1,
   "id": "499fa200-9da1-478e-be6f-878d34b8325b",
   "metadata": {
    "execution": {
     "iopub.execute_input": "2022-06-04T00:20:29.445796Z",
     "iopub.status.busy": "2022-06-04T00:20:29.445517Z",
     "iopub.status.idle": "2022-06-04T00:21:58.779420Z",
     "shell.execute_reply": "2022-06-04T00:21:58.778725Z",
     "shell.execute_reply.started": "2022-06-04T00:20:29.445770Z"
    },
    "tags": []
   },
   "outputs": [
    {
     "data": {
      "application/vnd.jupyter.widget-view+json": {
       "model_id": "05c0473bcce44fb8ad43ac4dddf8ca14",
       "version_major": 2,
       "version_minor": 0
      },
      "text/plain": [
       "VBox()"
      ]
     },
     "metadata": {},
     "output_type": "display_data"
    },
    {
     "name": "stdout",
     "output_type": "stream",
     "text": [
      "Starting Spark application\n"
     ]
    },
    {
     "data": {
      "text/html": [
       "<table>\n",
       "<tr><th>ID</th><th>YARN Application ID</th><th>Kind</th><th>State</th><th>Spark UI</th><th>Driver log</th><th>Current session?</th></tr><tr><td>0</td><td>application_1654301864363_0001</td><td>pyspark</td><td>idle</td><td><a target=\"_blank\" href=\"http://ip-172-31-30-234.ec2.internal:20888/proxy/application_1654301864363_0001/\" >Link</a></td><td><a target=\"_blank\" href=\"http://ip-172-31-20-214.ec2.internal:8042/node/containerlogs/container_1654301864363_0001_01_000001/livy\" >Link</a></td><td>✔</td></tr></table>"
      ],
      "text/plain": [
       "<IPython.core.display.HTML object>"
      ]
     },
     "metadata": {},
     "output_type": "display_data"
    },
    {
     "data": {
      "application/vnd.jupyter.widget-view+json": {
       "model_id": "",
       "version_major": 2,
       "version_minor": 0
      },
      "text/plain": [
       "FloatProgress(value=0.0, bar_style='info', description='Progress:', layout=Layout(height='25px', width='50%'),…"
      ]
     },
     "metadata": {},
     "output_type": "display_data"
    },
    {
     "name": "stdout",
     "output_type": "stream",
     "text": [
      "SparkSession available as 'spark'.\n"
     ]
    },
    {
     "data": {
      "application/vnd.jupyter.widget-view+json": {
       "model_id": "",
       "version_major": 2,
       "version_minor": 0
      },
      "text/plain": [
       "FloatProgress(value=0.0, bar_style='info', description='Progress:', layout=Layout(height='25px', width='50%'),…"
      ]
     },
     "metadata": {},
     "output_type": "display_data"
    },
    {
     "name": "stdout",
     "output_type": "stream",
     "text": [
      "Collecting pandas==1.0.3\n",
      "  Downloading https://files.pythonhosted.org/packages/4a/6a/94b219b8ea0f2d580169e85ed1edc0163743f55aaeca8a44c2e8fc1e344e/pandas-1.0.3-cp37-cp37m-manylinux1_x86_64.whl (10.0MB)\n",
      "Requirement already satisfied: pytz>=2017.2 in /usr/local/lib/python3.7/site-packages (from pandas==1.0.3)\n",
      "Requirement already satisfied: numpy>=1.13.3 in /usr/local/lib64/python3.7/site-packages (from pandas==1.0.3)\n",
      "Requirement already satisfied: python-dateutil>=2.6.1 in /usr/local/lib/python3.7/site-packages (from pandas==1.0.3)\n",
      "Requirement already satisfied: six>=1.5 in /usr/local/lib/python3.7/site-packages (from python-dateutil>=2.6.1->pandas==1.0.3)\n",
      "Installing collected packages: pandas\n",
      "Successfully installed pandas-1.0.3\n",
      "\n",
      "Collecting scipy==1.4.1\n",
      "  Downloading https://files.pythonhosted.org/packages/dd/82/c1fe128f3526b128cfd185580ba40d01371c5d299fcf7f77968e22dfcc2e/scipy-1.4.1-cp37-cp37m-manylinux1_x86_64.whl (26.1MB)\n",
      "Requirement already satisfied: numpy>=1.13.3 in /usr/local/lib64/python3.7/site-packages (from scipy==1.4.1)\n",
      "Installing collected packages: scipy\n",
      "Successfully installed scipy-1.4.1\n",
      "\n",
      "Collecting matplotlib==3.2.1\n",
      "  Downloading https://files.pythonhosted.org/packages/b2/c2/71fcf957710f3ba1f09088b35776a799ba7dd95f7c2b195ec800933b276b/matplotlib-3.2.1-cp37-cp37m-manylinux1_x86_64.whl (12.4MB)\n",
      "Requirement already satisfied: python-dateutil>=2.1 in /usr/local/lib/python3.7/site-packages (from matplotlib==3.2.1)\n",
      "Collecting pyparsing!=2.0.4,!=2.1.2,!=2.1.6,>=2.0.1 (from matplotlib==3.2.1)\n",
      "  Downloading https://files.pythonhosted.org/packages/6c/10/a7d0fa5baea8fe7b50f448ab742f26f52b80bfca85ac2be9d35cdd9a3246/pyparsing-3.0.9-py3-none-any.whl (98kB)\n",
      "Collecting cycler>=0.10 (from matplotlib==3.2.1)\n",
      "  Downloading https://files.pythonhosted.org/packages/5c/f9/695d6bedebd747e5eb0fe8fad57b72fdf25411273a39791cde838d5a8f51/cycler-0.11.0-py3-none-any.whl\n",
      "Requirement already satisfied: numpy>=1.11 in /usr/local/lib64/python3.7/site-packages (from matplotlib==3.2.1)\n",
      "Collecting kiwisolver>=1.0.1 (from matplotlib==3.2.1)\n",
      "  Downloading https://files.pythonhosted.org/packages/51/50/9a9a94afa26c50fc5d9127272737806990aa698c7a1c220b8e5075e70304/kiwisolver-1.4.2-cp37-cp37m-manylinux_2_5_x86_64.manylinux1_x86_64.whl (1.1MB)\n",
      "Requirement already satisfied: six>=1.5 in /usr/local/lib/python3.7/site-packages (from python-dateutil>=2.1->matplotlib==3.2.1)\n",
      "Collecting typing-extensions; python_version < \"3.8\" (from kiwisolver>=1.0.1->matplotlib==3.2.1)\n",
      "  Downloading https://files.pythonhosted.org/packages/75/e1/932e06004039dd670c9d5e1df0cd606bf46e29a28e65d5bb28e894ea29c9/typing_extensions-4.2.0-py3-none-any.whl\n",
      "Installing collected packages: pyparsing, cycler, typing-extensions, kiwisolver, matplotlib\n",
      "Successfully installed cycler-0.11.0 kiwisolver-1.4.2 matplotlib-3.2.1 pyparsing-3.0.9 typing-extensions-4.2.0\n",
      "\n",
      "Collecting seaborn==0.10.1\n",
      "  Downloading https://files.pythonhosted.org/packages/c7/e6/54aaaafd0b87f51dfba92ba73da94151aa3bc179e5fe88fc5dfb3038e860/seaborn-0.10.1-py3-none-any.whl (215kB)\n",
      "Requirement already satisfied: pandas>=0.22.0 in /mnt/tmp/1654302067968-0/lib/python3.7/site-packages (from seaborn==0.10.1)\n",
      "Requirement already satisfied: numpy>=1.13.3 in /usr/local/lib64/python3.7/site-packages (from seaborn==0.10.1)\n",
      "Requirement already satisfied: scipy>=1.0.1 in /mnt/tmp/1654302067968-0/lib/python3.7/site-packages (from seaborn==0.10.1)\n",
      "Requirement already satisfied: matplotlib>=2.1.2 in /mnt/tmp/1654302067968-0/lib/python3.7/site-packages (from seaborn==0.10.1)\n",
      "Requirement already satisfied: pytz>=2017.2 in /usr/local/lib/python3.7/site-packages (from pandas>=0.22.0->seaborn==0.10.1)\n",
      "Requirement already satisfied: python-dateutil>=2.6.1 in /usr/local/lib/python3.7/site-packages (from pandas>=0.22.0->seaborn==0.10.1)\n",
      "Requirement already satisfied: pyparsing!=2.0.4,!=2.1.2,!=2.1.6,>=2.0.1 in /mnt/tmp/1654302067968-0/lib/python3.7/site-packages (from matplotlib>=2.1.2->seaborn==0.10.1)\n",
      "Requirement already satisfied: cycler>=0.10 in /mnt/tmp/1654302067968-0/lib/python3.7/site-packages (from matplotlib>=2.1.2->seaborn==0.10.1)\n",
      "Requirement already satisfied: kiwisolver>=1.0.1 in /mnt/tmp/1654302067968-0/lib/python3.7/site-packages (from matplotlib>=2.1.2->seaborn==0.10.1)\n",
      "Requirement already satisfied: six>=1.5 in /usr/local/lib/python3.7/site-packages (from python-dateutil>=2.6.1->pandas>=0.22.0->seaborn==0.10.1)\n",
      "Requirement already satisfied: typing-extensions; python_version < \"3.8\" in /mnt/tmp/1654302067968-0/lib/python3.7/site-packages (from kiwisolver>=1.0.1->matplotlib>=2.1.2->seaborn==0.10.1)\n",
      "Installing collected packages: seaborn\n",
      "Successfully installed seaborn-0.10.1"
     ]
    }
   ],
   "source": [
    "sc.install_pypi_package(\"pandas==1.0.3\")\n",
    "sc.install_pypi_package(\"scipy==1.4.1\")\n",
    "sc.install_pypi_package(\"matplotlib==3.2.1\")\n",
    "sc.install_pypi_package(\"seaborn==0.10.1\")"
   ]
  },
  {
   "cell_type": "code",
   "execution_count": 2,
   "id": "5ebc63df-0b6b-491d-b817-73337296b4c1",
   "metadata": {
    "execution": {
     "iopub.execute_input": "2022-06-04T00:22:35.585011Z",
     "iopub.status.busy": "2022-06-04T00:22:35.584776Z",
     "iopub.status.idle": "2022-06-04T00:22:36.368532Z",
     "shell.execute_reply": "2022-06-04T00:22:36.367959Z",
     "shell.execute_reply.started": "2022-06-04T00:22:35.584985Z"
    },
    "tags": []
   },
   "outputs": [
    {
     "data": {
      "application/vnd.jupyter.widget-view+json": {
       "model_id": "921f1cfdb8ad4381b213e2fa69778c6c",
       "version_major": 2,
       "version_minor": 0
      },
      "text/plain": [
       "VBox()"
      ]
     },
     "metadata": {},
     "output_type": "display_data"
    },
    {
     "data": {
      "application/vnd.jupyter.widget-view+json": {
       "model_id": "",
       "version_major": 2,
       "version_minor": 0
      },
      "text/plain": [
       "FloatProgress(value=0.0, bar_style='info', description='Progress:', layout=Layout(height='25px', width='50%'),…"
      ]
     },
     "metadata": {},
     "output_type": "display_data"
    },
    {
     "name": "stdout",
     "output_type": "stream",
     "text": [
      "Package                    Version   \n",
      "-------------------------- ----------\n",
      "awscli                     1.25.2    \n",
      "beautifulsoup4             4.9.3     \n",
      "boto                       2.49.0    \n",
      "botocore                   1.27.2    \n",
      "click                      7.1.2     \n",
      "colorama                   0.4.4     \n",
      "cycler                     0.11.0    \n",
      "docutils                   0.16      \n",
      "jmespath                   0.10.0    \n",
      "joblib                     0.17.0    \n",
      "kiwisolver                 1.4.2     \n",
      "lxml                       4.6.1     \n",
      "matplotlib                 3.2.1     \n",
      "mysqlclient                1.4.2     \n",
      "nltk                       3.5       \n",
      "nose                       1.3.4     \n",
      "numpy                      1.16.5    \n",
      "pandas                     1.0.3     \n",
      "pip                        9.0.1     \n",
      "py-dateutil                2.2       \n",
      "pyasn1                     0.4.8     \n",
      "pyparsing                  3.0.9     \n",
      "python-dateutil            2.8.2     \n",
      "python37-sagemaker-pyspark 1.4.1     \n",
      "pytz                       2020.1    \n",
      "PyYAML                     5.3.1     \n",
      "regex                      2020.10.28\n",
      "rsa                        4.7.2     \n",
      "s3transfer                 0.6.0     \n",
      "scipy                      1.4.1     \n",
      "seaborn                    0.10.1    \n",
      "setuptools                 28.8.0    \n",
      "six                        1.13.0    \n",
      "spark-nlp                  3.4.4     \n",
      "tqdm                       4.51.0    \n",
      "typing-extensions          4.2.0     \n",
      "urllib3                    1.26.9    \n",
      "wheel                      0.29.0    \n",
      "windmill                   1.6"
     ]
    }
   ],
   "source": [
    "sc.list_packages()"
   ]
  },
  {
   "cell_type": "markdown",
   "id": "046b521c-af6b-429f-aa0f-5ba380a5edda",
   "metadata": {},
   "source": [
    "## Read from S3"
   ]
  },
  {
   "cell_type": "code",
   "execution_count": 3,
   "id": "88062ad0-73f0-4540-bbef-73981308fa8e",
   "metadata": {
    "execution": {
     "iopub.execute_input": "2022-06-04T00:22:40.509386Z",
     "iopub.status.busy": "2022-06-04T00:22:40.509179Z",
     "iopub.status.idle": "2022-06-04T00:22:51.902865Z",
     "shell.execute_reply": "2022-06-04T00:22:51.902252Z",
     "shell.execute_reply.started": "2022-06-04T00:22:40.509363Z"
    },
    "tags": []
   },
   "outputs": [
    {
     "data": {
      "application/vnd.jupyter.widget-view+json": {
       "model_id": "91623ee5098b4290bc0ba67fc4f98b8c",
       "version_major": 2,
       "version_minor": 0
      },
      "text/plain": [
       "VBox()"
      ]
     },
     "metadata": {},
     "output_type": "display_data"
    },
    {
     "data": {
      "application/vnd.jupyter.widget-view+json": {
       "model_id": "",
       "version_major": 2,
       "version_minor": 0
      },
      "text/plain": [
       "FloatProgress(value=0.0, bar_style='info', description='Progress:', layout=Layout(height='25px', width='50%'),…"
      ]
     },
     "metadata": {},
     "output_type": "display_data"
    }
   ],
   "source": [
    "data = spark.read.format('csv').options(header='true', inferSchema='true').load('s3://hshi420/amazon_pet.csv')"
   ]
  },
  {
   "cell_type": "code",
   "execution_count": 4,
   "id": "9535e8c1-774f-47a4-bfec-8e82b333f637",
   "metadata": {
    "execution": {
     "iopub.execute_input": "2022-06-04T00:23:08.331395Z",
     "iopub.status.busy": "2022-06-04T00:23:08.331175Z",
     "iopub.status.idle": "2022-06-04T00:23:09.111867Z",
     "shell.execute_reply": "2022-06-04T00:23:09.111263Z",
     "shell.execute_reply.started": "2022-06-04T00:23:08.331371Z"
    },
    "tags": []
   },
   "outputs": [
    {
     "data": {
      "application/vnd.jupyter.widget-view+json": {
       "model_id": "520a9dfc48234682b481a51b41941e93",
       "version_major": 2,
       "version_minor": 0
      },
      "text/plain": [
       "VBox()"
      ]
     },
     "metadata": {},
     "output_type": "display_data"
    },
    {
     "data": {
      "application/vnd.jupyter.widget-view+json": {
       "model_id": "",
       "version_major": 2,
       "version_minor": 0
      },
      "text/plain": [
       "FloatProgress(value=0.0, bar_style='info', description='Progress:', layout=Layout(height='25px', width='50%'),…"
      ]
     },
     "metadata": {},
     "output_type": "display_data"
    },
    {
     "name": "stdout",
     "output_type": "stream",
     "text": [
      "+---+-----+----------+--------------------+-----+--------------+------------------+--------------------+--------------------+------------------+--------------------+\n",
      "|_c0|index|product_id|               title|price|    num_rating|    overall_rating|       helpful_votes|                date|              star|                text|\n",
      "+---+-----+----------+--------------------+-----+--------------+------------------+--------------------+--------------------+------------------+--------------------+\n",
      "|  0|    0|B00006IX59|Chuckit! Classic ...| 8.72|46,941 ratings|4.7 out of 5 stars|385 people found ...|Reviewed in the U...|4.0 out of 5 stars|\"After I broke my...|\n",
      "|  1|    1|B00006IX59|Chuckit! Classic ...| 8.72|46,941 ratings|4.7 out of 5 stars|909 people found ...|Reviewed in the U...|3.0 out of 5 stars|Some (pointed) th...|\n",
      "|  2|    2|B00006IX59|Chuckit! Classic ...| 8.72|46,941 ratings|4.7 out of 5 stars|100 people found ...|Reviewed in the U...|5.0 out of 5 stars|\"I use this to th...|\n",
      "|  3|    3|B00006IX59|Chuckit! Classic ...| 8.72|46,941 ratings|4.7 out of 5 stars|145 people found ...|Reviewed in the U...|        VINE VOICE|Combined with the...|\n",
      "|  4|    4|B00006IX59|Chuckit! Classic ...| 8.72|46,941 ratings|4.7 out of 5 stars|50 people found t...|Reviewed in the U...| TOP 1000 REVIEWER|I have a young Go...|\n",
      "+---+-----+----------+--------------------+-----+--------------+------------------+--------------------+--------------------+------------------+--------------------+\n",
      "only showing top 5 rows"
     ]
    }
   ],
   "source": [
    "data.show(5)"
   ]
  },
  {
   "cell_type": "markdown",
   "id": "7b4ea035-b6ab-44aa-9892-54ad42819571",
   "metadata": {},
   "source": [
    "## Sample"
   ]
  },
  {
   "cell_type": "code",
   "execution_count": 5,
   "id": "bff6daec-1da0-48c2-967a-26944333580a",
   "metadata": {
    "execution": {
     "iopub.execute_input": "2022-06-04T00:23:09.139305Z",
     "iopub.status.busy": "2022-06-04T00:23:09.139123Z",
     "iopub.status.idle": "2022-06-04T00:23:09.202675Z",
     "shell.execute_reply": "2022-06-04T00:23:09.202144Z",
     "shell.execute_reply.started": "2022-06-04T00:23:09.139283Z"
    },
    "tags": []
   },
   "outputs": [
    {
     "data": {
      "application/vnd.jupyter.widget-view+json": {
       "model_id": "c678ed07553d4884b78e3497e9413674",
       "version_major": 2,
       "version_minor": 0
      },
      "text/plain": [
       "VBox()"
      ]
     },
     "metadata": {},
     "output_type": "display_data"
    },
    {
     "data": {
      "application/vnd.jupyter.widget-view+json": {
       "model_id": "",
       "version_major": 2,
       "version_minor": 0
      },
      "text/plain": [
       "FloatProgress(value=0.0, bar_style='info', description='Progress:', layout=Layout(height='25px', width='50%'),…"
      ]
     },
     "metadata": {},
     "output_type": "display_data"
    }
   ],
   "source": [
    "# scale up by commenting out the following line\n",
    "data = data.sample(fraction=0.05)"
   ]
  },
  {
   "cell_type": "markdown",
   "id": "e4cefc09-6980-4229-b494-ca4875983078",
   "metadata": {},
   "source": [
    "## Clean Data"
   ]
  },
  {
   "cell_type": "code",
   "execution_count": 6,
   "id": "73e45391-36ce-469a-a621-f3a1a36fedf3",
   "metadata": {
    "execution": {
     "iopub.execute_input": "2022-06-04T00:23:09.728081Z",
     "iopub.status.busy": "2022-06-04T00:23:09.727895Z",
     "iopub.status.idle": "2022-06-04T00:23:10.510443Z",
     "shell.execute_reply": "2022-06-04T00:23:10.509868Z",
     "shell.execute_reply.started": "2022-06-04T00:23:09.728059Z"
    },
    "tags": []
   },
   "outputs": [
    {
     "data": {
      "application/vnd.jupyter.widget-view+json": {
       "model_id": "304fadcea093413393439ebb1b7adae0",
       "version_major": 2,
       "version_minor": 0
      },
      "text/plain": [
       "VBox()"
      ]
     },
     "metadata": {},
     "output_type": "display_data"
    },
    {
     "data": {
      "application/vnd.jupyter.widget-view+json": {
       "model_id": "",
       "version_major": 2,
       "version_minor": 0
      },
      "text/plain": [
       "FloatProgress(value=0.0, bar_style='info', description='Progress:', layout=Layout(height='25px', width='50%'),…"
      ]
     },
     "metadata": {},
     "output_type": "display_data"
    }
   ],
   "source": [
    "from pyspark.sql.functions import *\n",
    "\n",
    "# clean overall rating\n",
    "cleaned = data.withColumn('overall_rating', regexp_replace('overall_rating', ' out of 5 stars', '').cast('double'))\n",
    "# clean star rating\n",
    "cleaned = cleaned.withColumn('star', regexp_replace('star', ' out of 5 stars', '').cast('double'))\n",
    "# clean number of ratings\n",
    "cleaned = cleaned.withColumn('num_rating', regexp_replace('num_rating', ' ratings', ''))\n",
    "cleaned = cleaned.withColumn('num_rating', regexp_replace('num_rating', ',', '').cast('integer'))\n",
    "# clean helpful votes\n",
    "cleaned = cleaned.withColumn('helpful_votes', regexp_replace('helpful_votes', 'One person found this helpful', '1'))\n",
    "cleaned = cleaned.withColumn('helpful_votes', regexp_replace('helpful_votes', ' people found this helpful', ''))\n",
    "cleaned = cleaned.withColumn('helpful_votes', col('helpful_votes').cast('integer'))\n",
    "# seperate date and review location\n",
    "cleaned = cleaned.withColumn(\"review_location\", split(col(\"date\"), \" on \").getItem(0))\n",
    "cleaned = cleaned.withColumn(\"review_location\", regexp_replace('review_location', 'Reviewed in ', ''))\n",
    "cleaned = cleaned.withColumn(\"review_date\", split(col(\"date\"), \" on \").getItem(1))\n",
    "cleaned = cleaned.withColumn(\"review_date\", to_date(col(\"review_date\"), 'MMMM d, yyyy').cast('string'))\n",
    "# clean price\n",
    "cleaned = cleaned.withColumn('price', col('price').cast('double'))\n",
    "# drop un-useful columns\n",
    "cleaned = cleaned.drop(\"_c0\")\n",
    "cleaned = cleaned.drop(\"date\")"
   ]
  },
  {
   "cell_type": "code",
   "execution_count": 7,
   "id": "21ffb441-ad77-4994-b16a-15772fdabd64",
   "metadata": {
    "execution": {
     "iopub.execute_input": "2022-06-04T00:23:10.511559Z",
     "iopub.status.busy": "2022-06-04T00:23:10.511385Z",
     "iopub.status.idle": "2022-06-04T00:23:11.838575Z",
     "shell.execute_reply": "2022-06-04T00:23:11.837895Z",
     "shell.execute_reply.started": "2022-06-04T00:23:10.511538Z"
    },
    "tags": []
   },
   "outputs": [
    {
     "data": {
      "application/vnd.jupyter.widget-view+json": {
       "model_id": "328f6e3ad536471eb81e5d679c4008a9",
       "version_major": 2,
       "version_minor": 0
      },
      "text/plain": [
       "VBox()"
      ]
     },
     "metadata": {},
     "output_type": "display_data"
    },
    {
     "data": {
      "application/vnd.jupyter.widget-view+json": {
       "model_id": "",
       "version_major": 2,
       "version_minor": 0
      },
      "text/plain": [
       "FloatProgress(value=0.0, bar_style='info', description='Progress:', layout=Layout(height='25px', width='50%'),…"
      ]
     },
     "metadata": {},
     "output_type": "display_data"
    },
    {
     "name": "stdout",
     "output_type": "stream",
     "text": [
      "+-----+----------+--------------------+-----+----------+--------------+-------------+----+--------------------+-----------------+-----------+\n",
      "|index|product_id|               title|price|num_rating|overall_rating|helpful_votes|star|                text|  review_location|review_date|\n",
      "+-----+----------+--------------------+-----+----------+--------------+-------------+----+--------------------+-----------------+-----------+\n",
      "|   12|B00006IX59|Chuckit! Classic ...| 8.72|     46941|           4.7|           16| 1.0|Too small!  Not e...|the United States| 2018-09-03|\n",
      "|   16|B00006IX59|Chuckit! Classic ...| 8.72|     46941|           4.7|            2| 1.0|I've used Chuck i...|the United States| 2022-03-14|\n",
      "|   49|B00006IX59|Chuckit! Classic ...| 8.72|     46941|           4.7|         null| 5.0|\"My husband is 41...|the United States| 2021-08-24|\n",
      "|   93|B00006IX59|Chuckit! Classic ...| 8.72|     46941|           4.7|         null| 4.0|\"We bought the 26...|the United States| 2020-11-23|\n",
      "|  107|B00006IX59|Chuckit! Classic ...| 8.72|     46941|           4.7|            2| 5.0|By far, my dog’s ...|the United States| 2020-12-10|\n",
      "+-----+----------+--------------------+-----+----------+--------------+-------------+----+--------------------+-----------------+-----------+\n",
      "only showing top 5 rows"
     ]
    }
   ],
   "source": [
    "cleaned.show(5)"
   ]
  },
  {
   "cell_type": "code",
   "execution_count": 8,
   "id": "d2676b83-0184-40c3-83a5-b8bde27112fd",
   "metadata": {
    "execution": {
     "iopub.execute_input": "2022-06-04T00:23:11.840408Z",
     "iopub.status.busy": "2022-06-04T00:23:11.840161Z",
     "iopub.status.idle": "2022-06-04T00:23:12.108632Z",
     "shell.execute_reply": "2022-06-04T00:23:12.107891Z",
     "shell.execute_reply.started": "2022-06-04T00:23:11.840371Z"
    },
    "tags": []
   },
   "outputs": [
    {
     "data": {
      "application/vnd.jupyter.widget-view+json": {
       "model_id": "62a6aa2eb2f04eb2ab53252fd7f56ad3",
       "version_major": 2,
       "version_minor": 0
      },
      "text/plain": [
       "VBox()"
      ]
     },
     "metadata": {},
     "output_type": "display_data"
    },
    {
     "data": {
      "application/vnd.jupyter.widget-view+json": {
       "model_id": "",
       "version_major": 2,
       "version_minor": 0
      },
      "text/plain": [
       "FloatProgress(value=0.0, bar_style='info', description='Progress:', layout=Layout(height='25px', width='50%'),…"
      ]
     },
     "metadata": {},
     "output_type": "display_data"
    },
    {
     "name": "stdout",
     "output_type": "stream",
     "text": [
      "root\n",
      " |-- index: integer (nullable = true)\n",
      " |-- product_id: string (nullable = true)\n",
      " |-- title: string (nullable = true)\n",
      " |-- price: double (nullable = true)\n",
      " |-- num_rating: integer (nullable = true)\n",
      " |-- overall_rating: double (nullable = true)\n",
      " |-- helpful_votes: integer (nullable = true)\n",
      " |-- star: double (nullable = true)\n",
      " |-- text: string (nullable = true)\n",
      " |-- review_location: string (nullable = true)\n",
      " |-- review_date: string (nullable = true)"
     ]
    }
   ],
   "source": [
    "cleaned.printSchema()"
   ]
  },
  {
   "cell_type": "code",
   "execution_count": 9,
   "id": "fc5bcb2d-05bc-42d1-b2c8-072919d90fa5",
   "metadata": {
    "execution": {
     "iopub.execute_input": "2022-06-04T00:23:12.110173Z",
     "iopub.status.busy": "2022-06-04T00:23:12.109945Z",
     "iopub.status.idle": "2022-06-04T00:23:15.456721Z",
     "shell.execute_reply": "2022-06-04T00:23:15.456182Z",
     "shell.execute_reply.started": "2022-06-04T00:23:12.110142Z"
    },
    "tags": []
   },
   "outputs": [
    {
     "data": {
      "application/vnd.jupyter.widget-view+json": {
       "model_id": "65360723b5b149e5916e6d001d92279b",
       "version_major": 2,
       "version_minor": 0
      },
      "text/plain": [
       "VBox()"
      ]
     },
     "metadata": {},
     "output_type": "display_data"
    },
    {
     "data": {
      "application/vnd.jupyter.widget-view+json": {
       "model_id": "",
       "version_major": 2,
       "version_minor": 0
      },
      "text/plain": [
       "FloatProgress(value=0.0, bar_style='info', description='Progress:', layout=Layout(height='25px', width='50%'),…"
      ]
     },
     "metadata": {},
     "output_type": "display_data"
    },
    {
     "name": "stdout",
     "output_type": "stream",
     "text": [
      "+--------------------+-----+\n",
      "|     review_location|count|\n",
      "+--------------------+-----+\n",
      "|   the United States|16427|\n",
      "|  the United Kingdom|    4|\n",
      "|                none|  107|\n",
      "|One person found ...|   19|\n",
      "|              Mexico|    1|\n",
      "|               Japan|    2|\n",
      "|             Germany|    1|\n",
      "|              Canada|   18|\n",
      "|              Brazil|    2|\n",
      "|9 people found th...|    1|\n",
      "|       8,293 ratings|   12|\n",
      "|8 people found th...|    1|\n",
      "|6 people found th...|    1|\n",
      "|5 people found th...|    1|\n",
      "|47 people found t...|    1|\n",
      "|  4.5 out of 5 stars|   38|\n",
      "|  4.4 out of 5 stars|   18|\n",
      "|  4.3 out of 5 stars|   15|\n",
      "|4 people found th...|    1|\n",
      "|356 people found ...|    1|\n",
      "+--------------------+-----+\n",
      "only showing top 20 rows"
     ]
    }
   ],
   "source": [
    "location = (cleaned.groupBy('review_location').count().sort('review_location', ascending=False))\n",
    "location.show()"
   ]
  },
  {
   "cell_type": "code",
   "execution_count": 10,
   "id": "6ac3fba3-8436-40fb-86f1-cdd4fce7c4b0",
   "metadata": {
    "execution": {
     "iopub.execute_input": "2022-06-04T00:23:15.458469Z",
     "iopub.status.busy": "2022-06-04T00:23:15.458267Z",
     "iopub.status.idle": "2022-06-04T00:23:17.754204Z",
     "shell.execute_reply": "2022-06-04T00:23:17.751481Z",
     "shell.execute_reply.started": "2022-06-04T00:23:15.458445Z"
    },
    "tags": []
   },
   "outputs": [
    {
     "data": {
      "application/vnd.jupyter.widget-view+json": {
       "model_id": "c6d2a95f334f4b359dcef652e7d54a82",
       "version_major": 2,
       "version_minor": 0
      },
      "text/plain": [
       "VBox()"
      ]
     },
     "metadata": {},
     "output_type": "display_data"
    },
    {
     "data": {
      "application/vnd.jupyter.widget-view+json": {
       "model_id": "",
       "version_major": 2,
       "version_minor": 0
      },
      "text/plain": [
       "FloatProgress(value=0.0, bar_style='info', description='Progress:', layout=Layout(height='25px', width='50%'),…"
      ]
     },
     "metadata": {},
     "output_type": "display_data"
    },
    {
     "name": "stdout",
     "output_type": "stream",
     "text": [
      "+-----+-----+\n",
      "| star|count|\n",
      "+-----+-----+\n",
      "|93.99|   11|\n",
      "|33.99|   15|\n",
      "|19.99|   16|\n",
      "|  5.0| 9849|\n",
      "|  4.4|   12|\n",
      "|  4.0| 1628|\n",
      "|  3.0| 1230|\n",
      "|  2.0|  983|\n",
      "|  1.0| 2584|\n",
      "| null|  439|\n",
      "+-----+-----+"
     ]
    }
   ],
   "source": [
    "star = (cleaned.groupBy('star').count().sort('star', ascending=False))\n",
    "star.show()"
   ]
  },
  {
   "cell_type": "markdown",
   "id": "6e68df6a-59e0-4a6d-9d6d-339393009653",
   "metadata": {},
   "source": [
    "# COVID Data"
   ]
  },
  {
   "cell_type": "markdown",
   "id": "677ef372-3a47-4792-bbbe-3ada9a18f659",
   "metadata": {},
   "source": [
    "## Read from S3"
   ]
  },
  {
   "cell_type": "code",
   "execution_count": 11,
   "id": "82668d95-f32d-4419-b81d-a7987c5e1d19",
   "metadata": {
    "execution": {
     "iopub.execute_input": "2022-06-04T00:23:17.755435Z",
     "iopub.status.busy": "2022-06-04T00:23:17.755240Z",
     "iopub.status.idle": "2022-06-04T00:23:18.593773Z",
     "shell.execute_reply": "2022-06-04T00:23:18.593110Z",
     "shell.execute_reply.started": "2022-06-04T00:23:17.755413Z"
    },
    "tags": []
   },
   "outputs": [
    {
     "data": {
      "application/vnd.jupyter.widget-view+json": {
       "model_id": "4d0534992ea7422ea8cfbb0d26692644",
       "version_major": 2,
       "version_minor": 0
      },
      "text/plain": [
       "VBox()"
      ]
     },
     "metadata": {},
     "output_type": "display_data"
    },
    {
     "data": {
      "application/vnd.jupyter.widget-view+json": {
       "model_id": "",
       "version_major": 2,
       "version_minor": 0
      },
      "text/plain": [
       "FloatProgress(value=0.0, bar_style='info', description='Progress:', layout=Layout(height='25px', width='50%'),…"
      ]
     },
     "metadata": {},
     "output_type": "display_data"
    }
   ],
   "source": [
    "covid_data = spark.read.format('csv').options(header='true', inferSchema='true').load('s3://hshi420/us.csv')"
   ]
  },
  {
   "cell_type": "markdown",
   "id": "62cbc5a1-cfd2-464e-ab0e-3bd446eba5fd",
   "metadata": {},
   "source": [
    "## Clean Data"
   ]
  },
  {
   "cell_type": "code",
   "execution_count": 12,
   "id": "32144784-9d5c-487d-9286-af136501b498",
   "metadata": {
    "execution": {
     "iopub.execute_input": "2022-06-04T00:23:18.595029Z",
     "iopub.status.busy": "2022-06-04T00:23:18.594712Z",
     "iopub.status.idle": "2022-06-04T00:23:18.858283Z",
     "shell.execute_reply": "2022-06-04T00:23:18.857668Z",
     "shell.execute_reply.started": "2022-06-04T00:23:18.595004Z"
    },
    "tags": []
   },
   "outputs": [
    {
     "data": {
      "application/vnd.jupyter.widget-view+json": {
       "model_id": "44de3807caf54dcda8699986f9d7641c",
       "version_major": 2,
       "version_minor": 0
      },
      "text/plain": [
       "VBox()"
      ]
     },
     "metadata": {},
     "output_type": "display_data"
    },
    {
     "data": {
      "application/vnd.jupyter.widget-view+json": {
       "model_id": "",
       "version_major": 2,
       "version_minor": 0
      },
      "text/plain": [
       "FloatProgress(value=0.0, bar_style='info', description='Progress:', layout=Layout(height='25px', width='50%'),…"
      ]
     },
     "metadata": {},
     "output_type": "display_data"
    }
   ],
   "source": [
    "from pyspark.sql.window import Window\n",
    "from pyspark.sql.functions import *\n",
    "\n",
    "# increase cases per \n",
    "window = Window.partitionBy().orderBy(\"date\")\n",
    "cleaned_covid = covid_data.withColumn(\"increase_cases\", col(\"cases\")-lag(col(\"cases\"), 1, 0).over(window))\n",
    "# increased deaths per day\n",
    "cleaned_covid = cleaned_covid.withColumn(\"increase_deaths\", col(\"deaths\")-lag(col(\"deaths\"), 1, 0).over(window))\n",
    "# cast type\n",
    "cleaned_covid = cleaned_covid.withColumn(\"date\", to_date(col(\"date\"), 'yyyy-mm-dd').cast('string'))"
   ]
  },
  {
   "cell_type": "code",
   "execution_count": 13,
   "id": "9dbc4f52-d7c7-4219-950a-a86fec3e56f3",
   "metadata": {
    "execution": {
     "iopub.execute_input": "2022-06-04T00:23:18.859965Z",
     "iopub.status.busy": "2022-06-04T00:23:18.859803Z",
     "iopub.status.idle": "2022-06-04T00:23:20.366334Z",
     "shell.execute_reply": "2022-06-04T00:23:20.324616Z",
     "shell.execute_reply.started": "2022-06-04T00:23:18.859944Z"
    },
    "tags": []
   },
   "outputs": [
    {
     "data": {
      "application/vnd.jupyter.widget-view+json": {
       "model_id": "6768a3d0a42f405789a849b02694d29e",
       "version_major": 2,
       "version_minor": 0
      },
      "text/plain": [
       "VBox()"
      ]
     },
     "metadata": {},
     "output_type": "display_data"
    },
    {
     "data": {
      "application/vnd.jupyter.widget-view+json": {
       "model_id": "",
       "version_major": 2,
       "version_minor": 0
      },
      "text/plain": [
       "FloatProgress(value=0.0, bar_style='info', description='Progress:', layout=Layout(height='25px', width='50%'),…"
      ]
     },
     "metadata": {},
     "output_type": "display_data"
    },
    {
     "name": "stdout",
     "output_type": "stream",
     "text": [
      "+----------+-----+------+--------------+---------------+\n",
      "|      date|cases|deaths|increase_cases|increase_deaths|\n",
      "+----------+-----+------+--------------+---------------+\n",
      "|2020-01-21|    1|     0|             1|              0|\n",
      "|2020-01-22|    1|     0|             0|              0|\n",
      "|2020-01-23|    1|     0|             0|              0|\n",
      "|2020-01-24|    2|     0|             1|              0|\n",
      "|2020-01-25|    3|     0|             1|              0|\n",
      "+----------+-----+------+--------------+---------------+\n",
      "only showing top 5 rows"
     ]
    }
   ],
   "source": [
    "cleaned_covid.show(5)"
   ]
  },
  {
   "cell_type": "code",
   "execution_count": 14,
   "id": "bd2959a9-43dd-4b65-b4ce-4a666e8c2a56",
   "metadata": {
    "execution": {
     "iopub.execute_input": "2022-06-04T00:23:20.387685Z",
     "iopub.status.busy": "2022-06-04T00:23:20.387210Z",
     "iopub.status.idle": "2022-06-04T00:23:20.551086Z",
     "shell.execute_reply": "2022-06-04T00:23:20.550456Z",
     "shell.execute_reply.started": "2022-06-04T00:23:20.387648Z"
    },
    "tags": []
   },
   "outputs": [
    {
     "data": {
      "application/vnd.jupyter.widget-view+json": {
       "model_id": "092ec5eccd6d4bb6be865a0884aaa91d",
       "version_major": 2,
       "version_minor": 0
      },
      "text/plain": [
       "VBox()"
      ]
     },
     "metadata": {},
     "output_type": "display_data"
    },
    {
     "data": {
      "application/vnd.jupyter.widget-view+json": {
       "model_id": "",
       "version_major": 2,
       "version_minor": 0
      },
      "text/plain": [
       "FloatProgress(value=0.0, bar_style='info', description='Progress:', layout=Layout(height='25px', width='50%'),…"
      ]
     },
     "metadata": {},
     "output_type": "display_data"
    },
    {
     "name": "stdout",
     "output_type": "stream",
     "text": [
      "root\n",
      " |-- date: string (nullable = true)\n",
      " |-- cases: integer (nullable = true)\n",
      " |-- deaths: integer (nullable = true)\n",
      " |-- increase_cases: integer (nullable = true)\n",
      " |-- increase_deaths: integer (nullable = true)"
     ]
    }
   ],
   "source": [
    "cleaned_covid.printSchema()"
   ]
  },
  {
   "cell_type": "markdown",
   "id": "298b2a43-2d4a-4d9f-8e88-6d720e95c3c7",
   "metadata": {},
   "source": [
    "# Machine Learning Model"
   ]
  },
  {
   "cell_type": "code",
   "execution_count": 15,
   "id": "98e5e0d9-cd40-4c78-84e4-8903156fe6b7",
   "metadata": {
    "execution": {
     "iopub.execute_input": "2022-06-04T00:23:20.552394Z",
     "iopub.status.busy": "2022-06-04T00:23:20.552147Z",
     "iopub.status.idle": "2022-06-04T00:23:20.817061Z",
     "shell.execute_reply": "2022-06-04T00:23:20.816461Z",
     "shell.execute_reply.started": "2022-06-04T00:23:20.552359Z"
    },
    "tags": []
   },
   "outputs": [
    {
     "data": {
      "application/vnd.jupyter.widget-view+json": {
       "model_id": "d91af8d8494e4b9ab88c1ce5bc5fb3bd",
       "version_major": 2,
       "version_minor": 0
      },
      "text/plain": [
       "VBox()"
      ]
     },
     "metadata": {},
     "output_type": "display_data"
    },
    {
     "data": {
      "application/vnd.jupyter.widget-view+json": {
       "model_id": "",
       "version_major": 2,
       "version_minor": 0
      },
      "text/plain": [
       "FloatProgress(value=0.0, bar_style='info', description='Progress:', layout=Layout(height='25px', width='50%'),…"
      ]
     },
     "metadata": {},
     "output_type": "display_data"
    }
   ],
   "source": [
    "df = cleaned.join(cleaned_covid, cleaned.review_date == cleaned_covid.date, \"leftouter\")"
   ]
  },
  {
   "cell_type": "markdown",
   "id": "38824beb-35d5-4a56-bd4c-22daff9ccb5f",
   "metadata": {},
   "source": [
    "## Feature Selection\n",
    "We controlled for length of the text and price of the product."
   ]
  },
  {
   "cell_type": "code",
   "execution_count": 16,
   "id": "84d490b4-5689-4662-af39-598cb7c28299",
   "metadata": {
    "execution": {
     "iopub.execute_input": "2022-06-04T00:23:20.818123Z",
     "iopub.status.busy": "2022-06-04T00:23:20.817940Z",
     "iopub.status.idle": "2022-06-04T00:23:20.896949Z",
     "shell.execute_reply": "2022-06-04T00:23:20.896385Z",
     "shell.execute_reply.started": "2022-06-04T00:23:20.818100Z"
    },
    "tags": []
   },
   "outputs": [
    {
     "data": {
      "application/vnd.jupyter.widget-view+json": {
       "model_id": "982934f76844482681bec40e828c41fe",
       "version_major": 2,
       "version_minor": 0
      },
      "text/plain": [
       "VBox()"
      ]
     },
     "metadata": {},
     "output_type": "display_data"
    },
    {
     "data": {
      "application/vnd.jupyter.widget-view+json": {
       "model_id": "",
       "version_major": 2,
       "version_minor": 0
      },
      "text/plain": [
       "FloatProgress(value=0.0, bar_style='info', description='Progress:', layout=Layout(height='25px', width='50%'),…"
      ]
     },
     "metadata": {},
     "output_type": "display_data"
    }
   ],
   "source": [
    "import pyspark.sql.functions as F\n",
    "\n",
    "df = df.withColumn(\"length_of_review\",\n",
    "                        F.length(\"text\").cast(\"integer\"))"
   ]
  },
  {
   "cell_type": "code",
   "execution_count": 17,
   "id": "e19bfdfe-6300-4e18-af1d-b8d78a9468e1",
   "metadata": {
    "execution": {
     "iopub.execute_input": "2022-06-04T00:23:20.899756Z",
     "iopub.status.busy": "2022-06-04T00:23:20.899512Z",
     "iopub.status.idle": "2022-06-04T00:23:20.964190Z",
     "shell.execute_reply": "2022-06-04T00:23:20.963690Z",
     "shell.execute_reply.started": "2022-06-04T00:23:20.899721Z"
    },
    "tags": []
   },
   "outputs": [
    {
     "data": {
      "application/vnd.jupyter.widget-view+json": {
       "model_id": "5c67b1d5a6e94d0089fd05741c928d49",
       "version_major": 2,
       "version_minor": 0
      },
      "text/plain": [
       "VBox()"
      ]
     },
     "metadata": {},
     "output_type": "display_data"
    },
    {
     "data": {
      "application/vnd.jupyter.widget-view+json": {
       "model_id": "",
       "version_major": 2,
       "version_minor": 0
      },
      "text/plain": [
       "FloatProgress(value=0.0, bar_style='info', description='Progress:', layout=Layout(height='25px', width='50%'),…"
      ]
     },
     "metadata": {},
     "output_type": "display_data"
    },
    {
     "name": "stdout",
     "output_type": "stream",
     "text": [
      "root\n",
      " |-- index: integer (nullable = true)\n",
      " |-- product_id: string (nullable = true)\n",
      " |-- title: string (nullable = true)\n",
      " |-- price: double (nullable = true)\n",
      " |-- num_rating: integer (nullable = true)\n",
      " |-- overall_rating: double (nullable = true)\n",
      " |-- helpful_votes: integer (nullable = true)\n",
      " |-- star: double (nullable = true)\n",
      " |-- text: string (nullable = true)\n",
      " |-- review_location: string (nullable = true)\n",
      " |-- review_date: string (nullable = true)\n",
      " |-- date: string (nullable = true)\n",
      " |-- cases: integer (nullable = true)\n",
      " |-- deaths: integer (nullable = true)\n",
      " |-- increase_cases: integer (nullable = true)\n",
      " |-- increase_deaths: integer (nullable = true)\n",
      " |-- length_of_review: integer (nullable = true)"
     ]
    }
   ],
   "source": [
    "df.printSchema()"
   ]
  },
  {
   "cell_type": "code",
   "execution_count": 18,
   "id": "d9b8142e-acf2-4491-a46b-22f7ceca7b1f",
   "metadata": {
    "execution": {
     "iopub.execute_input": "2022-06-04T00:23:20.965494Z",
     "iopub.status.busy": "2022-06-04T00:23:20.965246Z",
     "iopub.status.idle": "2022-06-04T00:23:23.273346Z",
     "shell.execute_reply": "2022-06-04T00:23:23.272706Z",
     "shell.execute_reply.started": "2022-06-04T00:23:20.965461Z"
    },
    "tags": []
   },
   "outputs": [
    {
     "data": {
      "application/vnd.jupyter.widget-view+json": {
       "model_id": "c8810217e6174566addc171c0ded5387",
       "version_major": 2,
       "version_minor": 0
      },
      "text/plain": [
       "VBox()"
      ]
     },
     "metadata": {},
     "output_type": "display_data"
    },
    {
     "data": {
      "application/vnd.jupyter.widget-view+json": {
       "model_id": "",
       "version_major": 2,
       "version_minor": 0
      },
      "text/plain": [
       "FloatProgress(value=0.0, bar_style='info', description='Progress:', layout=Layout(height='25px', width='50%'),…"
      ]
     },
     "metadata": {},
     "output_type": "display_data"
    },
    {
     "name": "stdout",
     "output_type": "stream",
     "text": [
      "+-----+----------+--------------------+-----+----------+--------------+-------------+----+--------------------+-----------------+-----------+----+-----+------+--------------+---------------+----------------+\n",
      "|index|product_id|               title|price|num_rating|overall_rating|helpful_votes|star|                text|  review_location|review_date|date|cases|deaths|increase_cases|increase_deaths|length_of_review|\n",
      "+-----+----------+--------------------+-----+----------+--------------+-------------+----+--------------------+-----------------+-----------+----+-----+------+--------------+---------------+----------------+\n",
      "|   12|B00006IX59|Chuckit! Classic ...| 8.72|     46941|           4.7|           16| 1.0|Too small!  Not e...|the United States| 2018-09-03|null| null|  null|          null|           null|             759|\n",
      "|   16|B00006IX59|Chuckit! Classic ...| 8.72|     46941|           4.7|            2| 1.0|I've used Chuck i...|the United States| 2022-03-14|null| null|  null|          null|           null|             593|\n",
      "|   49|B00006IX59|Chuckit! Classic ...| 8.72|     46941|           4.7|         null| 5.0|\"My husband is 41...|the United States| 2021-08-24|null| null|  null|          null|           null|             560|\n",
      "|   93|B00006IX59|Chuckit! Classic ...| 8.72|     46941|           4.7|         null| 4.0|\"We bought the 26...|the United States| 2020-11-23|null| null|  null|          null|           null|             260|\n",
      "|  107|B00006IX59|Chuckit! Classic ...| 8.72|     46941|           4.7|            2| 5.0|By far, my dog’s ...|the United States| 2020-12-10|null| null|  null|          null|           null|             263|\n",
      "|  123|B00006IX59|Chuckit! Classic ...| 8.72|     46941|           4.7|            1| 5.0|I wish i could gi...|the United States| 2016-09-27|null| null|  null|          null|           null|             973|\n",
      "|  140|B00006IX59|Chuckit! Classic ...| 8.72|     46941|           4.7|         null| 5.0|My dog and I LOVE...|the United States| 2021-07-03|null| null|  null|          null|           null|             564|\n",
      "|  152|B00006IX59|Chuckit! Classic ...| 8.72|     46941|           4.7|            2| 5.0|The media could n...|the United States| 2021-11-22|null| null|  null|          null|           null|             260|\n",
      "|  203|B00006IX59|Chuckit! Classic ...| 8.72|     46941|           4.7|         null| 4.0|My dog only plays...|the United States| 2021-05-12|null| null|  null|          null|           null|             351|\n",
      "|  207|B00006IX59|Chuckit! Classic ...| 8.72|     46941|           4.7|         null| 5.0|You can really wh...|the United States| 2021-10-24|null| null|  null|          null|           null|             301|\n",
      "|  216|B00006IX59|Chuckit! Classic ...| 8.72|     46941|           4.7|         null| 5.0|This is the first...|the United States| 2020-07-05|null| null|  null|          null|           null|             518|\n",
      "|  274|B00006IX59|Chuckit! Classic ...| 8.72|     46941|           4.7|         null| 5.0|I ordered my firs...|the United States| 2021-07-27|null| null|  null|          null|           null|             390|\n",
      "|  285|B00006IX59|Chuckit! Classic ...| 8.72|     46941|           4.7|         null| 5.0|\"This is the grea...|the United States| 2016-07-22|null| null|  null|          null|           null|             746|\n",
      "|    0|B000084DWM|Hill's Science Di...|18.99|      9274|           4.8|          198| 1.0|\"On the recommend...|the United States| 2019-03-19|null| null|  null|          null|           null|             305|\n",
      "|    8|B000084DWM|Hill's Science Di...|18.99|      9274|           4.8|          106| 5.0|I have been using...|the United States| 2016-06-22|null| null|  null|          null|           null|             861|\n",
      "|   11|B000084DWM|Hill's Science Di...|18.99|      9274|           4.8|            8| 1.0|EDIT 2: my cat at...|the United States| 2019-10-22|null| null|  null|          null|           null|            1329|\n",
      "|   15|B000084DWM|Hill's Science Di...|18.99|      9274|           4.8|            6| 1.0|My cat has been e...|the United States| 2020-11-09|null| null|  null|          null|           null|             681|\n",
      "|   23|B000084DWM|Hill's Science Di...|18.99|      9274|           4.8|            1| 5.0|This Hills SD see...|the United States| 2021-03-03|null| null|  null|          null|           null|             549|\n",
      "|  111|B000084DWM|Hill's Science Di...|18.99|      9274|           4.8|         null| 5.0|My cat absolutely...|the United States| 2021-07-10|null| null|  null|          null|           null|             191|\n",
      "|  125|B000084DWM|Hill's Science Di...|18.99|      9274|           4.8|            1| 5.0|Healthy food for ...|the United States| 2021-04-22|null| null|  null|          null|           null|              63|\n",
      "+-----+----------+--------------------+-----+----------+--------------+-------------+----+--------------------+-----------------+-----------+----+-----+------+--------------+---------------+----------------+\n",
      "only showing top 20 rows"
     ]
    }
   ],
   "source": [
    "df.show()"
   ]
  },
  {
   "cell_type": "code",
   "execution_count": 19,
   "id": "20c14d87-bcda-4949-bccc-73bd7a32909d",
   "metadata": {
    "execution": {
     "iopub.execute_input": "2022-06-04T00:23:23.276483Z",
     "iopub.status.busy": "2022-06-04T00:23:23.276236Z",
     "iopub.status.idle": "2022-06-04T00:23:23.656937Z",
     "shell.execute_reply": "2022-06-04T00:23:23.656306Z",
     "shell.execute_reply.started": "2022-06-04T00:23:23.276446Z"
    },
    "tags": []
   },
   "outputs": [
    {
     "data": {
      "application/vnd.jupyter.widget-view+json": {
       "model_id": "8860702f6d7c440984906ad9185e66fe",
       "version_major": 2,
       "version_minor": 0
      },
      "text/plain": [
       "VBox()"
      ]
     },
     "metadata": {},
     "output_type": "display_data"
    },
    {
     "data": {
      "application/vnd.jupyter.widget-view+json": {
       "model_id": "",
       "version_major": 2,
       "version_minor": 0
      },
      "text/plain": [
       "FloatProgress(value=0.0, bar_style='info', description='Progress:', layout=Layout(height='25px', width='50%'),…"
      ]
     },
     "metadata": {},
     "output_type": "display_data"
    }
   ],
   "source": [
    "df = df.fillna(0)"
   ]
  },
  {
   "cell_type": "markdown",
   "id": "e3424d1b-387b-4ec6-91bf-93c115ca8cbd",
   "metadata": {},
   "source": [
    "## Target Variable: Sentiment\n",
    "Sentiment Analysis Pipeline"
   ]
  },
  {
   "cell_type": "code",
   "execution_count": 20,
   "id": "9e2e7cd4-b1b6-4d0d-8c78-c610f8530dcb",
   "metadata": {
    "execution": {
     "iopub.execute_input": "2022-06-04T00:23:23.658325Z",
     "iopub.status.busy": "2022-06-04T00:23:23.658080Z",
     "iopub.status.idle": "2022-06-04T00:23:39.040777Z",
     "shell.execute_reply": "2022-06-04T00:23:39.039775Z",
     "shell.execute_reply.started": "2022-06-04T00:23:23.658290Z"
    },
    "tags": []
   },
   "outputs": [
    {
     "data": {
      "application/vnd.jupyter.widget-view+json": {
       "model_id": "7ececc94d87c45e3acde827a755c65cb",
       "version_major": 2,
       "version_minor": 0
      },
      "text/plain": [
       "VBox()"
      ]
     },
     "metadata": {},
     "output_type": "display_data"
    },
    {
     "data": {
      "application/vnd.jupyter.widget-view+json": {
       "model_id": "",
       "version_major": 2,
       "version_minor": 0
      },
      "text/plain": [
       "FloatProgress(value=0.0, bar_style='info', description='Progress:', layout=Layout(height='25px', width='50%'),…"
      ]
     },
     "metadata": {},
     "output_type": "display_data"
    },
    {
     "name": "stdout",
     "output_type": "stream",
     "text": [
      "sentiment_vivekn download started this may take some time.\n",
      "Approximate size to download 873.6 KB\n",
      "[OK!]"
     ]
    }
   ],
   "source": [
    "import sparknlp\n",
    "from sparknlp.base import *\n",
    "from pyspark.ml.feature import StringIndexer\n",
    "from sparknlp.annotator import *\n",
    "\n",
    "document_assembler = DocumentAssembler() \\\n",
    "    .setInputCol(\"text\") \\\n",
    "    .setOutputCol(\"document\")\n",
    "\n",
    "tokenizer_sent = Tokenizer() \\\n",
    "    .setInputCols([\"document\"]) \\\n",
    "    .setOutputCol(\"spark_token\")\n",
    "\n",
    "normalizer_sent = Normalizer() \\\n",
    "    .setInputCols([\"spark_token\"]) \\\n",
    "    .setOutputCol(\"spark_normal\")\n",
    "\n",
    "classifier =  ViveknSentimentModel.pretrained() \\\n",
    "    .setInputCols([\"document\", \"spark_normal\"]) \\\n",
    "    .setOutputCol(\"result_sentiment\")\n",
    "\n",
    "finisher_sent = Finisher() \\\n",
    "    .setInputCols([\"result_sentiment\"]) \\\n",
    "    .setOutputCols(\"final_sentiment\") \\\n",
    "    .setOutputAsArray(False)               \n"
   ]
  },
  {
   "cell_type": "code",
   "execution_count": 21,
   "id": "9fd348c8-9a06-46a8-a128-cbc370ed6492",
   "metadata": {
    "execution": {
     "iopub.execute_input": "2022-06-04T00:23:39.041926Z",
     "iopub.status.busy": "2022-06-04T00:23:39.041708Z",
     "iopub.status.idle": "2022-06-04T00:23:39.105152Z",
     "shell.execute_reply": "2022-06-04T00:23:39.104463Z",
     "shell.execute_reply.started": "2022-06-04T00:23:39.041904Z"
    },
    "tags": []
   },
   "outputs": [
    {
     "data": {
      "application/vnd.jupyter.widget-view+json": {
       "model_id": "2040a21e385e4f6a984ceb6de73ec55c",
       "version_major": 2,
       "version_minor": 0
      },
      "text/plain": [
       "VBox()"
      ]
     },
     "metadata": {},
     "output_type": "display_data"
    },
    {
     "data": {
      "application/vnd.jupyter.widget-view+json": {
       "model_id": "",
       "version_major": 2,
       "version_minor": 0
      },
      "text/plain": [
       "FloatProgress(value=0.0, bar_style='info', description='Progress:', layout=Layout(height='25px', width='50%'),…"
      ]
     },
     "metadata": {},
     "output_type": "display_data"
    }
   ],
   "source": [
    "nlp_pipeline = Pipeline(stages=[document_assembler, tokenizer_sent, normalizer_sent, classifier, finisher_sent])"
   ]
  },
  {
   "cell_type": "code",
   "execution_count": 22,
   "id": "36cfe017-f8d3-4216-9a3d-5ed8b319a0b3",
   "metadata": {
    "execution": {
     "iopub.execute_input": "2022-06-04T00:23:39.106337Z",
     "iopub.status.busy": "2022-06-04T00:23:39.106169Z",
     "iopub.status.idle": "2022-06-04T00:23:39.898902Z",
     "shell.execute_reply": "2022-06-04T00:23:39.897994Z",
     "shell.execute_reply.started": "2022-06-04T00:23:39.106315Z"
    },
    "tags": []
   },
   "outputs": [
    {
     "data": {
      "application/vnd.jupyter.widget-view+json": {
       "model_id": "34f913d05700407d944451a129b87eda",
       "version_major": 2,
       "version_minor": 0
      },
      "text/plain": [
       "VBox()"
      ]
     },
     "metadata": {},
     "output_type": "display_data"
    },
    {
     "data": {
      "application/vnd.jupyter.widget-view+json": {
       "model_id": "",
       "version_major": 2,
       "version_minor": 0
      },
      "text/plain": [
       "FloatProgress(value=0.0, bar_style='info', description='Progress:', layout=Layout(height='25px', width='50%'),…"
      ]
     },
     "metadata": {},
     "output_type": "display_data"
    }
   ],
   "source": [
    "nlp = nlp_pipeline.fit(df)"
   ]
  },
  {
   "cell_type": "code",
   "execution_count": 23,
   "id": "0c827fb7-ee19-479f-9344-e6d3b9013312",
   "metadata": {
    "execution": {
     "iopub.execute_input": "2022-06-04T00:23:39.900400Z",
     "iopub.status.busy": "2022-06-04T00:23:39.900166Z",
     "iopub.status.idle": "2022-06-04T00:23:40.690262Z",
     "shell.execute_reply": "2022-06-04T00:23:40.689448Z",
     "shell.execute_reply.started": "2022-06-04T00:23:39.900368Z"
    },
    "tags": []
   },
   "outputs": [
    {
     "data": {
      "application/vnd.jupyter.widget-view+json": {
       "model_id": "1ddc27ec0919401a995201dc711ebd13",
       "version_major": 2,
       "version_minor": 0
      },
      "text/plain": [
       "VBox()"
      ]
     },
     "metadata": {},
     "output_type": "display_data"
    },
    {
     "data": {
      "application/vnd.jupyter.widget-view+json": {
       "model_id": "",
       "version_major": 2,
       "version_minor": 0
      },
      "text/plain": [
       "FloatProgress(value=0.0, bar_style='info', description='Progress:', layout=Layout(height='25px', width='50%'),…"
      ]
     },
     "metadata": {},
     "output_type": "display_data"
    }
   ],
   "source": [
    "df_processed = nlp.transform(df)"
   ]
  },
  {
   "cell_type": "code",
   "execution_count": 24,
   "id": "da9fcaae-9035-45af-accf-514b0af27f47",
   "metadata": {
    "execution": {
     "iopub.execute_input": "2022-06-04T00:23:40.691386Z",
     "iopub.status.busy": "2022-06-04T00:23:40.691172Z",
     "iopub.status.idle": "2022-06-04T00:23:40.980235Z",
     "shell.execute_reply": "2022-06-04T00:23:40.979428Z",
     "shell.execute_reply.started": "2022-06-04T00:23:40.691356Z"
    },
    "tags": []
   },
   "outputs": [
    {
     "data": {
      "application/vnd.jupyter.widget-view+json": {
       "model_id": "7393606132a74398b9da31e6e79d24be",
       "version_major": 2,
       "version_minor": 0
      },
      "text/plain": [
       "VBox()"
      ]
     },
     "metadata": {},
     "output_type": "display_data"
    },
    {
     "data": {
      "application/vnd.jupyter.widget-view+json": {
       "model_id": "",
       "version_major": 2,
       "version_minor": 0
      },
      "text/plain": [
       "FloatProgress(value=0.0, bar_style='info', description='Progress:', layout=Layout(height='25px', width='50%'),…"
      ]
     },
     "metadata": {},
     "output_type": "display_data"
    }
   ],
   "source": [
    "df_processed = df_processed.withColumn(\"sentiment_code\",regexp_replace('final_sentiment', 'positive', '1'))\n",
    "df_processed = df_processed.withColumn(\"sentiment_code\",regexp_replace('sentiment_code', 'negative', '0').cast('integer'))"
   ]
  },
  {
   "cell_type": "code",
   "execution_count": 25,
   "id": "ab484084-5301-4a2a-960e-eef40922078f",
   "metadata": {
    "execution": {
     "iopub.execute_input": "2022-06-04T00:23:40.981368Z",
     "iopub.status.busy": "2022-06-04T00:23:40.981215Z",
     "iopub.status.idle": "2022-06-04T00:23:43.529843Z",
     "shell.execute_reply": "2022-06-04T00:23:43.524784Z",
     "shell.execute_reply.started": "2022-06-04T00:23:40.981348Z"
    },
    "tags": []
   },
   "outputs": [
    {
     "data": {
      "application/vnd.jupyter.widget-view+json": {
       "model_id": "97ac2e0d0a9044deb0f243a938abd0e8",
       "version_major": 2,
       "version_minor": 0
      },
      "text/plain": [
       "VBox()"
      ]
     },
     "metadata": {},
     "output_type": "display_data"
    },
    {
     "data": {
      "application/vnd.jupyter.widget-view+json": {
       "model_id": "",
       "version_major": 2,
       "version_minor": 0
      },
      "text/plain": [
       "FloatProgress(value=0.0, bar_style='info', description='Progress:', layout=Layout(height='25px', width='50%'),…"
      ]
     },
     "metadata": {},
     "output_type": "display_data"
    },
    {
     "name": "stdout",
     "output_type": "stream",
     "text": [
      "+--------------+\n",
      "|sentiment_code|\n",
      "+--------------+\n",
      "|             1|\n",
      "|             0|\n",
      "|             1|\n",
      "|             0|\n",
      "|             0|\n",
      "|             0|\n",
      "|             1|\n",
      "|             1|\n",
      "|             1|\n",
      "|             0|\n",
      "|             1|\n",
      "|             0|\n",
      "|             0|\n",
      "|             0|\n",
      "|             1|\n",
      "|             1|\n",
      "|             0|\n",
      "|             1|\n",
      "|             1|\n",
      "|             1|\n",
      "+--------------+\n",
      "only showing top 20 rows"
     ]
    }
   ],
   "source": [
    "df_processed.select('sentiment_code').show()"
   ]
  },
  {
   "cell_type": "code",
   "execution_count": 26,
   "id": "46966593-be7e-427a-9a10-da0f293a36c3",
   "metadata": {
    "execution": {
     "iopub.execute_input": "2022-06-04T00:23:43.533393Z",
     "iopub.status.busy": "2022-06-04T00:23:43.533191Z",
     "iopub.status.idle": "2022-06-04T00:23:43.821829Z",
     "shell.execute_reply": "2022-06-04T00:23:43.821216Z",
     "shell.execute_reply.started": "2022-06-04T00:23:43.533370Z"
    },
    "tags": []
   },
   "outputs": [
    {
     "data": {
      "application/vnd.jupyter.widget-view+json": {
       "model_id": "b0a5b1a4401145f9a4aa4bea2928eb3e",
       "version_major": 2,
       "version_minor": 0
      },
      "text/plain": [
       "VBox()"
      ]
     },
     "metadata": {},
     "output_type": "display_data"
    },
    {
     "data": {
      "application/vnd.jupyter.widget-view+json": {
       "model_id": "",
       "version_major": 2,
       "version_minor": 0
      },
      "text/plain": [
       "FloatProgress(value=0.0, bar_style='info', description='Progress:', layout=Layout(height='25px', width='50%'),…"
      ]
     },
     "metadata": {},
     "output_type": "display_data"
    }
   ],
   "source": [
    "df_sent = df_processed.select('price', 'length_of_review', 'cases', 'deaths', 'increase_cases', 'increase_deaths', 'sentiment_code')"
   ]
  },
  {
   "cell_type": "code",
   "execution_count": 27,
   "id": "139a0d43-08a3-4019-8b56-54ac005ea19b",
   "metadata": {
    "execution": {
     "iopub.execute_input": "2022-06-04T00:23:43.822792Z",
     "iopub.status.busy": "2022-06-04T00:23:43.822607Z",
     "iopub.status.idle": "2022-06-04T00:23:43.889332Z",
     "shell.execute_reply": "2022-06-04T00:23:43.888806Z",
     "shell.execute_reply.started": "2022-06-04T00:23:43.822769Z"
    },
    "tags": []
   },
   "outputs": [
    {
     "data": {
      "application/vnd.jupyter.widget-view+json": {
       "model_id": "7025a2af9ed8450094bfb0b0e9bbcd43",
       "version_major": 2,
       "version_minor": 0
      },
      "text/plain": [
       "VBox()"
      ]
     },
     "metadata": {},
     "output_type": "display_data"
    },
    {
     "data": {
      "application/vnd.jupyter.widget-view+json": {
       "model_id": "",
       "version_major": 2,
       "version_minor": 0
      },
      "text/plain": [
       "FloatProgress(value=0.0, bar_style='info', description='Progress:', layout=Layout(height='25px', width='50%'),…"
      ]
     },
     "metadata": {},
     "output_type": "display_data"
    }
   ],
   "source": [
    "df_sent = df_sent.dropna()"
   ]
  },
  {
   "cell_type": "code",
   "execution_count": 148,
   "id": "d60c9a82-eac1-4451-8488-4cf10f91f469",
   "metadata": {
    "execution": {
     "iopub.execute_input": "2022-06-04T01:11:09.180383Z",
     "iopub.status.busy": "2022-06-04T01:11:09.180123Z",
     "iopub.status.idle": "2022-06-04T01:11:10.461174Z",
     "shell.execute_reply": "2022-06-04T01:11:10.460636Z",
     "shell.execute_reply.started": "2022-06-04T01:11:09.180357Z"
    },
    "tags": []
   },
   "outputs": [
    {
     "data": {
      "application/vnd.jupyter.widget-view+json": {
       "model_id": "30ac8e5da1284971b5830818060cd7bd",
       "version_major": 2,
       "version_minor": 0
      },
      "text/plain": [
       "VBox()"
      ]
     },
     "metadata": {},
     "output_type": "display_data"
    },
    {
     "data": {
      "application/vnd.jupyter.widget-view+json": {
       "model_id": "",
       "version_major": 2,
       "version_minor": 0
      },
      "text/plain": [
       "FloatProgress(value=0.0, bar_style='info', description='Progress:', layout=Layout(height='25px', width='50%'),…"
      ]
     },
     "metadata": {},
     "output_type": "display_data"
    },
    {
     "name": "stdout",
     "output_type": "stream",
     "text": [
      "+-----+----------------+-----+------+--------------+---------------+--------------+\n",
      "|price|length_of_review|cases|deaths|increase_cases|increase_deaths|sentiment_code|\n",
      "+-----+----------------+-----+------+--------------+---------------+--------------+\n",
      "| 8.72|             759|    0|     0|             0|              0|             1|\n",
      "| 8.72|             593|    0|     0|             0|              0|             0|\n",
      "| 8.72|             560|    0|     0|             0|              0|             1|\n",
      "| 8.72|             260|    0|     0|             0|              0|             0|\n",
      "| 8.72|             263|    0|     0|             0|              0|             0|\n",
      "| 8.72|             973|    0|     0|             0|              0|             0|\n",
      "| 8.72|             564|    0|     0|             0|              0|             1|\n",
      "| 8.72|             260|    0|     0|             0|              0|             1|\n",
      "| 8.72|             351|    0|     0|             0|              0|             1|\n",
      "| 8.72|             301|    0|     0|             0|              0|             0|\n",
      "| 8.72|             518|    0|     0|             0|              0|             1|\n",
      "| 8.72|             390|    0|     0|             0|              0|             0|\n",
      "| 8.72|             746|    0|     0|             0|              0|             0|\n",
      "|18.99|             305|    0|     0|             0|              0|             0|\n",
      "|18.99|             861|    0|     0|             0|              0|             1|\n",
      "|18.99|            1329|    0|     0|             0|              0|             1|\n",
      "|18.99|             681|    0|     0|             0|              0|             0|\n",
      "|18.99|             549|    0|     0|             0|              0|             1|\n",
      "|18.99|             191|    0|     0|             0|              0|             1|\n",
      "|18.99|              63|    0|     0|             0|              0|             1|\n",
      "+-----+----------------+-----+------+--------------+---------------+--------------+\n",
      "only showing top 20 rows"
     ]
    }
   ],
   "source": [
    "df_sent.show()"
   ]
  },
  {
   "cell_type": "markdown",
   "id": "ed42b447-e6a3-4d8f-812d-e23d37946637",
   "metadata": {},
   "source": [
    "## Balance the Target Variable "
   ]
  },
  {
   "cell_type": "code",
   "execution_count": 28,
   "id": "83a1f54f-e6d7-4f0e-8e84-757625e57e4b",
   "metadata": {
    "execution": {
     "iopub.execute_input": "2022-06-04T00:23:43.891833Z",
     "iopub.status.busy": "2022-06-04T00:23:43.891654Z",
     "iopub.status.idle": "2022-06-04T00:23:53.197013Z",
     "shell.execute_reply": "2022-06-04T00:23:53.196344Z",
     "shell.execute_reply.started": "2022-06-04T00:23:43.891811Z"
    },
    "tags": []
   },
   "outputs": [
    {
     "data": {
      "application/vnd.jupyter.widget-view+json": {
       "model_id": "5c7eb095751a454888b9841695048088",
       "version_major": 2,
       "version_minor": 0
      },
      "text/plain": [
       "VBox()"
      ]
     },
     "metadata": {},
     "output_type": "display_data"
    },
    {
     "data": {
      "application/vnd.jupyter.widget-view+json": {
       "model_id": "",
       "version_major": 2,
       "version_minor": 0
      },
      "text/plain": [
       "FloatProgress(value=0.0, bar_style='info', description='Progress:', layout=Layout(height='25px', width='50%'),…"
      ]
     },
     "metadata": {},
     "output_type": "display_data"
    },
    {
     "name": "stdout",
     "output_type": "stream",
     "text": [
      "+--------------+-----+\n",
      "|sentiment_code|count|\n",
      "+--------------+-----+\n",
      "|             1|11753|\n",
      "|             0|14654|\n",
      "+--------------+-----+"
     ]
    }
   ],
   "source": [
    "sent_count = (df_sent.groupBy('sentiment_code').count())\n",
    "sent_count.show()"
   ]
  },
  {
   "cell_type": "code",
   "execution_count": 29,
   "id": "d74fe73b-4def-43d3-b416-a3c11af5ed53",
   "metadata": {
    "execution": {
     "iopub.execute_input": "2022-06-04T00:23:53.198466Z",
     "iopub.status.busy": "2022-06-04T00:23:53.198251Z",
     "iopub.status.idle": "2022-06-04T00:23:53.465065Z",
     "shell.execute_reply": "2022-06-04T00:23:53.464531Z",
     "shell.execute_reply.started": "2022-06-04T00:23:53.198432Z"
    },
    "tags": []
   },
   "outputs": [
    {
     "data": {
      "application/vnd.jupyter.widget-view+json": {
       "model_id": "b7fb8f6b62a24d6fabb48fb85d8ac259",
       "version_major": 2,
       "version_minor": 0
      },
      "text/plain": [
       "VBox()"
      ]
     },
     "metadata": {},
     "output_type": "display_data"
    },
    {
     "data": {
      "application/vnd.jupyter.widget-view+json": {
       "model_id": "",
       "version_major": 2,
       "version_minor": 0
      },
      "text/plain": [
       "FloatProgress(value=0.0, bar_style='info', description='Progress:', layout=Layout(height='25px', width='50%'),…"
      ]
     },
     "metadata": {},
     "output_type": "display_data"
    }
   ],
   "source": [
    "df_sent = df_sent.sampleBy(\"sentiment_code\", fractions={0: 11782/14069, 1: 1}, seed=42)"
   ]
  },
  {
   "cell_type": "code",
   "execution_count": 149,
   "id": "23673be3-a1ee-4d1a-a27d-48efce83041a",
   "metadata": {
    "execution": {
     "iopub.execute_input": "2022-06-04T01:15:40.289095Z",
     "iopub.status.busy": "2022-06-04T01:15:40.288865Z",
     "iopub.status.idle": "2022-06-04T01:15:47.611734Z",
     "shell.execute_reply": "2022-06-04T01:15:47.611056Z",
     "shell.execute_reply.started": "2022-06-04T01:15:40.289071Z"
    },
    "tags": []
   },
   "outputs": [
    {
     "data": {
      "application/vnd.jupyter.widget-view+json": {
       "model_id": "91bfb640ea8647bfb282c1ac65e387ad",
       "version_major": 2,
       "version_minor": 0
      },
      "text/plain": [
       "VBox()"
      ]
     },
     "metadata": {},
     "output_type": "display_data"
    },
    {
     "data": {
      "application/vnd.jupyter.widget-view+json": {
       "model_id": "",
       "version_major": 2,
       "version_minor": 0
      },
      "text/plain": [
       "FloatProgress(value=0.0, bar_style='info', description='Progress:', layout=Layout(height='25px', width='50%'),…"
      ]
     },
     "metadata": {},
     "output_type": "display_data"
    },
    {
     "name": "stdout",
     "output_type": "stream",
     "text": [
      "+--------------+-----+\n",
      "|sentiment_code|count|\n",
      "+--------------+-----+\n",
      "|             1|11753|\n",
      "|             0|12249|\n",
      "+--------------+-----+"
     ]
    }
   ],
   "source": [
    "sent_count = (df_sent.groupBy('sentiment_code').count())\n",
    "sent_count.show()"
   ]
  },
  {
   "cell_type": "markdown",
   "id": "80f4446a-431c-46a3-9da1-2732e7c3586b",
   "metadata": {},
   "source": [
    "## Create Feature Matrix"
   ]
  },
  {
   "cell_type": "code",
   "execution_count": 30,
   "id": "c3931ef0-41ed-45b3-8921-b4ae868e230d",
   "metadata": {
    "execution": {
     "iopub.execute_input": "2022-06-04T00:23:53.466108Z",
     "iopub.status.busy": "2022-06-04T00:23:53.465931Z",
     "iopub.status.idle": "2022-06-04T00:23:53.987572Z",
     "shell.execute_reply": "2022-06-04T00:23:53.987013Z",
     "shell.execute_reply.started": "2022-06-04T00:23:53.466086Z"
    },
    "tags": []
   },
   "outputs": [
    {
     "data": {
      "application/vnd.jupyter.widget-view+json": {
       "model_id": "bdb029d380244863b1a9124ef5d1f8e6",
       "version_major": 2,
       "version_minor": 0
      },
      "text/plain": [
       "VBox()"
      ]
     },
     "metadata": {},
     "output_type": "display_data"
    },
    {
     "data": {
      "application/vnd.jupyter.widget-view+json": {
       "model_id": "",
       "version_major": 2,
       "version_minor": 0
      },
      "text/plain": [
       "FloatProgress(value=0.0, bar_style='info', description='Progress:', layout=Layout(height='25px', width='50%'),…"
      ]
     },
     "metadata": {},
     "output_type": "display_data"
    }
   ],
   "source": [
    "from pyspark.ml.feature import VectorAssembler\n",
    "from pyspark.ml.feature import Normalizer\n",
    "\n",
    "feature = VectorAssembler(inputCols = ['price', 'length_of_review', 'cases', 'deaths', 'increase_cases', 'increase_deaths']\\\n",
    "                            , outputCol = 'features')\n",
    "\n"
   ]
  },
  {
   "cell_type": "code",
   "execution_count": 31,
   "id": "44695016-2bad-44ba-b96a-bc93f56dfc9b",
   "metadata": {
    "execution": {
     "iopub.execute_input": "2022-06-04T00:23:53.988543Z",
     "iopub.status.busy": "2022-06-04T00:23:53.988372Z",
     "iopub.status.idle": "2022-06-04T00:23:54.056988Z",
     "shell.execute_reply": "2022-06-04T00:23:54.056229Z",
     "shell.execute_reply.started": "2022-06-04T00:23:53.988521Z"
    },
    "tags": []
   },
   "outputs": [
    {
     "data": {
      "application/vnd.jupyter.widget-view+json": {
       "model_id": "7c9e5cd6181c4d27b658dbb57b5cb36f",
       "version_major": 2,
       "version_minor": 0
      },
      "text/plain": [
       "VBox()"
      ]
     },
     "metadata": {},
     "output_type": "display_data"
    },
    {
     "data": {
      "application/vnd.jupyter.widget-view+json": {
       "model_id": "",
       "version_major": 2,
       "version_minor": 0
      },
      "text/plain": [
       "FloatProgress(value=0.0, bar_style='info', description='Progress:', layout=Layout(height='25px', width='50%'),…"
      ]
     },
     "metadata": {},
     "output_type": "display_data"
    }
   ],
   "source": [
    "feature_pipeline = Pipeline(stages = [feature])"
   ]
  },
  {
   "cell_type": "code",
   "execution_count": 32,
   "id": "d1cd3956-784e-4928-9ad9-d604c211fdff",
   "metadata": {
    "execution": {
     "iopub.execute_input": "2022-06-04T00:23:54.058477Z",
     "iopub.status.busy": "2022-06-04T00:23:54.058235Z",
     "iopub.status.idle": "2022-06-04T00:23:54.118744Z",
     "shell.execute_reply": "2022-06-04T00:23:54.118184Z",
     "shell.execute_reply.started": "2022-06-04T00:23:54.058443Z"
    },
    "tags": []
   },
   "outputs": [
    {
     "data": {
      "application/vnd.jupyter.widget-view+json": {
       "model_id": "6ac8cf59cda24b5fba6dc72b268477d7",
       "version_major": 2,
       "version_minor": 0
      },
      "text/plain": [
       "VBox()"
      ]
     },
     "metadata": {},
     "output_type": "display_data"
    },
    {
     "data": {
      "application/vnd.jupyter.widget-view+json": {
       "model_id": "",
       "version_major": 2,
       "version_minor": 0
      },
      "text/plain": [
       "FloatProgress(value=0.0, bar_style='info', description='Progress:', layout=Layout(height='25px', width='50%'),…"
      ]
     },
     "metadata": {},
     "output_type": "display_data"
    }
   ],
   "source": [
    "fp = feature_pipeline.fit(df_sent)"
   ]
  },
  {
   "cell_type": "code",
   "execution_count": 33,
   "id": "959f8d25-b079-4a7c-81dd-682dcb43c484",
   "metadata": {
    "execution": {
     "iopub.execute_input": "2022-06-04T00:23:54.119751Z",
     "iopub.status.busy": "2022-06-04T00:23:54.119591Z",
     "iopub.status.idle": "2022-06-04T00:23:54.385564Z",
     "shell.execute_reply": "2022-06-04T00:23:54.385014Z",
     "shell.execute_reply.started": "2022-06-04T00:23:54.119730Z"
    },
    "tags": []
   },
   "outputs": [
    {
     "data": {
      "application/vnd.jupyter.widget-view+json": {
       "model_id": "8cd92336201e482799be7c153ba96672",
       "version_major": 2,
       "version_minor": 0
      },
      "text/plain": [
       "VBox()"
      ]
     },
     "metadata": {},
     "output_type": "display_data"
    },
    {
     "data": {
      "application/vnd.jupyter.widget-view+json": {
       "model_id": "",
       "version_major": 2,
       "version_minor": 0
      },
      "text/plain": [
       "FloatProgress(value=0.0, bar_style='info', description='Progress:', layout=Layout(height='25px', width='50%'),…"
      ]
     },
     "metadata": {},
     "output_type": "display_data"
    }
   ],
   "source": [
    "df_sent_feature = fp.transform(df_sent)"
   ]
  },
  {
   "cell_type": "code",
   "execution_count": 34,
   "id": "764c0fc8-a9b3-4bf8-98d3-99019abd2ab8",
   "metadata": {
    "execution": {
     "iopub.execute_input": "2022-06-04T00:23:54.386666Z",
     "iopub.status.busy": "2022-06-04T00:23:54.386491Z",
     "iopub.status.idle": "2022-06-04T00:23:54.454782Z",
     "shell.execute_reply": "2022-06-04T00:23:54.454065Z",
     "shell.execute_reply.started": "2022-06-04T00:23:54.386643Z"
    },
    "tags": []
   },
   "outputs": [
    {
     "data": {
      "application/vnd.jupyter.widget-view+json": {
       "model_id": "44f6a0a1c7884ec9ad0d01dccbc6365e",
       "version_major": 2,
       "version_minor": 0
      },
      "text/plain": [
       "VBox()"
      ]
     },
     "metadata": {},
     "output_type": "display_data"
    },
    {
     "data": {
      "application/vnd.jupyter.widget-view+json": {
       "model_id": "",
       "version_major": 2,
       "version_minor": 0
      },
      "text/plain": [
       "FloatProgress(value=0.0, bar_style='info', description='Progress:', layout=Layout(height='25px', width='50%'),…"
      ]
     },
     "metadata": {},
     "output_type": "display_data"
    }
   ],
   "source": [
    "training, test = df_sent_feature.randomSplit([0.7, 0.3])"
   ]
  },
  {
   "cell_type": "markdown",
   "id": "034bf511-cb7a-4d95-b100-bf731c32d356",
   "metadata": {},
   "source": [
    "## Normalize Features"
   ]
  },
  {
   "cell_type": "code",
   "execution_count": 35,
   "id": "c10f5879-a024-4b1b-af22-9cbb8cf02f01",
   "metadata": {
    "execution": {
     "iopub.execute_input": "2022-06-04T00:23:54.455691Z",
     "iopub.status.busy": "2022-06-04T00:23:54.455549Z",
     "iopub.status.idle": "2022-06-04T00:23:54.516973Z",
     "shell.execute_reply": "2022-06-04T00:23:54.516324Z",
     "shell.execute_reply.started": "2022-06-04T00:23:54.455671Z"
    },
    "tags": []
   },
   "outputs": [
    {
     "data": {
      "application/vnd.jupyter.widget-view+json": {
       "model_id": "c7730ec1cc8546fd9c167eaa082b12b0",
       "version_major": 2,
       "version_minor": 0
      },
      "text/plain": [
       "VBox()"
      ]
     },
     "metadata": {},
     "output_type": "display_data"
    },
    {
     "data": {
      "application/vnd.jupyter.widget-view+json": {
       "model_id": "",
       "version_major": 2,
       "version_minor": 0
      },
      "text/plain": [
       "FloatProgress(value=0.0, bar_style='info', description='Progress:', layout=Layout(height='25px', width='50%'),…"
      ]
     },
     "metadata": {},
     "output_type": "display_data"
    }
   ],
   "source": [
    "normalizer = Normalizer(inputCol=\"features\", outputCol=\"normFeatures\", p=1.0)\n",
    "\n",
    "norm_pipeline = Pipeline(stages = [normalizer])"
   ]
  },
  {
   "cell_type": "code",
   "execution_count": 36,
   "id": "443d7b81-59cf-4534-81d9-07da707712af",
   "metadata": {
    "execution": {
     "iopub.execute_input": "2022-06-04T00:23:54.518362Z",
     "iopub.status.busy": "2022-06-04T00:23:54.518100Z",
     "iopub.status.idle": "2022-06-04T00:23:54.585833Z",
     "shell.execute_reply": "2022-06-04T00:23:54.584975Z",
     "shell.execute_reply.started": "2022-06-04T00:23:54.518327Z"
    },
    "tags": []
   },
   "outputs": [
    {
     "data": {
      "application/vnd.jupyter.widget-view+json": {
       "model_id": "7b5cd6fda1e5495e8d7a0301db599e45",
       "version_major": 2,
       "version_minor": 0
      },
      "text/plain": [
       "VBox()"
      ]
     },
     "metadata": {},
     "output_type": "display_data"
    },
    {
     "data": {
      "application/vnd.jupyter.widget-view+json": {
       "model_id": "",
       "version_major": 2,
       "version_minor": 0
      },
      "text/plain": [
       "FloatProgress(value=0.0, bar_style='info', description='Progress:', layout=Layout(height='25px', width='50%'),…"
      ]
     },
     "metadata": {},
     "output_type": "display_data"
    }
   ],
   "source": [
    "norm = norm_pipeline.fit(training)"
   ]
  },
  {
   "cell_type": "code",
   "execution_count": 37,
   "id": "b194667c-4168-412b-97eb-ca5f5b25c748",
   "metadata": {
    "execution": {
     "iopub.execute_input": "2022-06-04T00:23:54.587231Z",
     "iopub.status.busy": "2022-06-04T00:23:54.587002Z",
     "iopub.status.idle": "2022-06-04T00:23:54.854376Z",
     "shell.execute_reply": "2022-06-04T00:23:54.853845Z",
     "shell.execute_reply.started": "2022-06-04T00:23:54.587199Z"
    },
    "tags": []
   },
   "outputs": [
    {
     "data": {
      "application/vnd.jupyter.widget-view+json": {
       "model_id": "9b5c695b73f4418c83f6a275e56f9263",
       "version_major": 2,
       "version_minor": 0
      },
      "text/plain": [
       "VBox()"
      ]
     },
     "metadata": {},
     "output_type": "display_data"
    },
    {
     "data": {
      "application/vnd.jupyter.widget-view+json": {
       "model_id": "",
       "version_major": 2,
       "version_minor": 0
      },
      "text/plain": [
       "FloatProgress(value=0.0, bar_style='info', description='Progress:', layout=Layout(height='25px', width='50%'),…"
      ]
     },
     "metadata": {},
     "output_type": "display_data"
    }
   ],
   "source": [
    "training = norm.transform(training)\n",
    "test = norm.transform(test)"
   ]
  },
  {
   "cell_type": "markdown",
   "id": "bc72c274-27bc-466a-83a0-4d18fd64bc85",
   "metadata": {},
   "source": [
    "## Logistic Regression Model"
   ]
  },
  {
   "cell_type": "code",
   "execution_count": 38,
   "id": "f29f59ff-df85-4a3b-9c6c-8fd83024d1da",
   "metadata": {
    "execution": {
     "iopub.execute_input": "2022-06-04T00:23:54.855361Z",
     "iopub.status.busy": "2022-06-04T00:23:54.855193Z",
     "iopub.status.idle": "2022-06-04T00:23:55.125866Z",
     "shell.execute_reply": "2022-06-04T00:23:55.125292Z",
     "shell.execute_reply.started": "2022-06-04T00:23:54.855340Z"
    },
    "tags": []
   },
   "outputs": [
    {
     "data": {
      "application/vnd.jupyter.widget-view+json": {
       "model_id": "6cb5644729c148dc8e11186844d06ce2",
       "version_major": 2,
       "version_minor": 0
      },
      "text/plain": [
       "VBox()"
      ]
     },
     "metadata": {},
     "output_type": "display_data"
    },
    {
     "data": {
      "application/vnd.jupyter.widget-view+json": {
       "model_id": "",
       "version_major": 2,
       "version_minor": 0
      },
      "text/plain": [
       "FloatProgress(value=0.0, bar_style='info', description='Progress:', layout=Layout(height='25px', width='50%'),…"
      ]
     },
     "metadata": {},
     "output_type": "display_data"
    }
   ],
   "source": [
    "from pyspark.ml.classification import LogisticRegression\n",
    "import pyspark.ml.evaluation as evals\n",
    "# Create a LogisticRegression Estimator\n",
    "lr = LogisticRegression(featuresCol = 'normFeatures', labelCol='sentiment_code')\n"
   ]
  },
  {
   "cell_type": "code",
   "execution_count": 39,
   "id": "646b525e-fc57-47da-903a-a357914aa177",
   "metadata": {
    "execution": {
     "iopub.execute_input": "2022-06-04T00:23:55.126782Z",
     "iopub.status.busy": "2022-06-04T00:23:55.126602Z",
     "iopub.status.idle": "2022-06-04T00:24:08.652183Z",
     "shell.execute_reply": "2022-06-04T00:24:08.649286Z",
     "shell.execute_reply.started": "2022-06-04T00:23:55.126759Z"
    },
    "tags": []
   },
   "outputs": [
    {
     "data": {
      "application/vnd.jupyter.widget-view+json": {
       "model_id": "cb4a212e5d3642feafd6efe6717af380",
       "version_major": 2,
       "version_minor": 0
      },
      "text/plain": [
       "VBox()"
      ]
     },
     "metadata": {},
     "output_type": "display_data"
    },
    {
     "data": {
      "application/vnd.jupyter.widget-view+json": {
       "model_id": "",
       "version_major": 2,
       "version_minor": 0
      },
      "text/plain": [
       "FloatProgress(value=0.0, bar_style='info', description='Progress:', layout=Layout(height='25px', width='50%'),…"
      ]
     },
     "metadata": {},
     "output_type": "display_data"
    }
   ],
   "source": [
    "model = lr.fit(training)"
   ]
  },
  {
   "cell_type": "code",
   "execution_count": 40,
   "id": "025df047-2fcc-4e8b-9cf0-9d185be88c24",
   "metadata": {
    "execution": {
     "iopub.execute_input": "2022-06-04T00:24:08.653471Z",
     "iopub.status.busy": "2022-06-04T00:24:08.653233Z",
     "iopub.status.idle": "2022-06-04T00:24:09.946645Z",
     "shell.execute_reply": "2022-06-04T00:24:09.946023Z",
     "shell.execute_reply.started": "2022-06-04T00:24:08.653438Z"
    },
    "tags": []
   },
   "outputs": [
    {
     "data": {
      "application/vnd.jupyter.widget-view+json": {
       "model_id": "0f45817e90c547f6b13b5f05d2a3dd07",
       "version_major": 2,
       "version_minor": 0
      },
      "text/plain": [
       "VBox()"
      ]
     },
     "metadata": {},
     "output_type": "display_data"
    },
    {
     "data": {
      "application/vnd.jupyter.widget-view+json": {
       "model_id": "",
       "version_major": 2,
       "version_minor": 0
      },
      "text/plain": [
       "FloatProgress(value=0.0, bar_style='info', description='Progress:', layout=Layout(height='25px', width='50%'),…"
      ]
     },
     "metadata": {},
     "output_type": "display_data"
    }
   ],
   "source": [
    "trainingSummary = model.summary\n",
    "evaluationSummary = model.evaluate(test)"
   ]
  },
  {
   "cell_type": "code",
   "execution_count": 41,
   "id": "76d5c4e6-1682-4cf0-b4b5-c17bc1904367",
   "metadata": {
    "execution": {
     "iopub.execute_input": "2022-06-04T00:24:09.947661Z",
     "iopub.status.busy": "2022-06-04T00:24:09.947488Z",
     "iopub.status.idle": "2022-06-04T00:24:33.366989Z",
     "shell.execute_reply": "2022-06-04T00:24:33.366291Z",
     "shell.execute_reply.started": "2022-06-04T00:24:09.947639Z"
    },
    "tags": []
   },
   "outputs": [
    {
     "data": {
      "application/vnd.jupyter.widget-view+json": {
       "model_id": "7fb512c1a0674efd8ac84f43d62906e8",
       "version_major": 2,
       "version_minor": 0
      },
      "text/plain": [
       "VBox()"
      ]
     },
     "metadata": {},
     "output_type": "display_data"
    },
    {
     "data": {
      "application/vnd.jupyter.widget-view+json": {
       "model_id": "",
       "version_major": 2,
       "version_minor": 0
      },
      "text/plain": [
       "FloatProgress(value=0.0, bar_style='info', description='Progress:', layout=Layout(height='25px', width='50%'),…"
      ]
     },
     "metadata": {},
     "output_type": "display_data"
    },
    {
     "name": "stdout",
     "output_type": "stream",
     "text": [
      "Training AUC: 0.5207850362357909\n",
      "Test AUC:  0.5276653340009094\n",
      "\n",
      "False positive rate by label (Training):\n",
      "label 0: 0.8506341583548824\n",
      "label 1: 0.12070577237672353\n",
      "\n",
      "True positive rate by label (Training):\n",
      "label 0: 0.8792942276232765\n",
      "label 1: 0.1493658416451176\n",
      "\n",
      "Training Accuracy: 0.5238923196834343\n",
      "Test Accuracy:  0.5257408166052164"
     ]
    }
   ],
   "source": [
    "print(\"Training AUC: \" + str(trainingSummary.areaUnderROC))\n",
    "print(\"Test AUC: \", str(evaluationSummary.areaUnderROC))\n",
    "\n",
    "print(\"\\nFalse positive rate by label (Training):\")\n",
    "for i, rate in enumerate(trainingSummary.falsePositiveRateByLabel):\n",
    "    print(\"label %d: %s\" % (i, rate))\n",
    "\n",
    "print(\"\\nTrue positive rate by label (Training):\")\n",
    "for i, rate in enumerate(trainingSummary.truePositiveRateByLabel):\n",
    "    print(\"label %d: %s\" % (i, rate))\n",
    "    \n",
    "print(\"\\nTraining Accuracy: \" + str(trainingSummary.accuracy))\n",
    "print(\"Test Accuracy: \", str(evaluationSummary.accuracy))"
   ]
  },
  {
   "cell_type": "code",
   "execution_count": 42,
   "id": "f489b6fe-133d-41ee-b4d2-f83dafe3d89d",
   "metadata": {
    "execution": {
     "iopub.execute_input": "2022-06-04T00:24:33.368258Z",
     "iopub.status.busy": "2022-06-04T00:24:33.367997Z",
     "iopub.status.idle": "2022-06-04T00:24:33.422927Z",
     "shell.execute_reply": "2022-06-04T00:24:33.422224Z",
     "shell.execute_reply.started": "2022-06-04T00:24:33.368223Z"
    },
    "tags": []
   },
   "outputs": [
    {
     "data": {
      "application/vnd.jupyter.widget-view+json": {
       "model_id": "553f175538744f55a0820d04e86eb088",
       "version_major": 2,
       "version_minor": 0
      },
      "text/plain": [
       "VBox()"
      ]
     },
     "metadata": {},
     "output_type": "display_data"
    },
    {
     "data": {
      "application/vnd.jupyter.widget-view+json": {
       "model_id": "",
       "version_major": 2,
       "version_minor": 0
      },
      "text/plain": [
       "FloatProgress(value=0.0, bar_style='info', description='Progress:', layout=Layout(height='25px', width='50%'),…"
      ]
     },
     "metadata": {},
     "output_type": "display_data"
    },
    {
     "name": "stdout",
     "output_type": "stream",
     "text": [
      "DenseVector([1.0592, -0.1002, 0.0259, -2.287, 1.0431, -31.2387])"
     ]
    }
   ],
   "source": [
    "model.coefficients"
   ]
  },
  {
   "cell_type": "code",
   "execution_count": 44,
   "id": "a8fa150d-0a0e-4116-959b-6ac4ab4ecdb3",
   "metadata": {
    "execution": {
     "iopub.execute_input": "2022-06-04T00:24:48.812217Z",
     "iopub.status.busy": "2022-06-04T00:24:48.811873Z",
     "iopub.status.idle": "2022-06-04T00:24:51.144400Z",
     "shell.execute_reply": "2022-06-04T00:24:51.134792Z",
     "shell.execute_reply.started": "2022-06-04T00:24:48.812180Z"
    },
    "tags": []
   },
   "outputs": [
    {
     "data": {
      "application/vnd.jupyter.widget-view+json": {
       "model_id": "2647e3cdf16d470c9fd0cc8d52475e12",
       "version_major": 2,
       "version_minor": 0
      },
      "text/plain": [
       "VBox()"
      ]
     },
     "metadata": {},
     "output_type": "display_data"
    },
    {
     "data": {
      "application/vnd.jupyter.widget-view+json": {
       "model_id": "",
       "version_major": 2,
       "version_minor": 0
      },
      "text/plain": [
       "FloatProgress(value=0.0, bar_style='info', description='Progress:', layout=Layout(height='25px', width='50%'),…"
      ]
     },
     "metadata": {},
     "output_type": "display_data"
    },
    {
     "data": {
      "image/png": "[encoded data removed]",
      "text/plain": [
       "<IPython.core.display.Image object>"
      ]
     },
     "metadata": {},
     "output_type": "display_data"
    }
   ],
   "source": [
    "import matplotlib.pyplot as plt\n",
    "\n",
    "# Get ROC curve and send it to Pandas so that we can plot it\n",
    "roc_df = evaluationSummary.roc.toPandas()\n",
    "\n",
    "plt.plot(roc_df.FPR, roc_df.TPR, 'b', label = 'AUC = %0.2f' % evaluationSummary.areaUnderROC)\n",
    "plt.legend(loc = 'lower right')\n",
    "plt.plot([0, 1], [0, 1],'r--')\n",
    "plt.xlim([0, 1])\n",
    "plt.ylim([0, 1])\n",
    "plt.ylabel('True Positive Rate')\n",
    "plt.xlabel('False Positive Rate')\n",
    "plt.title('ROC Curve')\n",
    "plt.show()\n",
    "\n",
    "%matplot plt"
   ]
  },
  {
   "cell_type": "markdown",
   "id": "db5c53c4-bda1-4c5d-b725-c8397e5fa070",
   "metadata": {},
   "source": [
    "## Random Forest Model"
   ]
  },
  {
   "cell_type": "code",
   "execution_count": 98,
   "id": "3cd395e7-9406-4734-b65c-4d8c2d7c4f08",
   "metadata": {
    "execution": {
     "iopub.execute_input": "2022-06-04T00:50:47.232322Z",
     "iopub.status.busy": "2022-06-04T00:50:47.232097Z",
     "iopub.status.idle": "2022-06-04T00:50:47.298513Z",
     "shell.execute_reply": "2022-06-04T00:50:47.297969Z",
     "shell.execute_reply.started": "2022-06-04T00:50:47.232299Z"
    },
    "tags": []
   },
   "outputs": [
    {
     "data": {
      "application/vnd.jupyter.widget-view+json": {
       "model_id": "3bb13428b4f14847a787c3bbf6cde142",
       "version_major": 2,
       "version_minor": 0
      },
      "text/plain": [
       "VBox()"
      ]
     },
     "metadata": {},
     "output_type": "display_data"
    },
    {
     "data": {
      "application/vnd.jupyter.widget-view+json": {
       "model_id": "",
       "version_major": 2,
       "version_minor": 0
      },
      "text/plain": [
       "FloatProgress(value=0.0, bar_style='info', description='Progress:', layout=Layout(height='25px', width='50%'),…"
      ]
     },
     "metadata": {},
     "output_type": "display_data"
    }
   ],
   "source": [
    "from pyspark.ml.classification import RandomForestClassifier\n",
    "\n",
    "rf = RandomForestClassifier(labelCol='sentiment_code', \n",
    "                            featuresCol='normFeatures',\n",
    "                            maxDepth=30)"
   ]
  },
  {
   "cell_type": "code",
   "execution_count": 99,
   "id": "3566be98-ca2a-4fb9-90bf-8b3ee5eb6eca",
   "metadata": {
    "execution": {
     "iopub.execute_input": "2022-06-04T00:50:47.354804Z",
     "iopub.status.busy": "2022-06-04T00:50:47.354635Z",
     "iopub.status.idle": "2022-06-04T00:50:47.404017Z",
     "shell.execute_reply": "2022-06-04T00:50:47.403530Z",
     "shell.execute_reply.started": "2022-06-04T00:50:47.354783Z"
    },
    "tags": []
   },
   "outputs": [
    {
     "data": {
      "application/vnd.jupyter.widget-view+json": {
       "model_id": "eb76a207c122467c92d2f8df7de9b2d9",
       "version_major": 2,
       "version_minor": 0
      },
      "text/plain": [
       "VBox()"
      ]
     },
     "metadata": {},
     "output_type": "display_data"
    },
    {
     "data": {
      "application/vnd.jupyter.widget-view+json": {
       "model_id": "",
       "version_major": 2,
       "version_minor": 0
      },
      "text/plain": [
       "FloatProgress(value=0.0, bar_style='info', description='Progress:', layout=Layout(height='25px', width='50%'),…"
      ]
     },
     "metadata": {},
     "output_type": "display_data"
    }
   ],
   "source": [
    "# Create a BinaryClassificationEvaluator\n",
    "evaluator = evals.BinaryClassificationEvaluator(labelCol= 'sentiment_code',metricName=\"areaUnderROC\")"
   ]
  },
  {
   "cell_type": "code",
   "execution_count": 115,
   "id": "93de4780-95b9-49aa-b663-b55fab03bfd6",
   "metadata": {
    "execution": {
     "iopub.execute_input": "2022-06-04T00:54:20.592775Z",
     "iopub.status.busy": "2022-06-04T00:54:20.592551Z",
     "iopub.status.idle": "2022-06-04T00:55:00.267799Z",
     "shell.execute_reply": "2022-06-04T00:55:00.267219Z",
     "shell.execute_reply.started": "2022-06-04T00:54:20.592753Z"
    },
    "tags": []
   },
   "outputs": [
    {
     "data": {
      "application/vnd.jupyter.widget-view+json": {
       "model_id": "8a1cf81b3719454da992392a281ed615",
       "version_major": 2,
       "version_minor": 0
      },
      "text/plain": [
       "VBox()"
      ]
     },
     "metadata": {},
     "output_type": "display_data"
    },
    {
     "data": {
      "application/vnd.jupyter.widget-view+json": {
       "model_id": "",
       "version_major": 2,
       "version_minor": 0
      },
      "text/plain": [
       "FloatProgress(value=0.0, bar_style='info', description='Progress:', layout=Layout(height='25px', width='50%'),…"
      ]
     },
     "metadata": {},
     "output_type": "display_data"
    }
   ],
   "source": [
    "model = rf.fit(training)"
   ]
  },
  {
   "cell_type": "code",
   "execution_count": 116,
   "id": "e74c2834-e581-452a-8c77-61e75d72c999",
   "metadata": {
    "execution": {
     "iopub.execute_input": "2022-06-04T00:55:00.269293Z",
     "iopub.status.busy": "2022-06-04T00:55:00.269043Z",
     "iopub.status.idle": "2022-06-04T00:55:00.918373Z",
     "shell.execute_reply": "2022-06-04T00:55:00.917690Z",
     "shell.execute_reply.started": "2022-06-04T00:55:00.269259Z"
    },
    "tags": []
   },
   "outputs": [
    {
     "data": {
      "application/vnd.jupyter.widget-view+json": {
       "model_id": "95bbb0b70ae440a99d971101dd04f59f",
       "version_major": 2,
       "version_minor": 0
      },
      "text/plain": [
       "VBox()"
      ]
     },
     "metadata": {},
     "output_type": "display_data"
    },
    {
     "data": {
      "application/vnd.jupyter.widget-view+json": {
       "model_id": "",
       "version_major": 2,
       "version_minor": 0
      },
      "text/plain": [
       "FloatProgress(value=0.0, bar_style='info', description='Progress:', layout=Layout(height='25px', width='50%'),…"
      ]
     },
     "metadata": {},
     "output_type": "display_data"
    }
   ],
   "source": [
    "train_predictions = model.transform(training)\n",
    "test_predictions = model.transform(test)"
   ]
  },
  {
   "cell_type": "code",
   "execution_count": 117,
   "id": "13621d07-8efe-4e11-9e5f-3b17f041adab",
   "metadata": {
    "execution": {
     "iopub.execute_input": "2022-06-04T00:55:00.920011Z",
     "iopub.status.busy": "2022-06-04T00:55:00.919770Z",
     "iopub.status.idle": "2022-06-04T00:55:12.317435Z",
     "shell.execute_reply": "2022-06-04T00:55:12.316712Z",
     "shell.execute_reply.started": "2022-06-04T00:55:00.919976Z"
    },
    "tags": []
   },
   "outputs": [
    {
     "data": {
      "application/vnd.jupyter.widget-view+json": {
       "model_id": "3c2c4dd8425848d28eaf23e3cb8f5acf",
       "version_major": 2,
       "version_minor": 0
      },
      "text/plain": [
       "VBox()"
      ]
     },
     "metadata": {},
     "output_type": "display_data"
    },
    {
     "data": {
      "application/vnd.jupyter.widget-view+json": {
       "model_id": "",
       "version_major": 2,
       "version_minor": 0
      },
      "text/plain": [
       "FloatProgress(value=0.0, bar_style='info', description='Progress:', layout=Layout(height='25px', width='50%'),…"
      ]
     },
     "metadata": {},
     "output_type": "display_data"
    },
    {
     "name": "stdout",
     "output_type": "stream",
     "text": [
      "Train AUC =  0.7768355961835591\n",
      "Test AUC =  0.5375518659508722"
     ]
    }
   ],
   "source": [
    "rf_train_auc = evaluator.evaluate(train_predictions)\n",
    "print('Train AUC = ', rf_train_auc)\n",
    "rf_test_auc = evaluator.evaluate(test_predictions)\n",
    "print('Test AUC = ', rf_test_auc)"
   ]
  },
  {
   "cell_type": "markdown",
   "id": "9ad41a69-2408-4fab-bdd1-3cdb28b3e499",
   "metadata": {},
   "source": [
    "## Gaussian Naive Bayes Model"
   ]
  },
  {
   "cell_type": "code",
   "execution_count": 103,
   "id": "8d422819-4e41-4390-8982-f2e7675225d9",
   "metadata": {
    "execution": {
     "iopub.execute_input": "2022-06-04T00:51:39.393382Z",
     "iopub.status.busy": "2022-06-04T00:51:39.393211Z",
     "iopub.status.idle": "2022-06-04T00:51:39.499973Z",
     "shell.execute_reply": "2022-06-04T00:51:39.499408Z",
     "shell.execute_reply.started": "2022-06-04T00:51:39.393360Z"
    },
    "tags": []
   },
   "outputs": [
    {
     "data": {
      "application/vnd.jupyter.widget-view+json": {
       "model_id": "06ddcb63fb2947d7961aad93d1c80493",
       "version_major": 2,
       "version_minor": 0
      },
      "text/plain": [
       "VBox()"
      ]
     },
     "metadata": {},
     "output_type": "display_data"
    },
    {
     "data": {
      "application/vnd.jupyter.widget-view+json": {
       "model_id": "",
       "version_major": 2,
       "version_minor": 0
      },
      "text/plain": [
       "FloatProgress(value=0.0, bar_style='info', description='Progress:', layout=Layout(height='25px', width='50%'),…"
      ]
     },
     "metadata": {},
     "output_type": "display_data"
    }
   ],
   "source": [
    "from pyspark.ml.classification import NaiveBayes\n",
    "\n",
    "nb = NaiveBayes(smoothing=1.0, modelType=\"gaussian\", labelCol='sentiment_code', featuresCol='normFeatures')"
   ]
  },
  {
   "cell_type": "code",
   "execution_count": 104,
   "id": "b0557e9d-d1c3-4a5b-a9f2-3ca9bfdc5861",
   "metadata": {
    "execution": {
     "iopub.execute_input": "2022-06-04T00:51:39.501009Z",
     "iopub.status.busy": "2022-06-04T00:51:39.500830Z",
     "iopub.status.idle": "2022-06-04T00:51:46.836435Z",
     "shell.execute_reply": "2022-06-04T00:51:46.835841Z",
     "shell.execute_reply.started": "2022-06-04T00:51:39.500980Z"
    },
    "tags": []
   },
   "outputs": [
    {
     "data": {
      "application/vnd.jupyter.widget-view+json": {
       "model_id": "f1330aeaa56d4e758249c2f0cfd20c6b",
       "version_major": 2,
       "version_minor": 0
      },
      "text/plain": [
       "VBox()"
      ]
     },
     "metadata": {},
     "output_type": "display_data"
    },
    {
     "data": {
      "application/vnd.jupyter.widget-view+json": {
       "model_id": "",
       "version_major": 2,
       "version_minor": 0
      },
      "text/plain": [
       "FloatProgress(value=0.0, bar_style='info', description='Progress:', layout=Layout(height='25px', width='50%'),…"
      ]
     },
     "metadata": {},
     "output_type": "display_data"
    }
   ],
   "source": [
    "model = nb.fit(training)"
   ]
  },
  {
   "cell_type": "code",
   "execution_count": 105,
   "id": "f3d6259b-fc71-4d9b-b267-e272c92b8f96",
   "metadata": {
    "execution": {
     "iopub.execute_input": "2022-06-04T00:51:46.837792Z",
     "iopub.status.busy": "2022-06-04T00:51:46.837503Z",
     "iopub.status.idle": "2022-06-04T00:51:47.246125Z",
     "shell.execute_reply": "2022-06-04T00:51:47.245427Z",
     "shell.execute_reply.started": "2022-06-04T00:51:46.837742Z"
    },
    "tags": []
   },
   "outputs": [
    {
     "data": {
      "application/vnd.jupyter.widget-view+json": {
       "model_id": "8b9aed590bfc4a43a60687109e7221c0",
       "version_major": 2,
       "version_minor": 0
      },
      "text/plain": [
       "VBox()"
      ]
     },
     "metadata": {},
     "output_type": "display_data"
    },
    {
     "data": {
      "application/vnd.jupyter.widget-view+json": {
       "model_id": "",
       "version_major": 2,
       "version_minor": 0
      },
      "text/plain": [
       "FloatProgress(value=0.0, bar_style='info', description='Progress:', layout=Layout(height='25px', width='50%'),…"
      ]
     },
     "metadata": {},
     "output_type": "display_data"
    }
   ],
   "source": [
    "train_predictions = model.transform(training)\n",
    "test_predictions = model.transform(test)"
   ]
  },
  {
   "cell_type": "code",
   "execution_count": 106,
   "id": "2d378f04-c78b-48a0-b2c4-cab254a143e7",
   "metadata": {
    "execution": {
     "iopub.execute_input": "2022-06-04T00:51:47.247054Z",
     "iopub.status.busy": "2022-06-04T00:51:47.246894Z",
     "iopub.status.idle": "2022-06-04T00:51:58.623138Z",
     "shell.execute_reply": "2022-06-04T00:51:58.622534Z",
     "shell.execute_reply.started": "2022-06-04T00:51:47.247032Z"
    },
    "tags": []
   },
   "outputs": [
    {
     "data": {
      "application/vnd.jupyter.widget-view+json": {
       "model_id": "e0e93401e16c4cf4b606d08d2518b0d8",
       "version_major": 2,
       "version_minor": 0
      },
      "text/plain": [
       "VBox()"
      ]
     },
     "metadata": {},
     "output_type": "display_data"
    },
    {
     "data": {
      "application/vnd.jupyter.widget-view+json": {
       "model_id": "",
       "version_major": 2,
       "version_minor": 0
      },
      "text/plain": [
       "FloatProgress(value=0.0, bar_style='info', description='Progress:', layout=Layout(height='25px', width='50%'),…"
      ]
     },
     "metadata": {},
     "output_type": "display_data"
    },
    {
     "name": "stdout",
     "output_type": "stream",
     "text": [
      "Train AUC =  0.4916164094835881\n",
      "Test AUC =  0.48279293184875227"
     ]
    }
   ],
   "source": [
    "nb_train_auc = evaluator.evaluate(train_predictions)\n",
    "print('Train AUC = ', nb_train_auc)\n",
    "nb_test_auc = evaluator.evaluate(test_predictions)\n",
    "print('Test AUC = ', nb_test_auc)"
   ]
  },
  {
   "cell_type": "markdown",
   "id": "b8ed8e0f-45ab-4014-b427-8d3c0f18a517",
   "metadata": {},
   "source": [
    "## Gradient Boost Tree Model"
   ]
  },
  {
   "cell_type": "code",
   "execution_count": 107,
   "id": "7d12046e-00c4-4ffe-920f-4cf2adb20304",
   "metadata": {
    "execution": {
     "iopub.execute_input": "2022-06-04T00:51:58.624665Z",
     "iopub.status.busy": "2022-06-04T00:51:58.624470Z",
     "iopub.status.idle": "2022-06-04T00:51:58.890113Z",
     "shell.execute_reply": "2022-06-04T00:51:58.889513Z",
     "shell.execute_reply.started": "2022-06-04T00:51:58.624643Z"
    },
    "tags": []
   },
   "outputs": [
    {
     "data": {
      "application/vnd.jupyter.widget-view+json": {
       "model_id": "21b1de92b2da4eaebc529869640a54b3",
       "version_major": 2,
       "version_minor": 0
      },
      "text/plain": [
       "VBox()"
      ]
     },
     "metadata": {},
     "output_type": "display_data"
    },
    {
     "data": {
      "application/vnd.jupyter.widget-view+json": {
       "model_id": "",
       "version_major": 2,
       "version_minor": 0
      },
      "text/plain": [
       "FloatProgress(value=0.0, bar_style='info', description='Progress:', layout=Layout(height='25px', width='50%'),…"
      ]
     },
     "metadata": {},
     "output_type": "display_data"
    }
   ],
   "source": [
    "from pyspark.ml.classification import GBTClassifier\n",
    "\n",
    "gbt = GBTClassifier(labelCol=\"sentiment_code\", featuresCol=\"normFeatures\", maxIter=30)"
   ]
  },
  {
   "cell_type": "code",
   "execution_count": 108,
   "id": "bb198449-243e-45f7-899b-acb5c27d4ee2",
   "metadata": {
    "execution": {
     "iopub.execute_input": "2022-06-04T00:51:58.891334Z",
     "iopub.status.busy": "2022-06-04T00:51:58.891058Z",
     "iopub.status.idle": "2022-06-04T00:52:32.337215Z",
     "shell.execute_reply": "2022-06-04T00:52:32.326983Z",
     "shell.execute_reply.started": "2022-06-04T00:51:58.891310Z"
    },
    "tags": []
   },
   "outputs": [
    {
     "data": {
      "application/vnd.jupyter.widget-view+json": {
       "model_id": "f0d591448a3743b4a652db456969999d",
       "version_major": 2,
       "version_minor": 0
      },
      "text/plain": [
       "VBox()"
      ]
     },
     "metadata": {},
     "output_type": "display_data"
    },
    {
     "data": {
      "application/vnd.jupyter.widget-view+json": {
       "model_id": "",
       "version_major": 2,
       "version_minor": 0
      },
      "text/plain": [
       "FloatProgress(value=0.0, bar_style='info', description='Progress:', layout=Layout(height='25px', width='50%'),…"
      ]
     },
     "metadata": {},
     "output_type": "display_data"
    }
   ],
   "source": [
    "model = gbt.fit(training)"
   ]
  },
  {
   "cell_type": "code",
   "execution_count": 109,
   "id": "7add8188-6e00-4d3a-85cf-2c30bd5febca",
   "metadata": {
    "execution": {
     "iopub.execute_input": "2022-06-04T00:52:32.385512Z",
     "iopub.status.busy": "2022-06-04T00:52:32.382417Z",
     "iopub.status.idle": "2022-06-04T00:52:35.004068Z",
     "shell.execute_reply": "2022-06-04T00:52:35.003452Z",
     "shell.execute_reply.started": "2022-06-04T00:52:32.385475Z"
    },
    "tags": []
   },
   "outputs": [
    {
     "data": {
      "application/vnd.jupyter.widget-view+json": {
       "model_id": "c217c0cfc905409099d5c2f571612e4e",
       "version_major": 2,
       "version_minor": 0
      },
      "text/plain": [
       "VBox()"
      ]
     },
     "metadata": {},
     "output_type": "display_data"
    },
    {
     "data": {
      "application/vnd.jupyter.widget-view+json": {
       "model_id": "",
       "version_major": 2,
       "version_minor": 0
      },
      "text/plain": [
       "FloatProgress(value=0.0, bar_style='info', description='Progress:', layout=Layout(height='25px', width='50%'),…"
      ]
     },
     "metadata": {},
     "output_type": "display_data"
    }
   ],
   "source": [
    "train_predictions = model.transform(training)\n",
    "test_predictions = model.transform(test)"
   ]
  },
  {
   "cell_type": "code",
   "execution_count": 110,
   "id": "bfb10acc-e5ab-4f40-ac5f-3b42cc688237",
   "metadata": {
    "execution": {
     "iopub.execute_input": "2022-06-04T00:52:35.005327Z",
     "iopub.status.busy": "2022-06-04T00:52:35.005091Z",
     "iopub.status.idle": "2022-06-04T00:52:46.579531Z",
     "shell.execute_reply": "2022-06-04T00:52:46.569148Z",
     "shell.execute_reply.started": "2022-06-04T00:52:35.005293Z"
    },
    "tags": []
   },
   "outputs": [
    {
     "data": {
      "application/vnd.jupyter.widget-view+json": {
       "model_id": "330decd79b7e451e814b6ad6d5b278ae",
       "version_major": 2,
       "version_minor": 0
      },
      "text/plain": [
       "VBox()"
      ]
     },
     "metadata": {},
     "output_type": "display_data"
    },
    {
     "data": {
      "application/vnd.jupyter.widget-view+json": {
       "model_id": "",
       "version_major": 2,
       "version_minor": 0
      },
      "text/plain": [
       "FloatProgress(value=0.0, bar_style='info', description='Progress:', layout=Layout(height='25px', width='50%'),…"
      ]
     },
     "metadata": {},
     "output_type": "display_data"
    },
    {
     "name": "stdout",
     "output_type": "stream",
     "text": [
      "Train AUC =  0.6118292935499208\n",
      "Test AUC =  0.552744904560086"
     ]
    }
   ],
   "source": [
    "gbt_train_auc = evaluator.evaluate(train_predictions)\n",
    "print('Train AUC = ', gbt_train_auc)\n",
    "gbt_test_auc = evaluator.evaluate(test_predictions)\n",
    "print('Test AUC = ', gbt_test_auc)"
   ]
  },
  {
   "cell_type": "markdown",
   "id": "572994cb-5c3a-4ba3-b723-25f34a126e51",
   "metadata": {},
   "source": [
    "## Linear Support Vector Classifer Model"
   ]
  },
  {
   "cell_type": "code",
   "execution_count": 111,
   "id": "e50da5df-acb0-4b56-9a36-880d14ea4498",
   "metadata": {
    "execution": {
     "iopub.execute_input": "2022-06-04T00:52:46.586557Z",
     "iopub.status.busy": "2022-06-04T00:52:46.585851Z",
     "iopub.status.idle": "2022-06-04T00:52:46.876276Z",
     "shell.execute_reply": "2022-06-04T00:52:46.796787Z",
     "shell.execute_reply.started": "2022-06-04T00:52:46.586512Z"
    },
    "tags": []
   },
   "outputs": [
    {
     "data": {
      "application/vnd.jupyter.widget-view+json": {
       "model_id": "e44b7f62bc10431d87f1b1e81d355171",
       "version_major": 2,
       "version_minor": 0
      },
      "text/plain": [
       "VBox()"
      ]
     },
     "metadata": {},
     "output_type": "display_data"
    },
    {
     "data": {
      "application/vnd.jupyter.widget-view+json": {
       "model_id": "",
       "version_major": 2,
       "version_minor": 0
      },
      "text/plain": [
       "FloatProgress(value=0.0, bar_style='info', description='Progress:', layout=Layout(height='25px', width='50%'),…"
      ]
     },
     "metadata": {},
     "output_type": "display_data"
    }
   ],
   "source": [
    "from pyspark.ml.classification import LinearSVC\n",
    "\n",
    "lsvc = LinearSVC(labelCol=\"sentiment_code\", featuresCol=\"normFeatures\",maxIter=30, regParam=0.1)"
   ]
  },
  {
   "cell_type": "code",
   "execution_count": 112,
   "id": "f88cff68-d946-4f36-8b1c-48f68923eac7",
   "metadata": {
    "execution": {
     "iopub.execute_input": "2022-06-04T00:52:46.882335Z",
     "iopub.status.busy": "2022-06-04T00:52:46.882078Z",
     "iopub.status.idle": "2022-06-04T00:53:10.676517Z",
     "shell.execute_reply": "2022-06-04T00:53:09.928560Z",
     "shell.execute_reply.started": "2022-06-04T00:52:46.882298Z"
    },
    "tags": []
   },
   "outputs": [
    {
     "data": {
      "application/vnd.jupyter.widget-view+json": {
       "model_id": "5fac5c76ee5d4fc08e022c4a5a030b42",
       "version_major": 2,
       "version_minor": 0
      },
      "text/plain": [
       "VBox()"
      ]
     },
     "metadata": {},
     "output_type": "display_data"
    },
    {
     "data": {
      "application/vnd.jupyter.widget-view+json": {
       "model_id": "",
       "version_major": 2,
       "version_minor": 0
      },
      "text/plain": [
       "FloatProgress(value=0.0, bar_style='info', description='Progress:', layout=Layout(height='25px', width='50%'),…"
      ]
     },
     "metadata": {},
     "output_type": "display_data"
    }
   ],
   "source": [
    "model = lsvc.fit(training)"
   ]
  },
  {
   "cell_type": "code",
   "execution_count": 113,
   "id": "9279085d-5f77-4668-bd4c-49132f32478f",
   "metadata": {
    "execution": {
     "iopub.execute_input": "2022-06-04T00:53:10.695217Z",
     "iopub.status.busy": "2022-06-04T00:53:10.694947Z",
     "iopub.status.idle": "2022-06-04T00:53:12.935275Z",
     "shell.execute_reply": "2022-06-04T00:53:12.931013Z",
     "shell.execute_reply.started": "2022-06-04T00:53:10.695180Z"
    },
    "tags": []
   },
   "outputs": [
    {
     "data": {
      "application/vnd.jupyter.widget-view+json": {
       "model_id": "66ac767938564133877201260d3c1c68",
       "version_major": 2,
       "version_minor": 0
      },
      "text/plain": [
       "VBox()"
      ]
     },
     "metadata": {},
     "output_type": "display_data"
    },
    {
     "data": {
      "application/vnd.jupyter.widget-view+json": {
       "model_id": "",
       "version_major": 2,
       "version_minor": 0
      },
      "text/plain": [
       "FloatProgress(value=0.0, bar_style='info', description='Progress:', layout=Layout(height='25px', width='50%'),…"
      ]
     },
     "metadata": {},
     "output_type": "display_data"
    }
   ],
   "source": [
    "train_predictions = model.transform(training)\n",
    "test_predictions = model.transform(test)"
   ]
  },
  {
   "cell_type": "code",
   "execution_count": 114,
   "id": "0d4f2c3d-bc96-4672-ae24-865d2621b9e6",
   "metadata": {
    "execution": {
     "iopub.execute_input": "2022-06-04T00:53:12.946729Z",
     "iopub.status.busy": "2022-06-04T00:53:12.946552Z",
     "iopub.status.idle": "2022-06-04T00:53:24.691535Z",
     "shell.execute_reply": "2022-06-04T00:53:24.667718Z",
     "shell.execute_reply.started": "2022-06-04T00:53:12.946707Z"
    },
    "tags": []
   },
   "outputs": [
    {
     "data": {
      "application/vnd.jupyter.widget-view+json": {
       "model_id": "5f9ff9d3509546b68b9a60f765460326",
       "version_major": 2,
       "version_minor": 0
      },
      "text/plain": [
       "VBox()"
      ]
     },
     "metadata": {},
     "output_type": "display_data"
    },
    {
     "data": {
      "application/vnd.jupyter.widget-view+json": {
       "model_id": "",
       "version_major": 2,
       "version_minor": 0
      },
      "text/plain": [
       "FloatProgress(value=0.0, bar_style='info', description='Progress:', layout=Layout(height='25px', width='50%'),…"
      ]
     },
     "metadata": {},
     "output_type": "display_data"
    },
    {
     "name": "stdout",
     "output_type": "stream",
     "text": [
      "Train AUC =  0.5142685737762959\n",
      "Test AUC =  0.5284730493986444"
     ]
    }
   ],
   "source": [
    "lsvc_train_auc = evaluator.evaluate(train_predictions)\n",
    "print('Train AUC = ', lsvc_train_auc)\n",
    "lsvc_test_auc = evaluator.evaluate(test_predictions)\n",
    "print('Test AUC = ', lsvc_test_auc)"
   ]
  },
  {
   "cell_type": "markdown",
   "id": "fff68517-22d8-4a34-ac16-417b21ce2b10",
   "metadata": {},
   "source": [
    "## Compare Model Performance"
   ]
  },
  {
   "cell_type": "code",
   "execution_count": 121,
   "id": "a3aa64e4-85ca-45c8-bbc8-31720842a3b0",
   "metadata": {
    "execution": {
     "iopub.execute_input": "2022-06-04T00:57:08.021361Z",
     "iopub.status.busy": "2022-06-04T00:57:08.021142Z",
     "iopub.status.idle": "2022-06-04T00:57:08.077888Z",
     "shell.execute_reply": "2022-06-04T00:57:08.077249Z",
     "shell.execute_reply.started": "2022-06-04T00:57:08.021338Z"
    },
    "tags": []
   },
   "outputs": [
    {
     "data": {
      "application/vnd.jupyter.widget-view+json": {
       "model_id": "e3f0da9e750342adb31a01f32240e66a",
       "version_major": 2,
       "version_minor": 0
      },
      "text/plain": [
       "VBox()"
      ]
     },
     "metadata": {},
     "output_type": "display_data"
    },
    {
     "data": {
      "application/vnd.jupyter.widget-view+json": {
       "model_id": "",
       "version_major": 2,
       "version_minor": 0
      },
      "text/plain": [
       "FloatProgress(value=0.0, bar_style='info', description='Progress:', layout=Layout(height='25px', width='50%'),…"
      ]
     },
     "metadata": {},
     "output_type": "display_data"
    }
   ],
   "source": [
    "x = ['LR', 'RF', 'GNB', 'GBT', 'SVC']\n",
    "y_train = [trainingSummary.areaUnderROC, rf_train_auc, nb_train_auc, gbt_train_auc, lsvc_train_auc]\n",
    "y_test = [evaluationSummary.areaUnderROC, rf_test_auc, nb_test_auc, gbt_test_auc, lsvc_test_auc]"
   ]
  },
  {
   "cell_type": "code",
   "execution_count": 147,
   "id": "b4593cd1-44c7-40ac-a4e1-79c88f0dc3e3",
   "metadata": {
    "execution": {
     "iopub.execute_input": "2022-06-04T01:03:18.146052Z",
     "iopub.status.busy": "2022-06-04T01:03:18.145796Z",
     "iopub.status.idle": "2022-06-04T01:03:18.416429Z",
     "shell.execute_reply": "2022-06-04T01:03:18.415889Z",
     "shell.execute_reply.started": "2022-06-04T01:03:18.146028Z"
    },
    "tags": []
   },
   "outputs": [
    {
     "data": {
      "application/vnd.jupyter.widget-view+json": {
       "model_id": "70b08f46b1384495bc96333fe6b16890",
       "version_major": 2,
       "version_minor": 0
      },
      "text/plain": [
       "VBox()"
      ]
     },
     "metadata": {},
     "output_type": "display_data"
    },
    {
     "data": {
      "application/vnd.jupyter.widget-view+json": {
       "model_id": "",
       "version_major": 2,
       "version_minor": 0
      },
      "text/plain": [
       "FloatProgress(value=0.0, bar_style='info', description='Progress:', layout=Layout(height='25px', width='50%'),…"
      ]
     },
     "metadata": {},
     "output_type": "display_data"
    },
    {
     "data": {
      "image/png": "[encoded data removed]",
      "text/plain": [
       "<IPython.core.display.Image object>"
      ]
     },
     "metadata": {},
     "output_type": "display_data"
    }
   ],
   "source": [
    "import matplotlib.pyplot as plt\n",
    "\n",
    "plt.subplot(121)\n",
    "plt.bar(x, y_train)\n",
    "plt.xlabel('models')\n",
    "plt.ylabel('AUC')\n",
    "plt.title('training AUC')\n",
    "plt.show()\n",
    "\n",
    "plt.subplot(122)\n",
    "plt.bar(x, y_test)\n",
    "plt.xlabel('models')\n",
    "plt.title('test AUC')\n",
    "plt.show()\n",
    "\n",
    "%matplot plt"
   ]
  },
  {
   "cell_type": "markdown",
   "id": "e6d4073a-bd62-4201-8adf-51059b3a13c4",
   "metadata": {},
   "source": [
    "## Alternative pipelines"
   ]
  },
  {
   "cell_type": "markdown",
   "id": "aad6aebd-e987-4ad9-baf6-13f0e9359ca4",
   "metadata": {},
   "source": [
    "### Emotion"
   ]
  },
  {
   "cell_type": "code",
   "execution_count": null,
   "id": "68e305d0-54b4-43dd-b3a8-51656239e3e7",
   "metadata": {},
   "outputs": [],
   "source": [
    "document_assembler = DocumentAssembler() \\\n",
    "    .setInputCol('text') \\\n",
    "    .setOutputCol('document')\n",
    "\n",
    "tokenizer = Tokenizer() \\\n",
    "    .setInputCols(['document']) \\\n",
    "    .setOutputCol('tokens')\n",
    "\n",
    "sequenceClassifier = BertForSequenceClassification \\\n",
    "      .pretrained('bert_sequence_classifier_emotion', 'en') \\\n",
    "      .setInputCols(['tokens', 'document']) \\\n",
    "      .setOutputCol('class')\n",
    "\n",
    "finisher_emo = Finisher()\\\n",
    "      .setInputCols(\"class\")\\\n",
    "      .setOutputCols(\"emotion\")\\\n",
    "      .setOutputAsArray(False)\n",
    "\n",
    "\n",
    "emotion_pipeline = Pipeline(stages=[document_assembler, tokenizer, sequenceClassifier, finisher])"
   ]
  },
  {
   "cell_type": "markdown",
   "id": "fd821d16-4890-4e24-bf0d-6293ec17ef73",
   "metadata": {},
   "source": [
    "### Sentiment"
   ]
  },
  {
   "cell_type": "code",
   "execution_count": null,
   "id": "79908f9e-fdb8-4a4b-818d-43a64eb889e1",
   "metadata": {},
   "outputs": [],
   "source": [
    "embeddings = WordEmbeddingsModel().pretrained(\"glove_100d)\\\n",
    "    .setInputCols(['document','tokens'])\\\n",
    "    .setOutputCol('word_embeddings')\n",
    "sentence_embeddings = SentenceEmbeddings() \\\n",
    "      .setInputCols([\"document\", \"word_embeddings\"]) \\\n",
    "      .setOutputCol(\"sentence_embeddings\") \\\n",
    "      .setPoolingStrategy(\"AVERAGE\")\n",
    "classifier = SentimentDLModel().pretrained('sentimentdl_glove_imdb')\\\n",
    "    .setInputCols([\"sentence_embeddings\"])\\\n",
    "    .setOutputCol(\"sentiment\")\n",
    "finisher_sent = Finisher()\\\n",
    "    .setInputCols(\"sentiment\")\\\n",
    "    .setOutputCols(\"final_sentiment\")\\\n",
    "    .setOutputAsArray(False)\n",
    "                                        \n",
    "                                              \n",
    "nlp_pipeline = Pipeline(stages=[document_assembler, sentencer, tokenizer, embeddings, sentence_embeddings, classifier])"
   ]
  }
 ],
 "metadata": {
  "kernelspec": {
   "display_name": "PySpark",
   "language": "",
   "name": "pysparkkernel"
  },
  "language_info": {
   "codemirror_mode": {
    "name": "python",
    "version": 3
   },
   "mimetype": "text/x-python",
   "name": "pyspark",
   "pygments_lexer": "python3"
  }
 },
 "nbformat": 4,
 "nbformat_minor": 5
}
